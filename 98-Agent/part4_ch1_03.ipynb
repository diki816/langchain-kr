{
 "cells": [
  {
   "cell_type": "markdown",
   "metadata": {},
   "source": [
    "Perplexity 에이전트 시스템"
   ]
  },
  {
   "cell_type": "code",
   "execution_count": 1,
   "metadata": {},
   "outputs": [],
   "source": [
    "# !pip install langchain_chroma pytube youtube-search youtbue-transcript-api next_asyncio wolframalpha arxiv"
   ]
  },
  {
   "cell_type": "code",
   "execution_count": 2,
   "metadata": {},
   "outputs": [
    {
     "data": {
      "text/plain": [
       "True"
      ]
     },
     "execution_count": 2,
     "metadata": {},
     "output_type": "execute_result"
    }
   ],
   "source": [
    "from dotenv import load_dotenv\n",
    "load_dotenv()"
   ]
  },
  {
   "cell_type": "markdown",
   "metadata": {},
   "source": [
    "WolframAlpha API 활용을 위한 비동기 설정\n",
    "- async 호출만 가능하므로 nest_asyncio이용"
   ]
  },
  {
   "cell_type": "code",
   "execution_count": 3,
   "metadata": {},
   "outputs": [],
   "source": [
    "import asyncio\n",
    "asyncio.set_event_loop_policy(asyncio.DefaultEventLoopPolicy())\n",
    "\n",
    "import nest_asyncio\n",
    "nest_asyncio.apply()"
   ]
  },
  {
   "cell_type": "code",
   "execution_count": 4,
   "metadata": {},
   "outputs": [],
   "source": [
    "from langchain_community.utilities.wolfram_alpha import WolframAlphaAPIWrapper\n",
    "wolfram = WolframAlphaAPIWrapper()"
   ]
  },
  {
   "cell_type": "code",
   "execution_count": 5,
   "metadata": {},
   "outputs": [],
   "source": [
    "from typing import Annotated, Literal\n",
    "from typing_extensions import TypedDict\n",
    "from langgraph.graph.message import add_messages\n",
    "\n",
    "class State(TypedDict):\n",
    "    messages: Annotated[list, add_messages]\n",
    "    focus: Literal[\"web\", \"academic\", \"video\", \"math\"]"
   ]
  },
  {
   "cell_type": "markdown",
   "metadata": {},
   "source": [
    "웹 검색, 눈문 검색, 수학 계산 도구 정의"
   ]
  },
  {
   "cell_type": "code",
   "execution_count": 6,
   "metadata": {},
   "outputs": [],
   "source": [
    "from langchain_community.tools.tavily_search import TavilySearchResults\n",
    "from langchain_community.utilities import ArxivAPIWrapper\n",
    "from langchain_community.tools import YouTubeSearchTool\n",
    "from langchain_community.utilities.wolfram_alpha import WolframAlphaAPIWrapper\n",
    "from langchain_core.tools import tool\n",
    "from langgraph.prebuilt import ToolNode\n",
    "import re\n",
    "\n",
    "web_tool = TavilySearchResults(max_results=3)\n",
    "\n",
    "@tool\n",
    "def academic_tool(query:str):\n",
    "    \"\"\"\n",
    "    academic paper search tool\n",
    "    \"\"\"\n",
    "    arxiv = ArxivAPIWrapper()\n",
    "    docs = arxiv.run(query)\n",
    "    return docs\n",
    "\n",
    "@tool\n",
    "def math_tool(query:str):\n",
    "    \"\"\"\n",
    "    math tool\n",
    "    \"\"\"\n",
    "    wolfram = WolframAlphaAPIWrapper()\n",
    "    result = wolfram.run(query)\n",
    "    return result"
   ]
  },
  {
   "cell_type": "code",
   "execution_count": 7,
   "metadata": {},
   "outputs": [
    {
     "data": {
      "text/plain": [
       "\"Published: 2024-12-13\\nTitle: DeepSeek-VL2: Mixture-of-Experts Vision-Language Models for Advanced Multimodal Understanding\\nAuthors: Zhiyu Wu, Xiaokang Chen, Zizheng Pan, Xingchao Liu, Wen Liu, Damai Dai, Huazuo Gao, Yiyang Ma, Chengyue Wu, Bingxuan Wang, Zhenda Xie, Yu Wu, Kai Hu, Jiawei Wang, Yaofeng Sun, Yukun Li, Yishi Piao, Kang Guan, Aixin Liu, Xin Xie, Yuxiang You, Kai Dong, Xingkai Yu, Haowei Zhang, Liang Zhao, Yisong Wang, Chong Ruan\\nSummary: We present DeepSeek-VL2, an advanced series of large Mixture-of-Experts (MoE)\\nVision-Language Models that significantly improves upon its predecessor,\\nDeepSeek-VL, through two key major upgrades. For the vision component, we\\nincorporate a dynamic tiling vision encoding strategy designed for processing\\nhigh-resolution images with different aspect ratios. For the language\\ncomponent, we leverage DeepSeekMoE models with the Multi-head Latent Attention\\nmechanism, which compresses Key-Value cache into latent vectors, to enable\\nefficient inference and high throughput. Trained on an improved vision-language\\ndataset, DeepSeek-VL2 demonstrates superior capabilities across various tasks,\\nincluding but not limited to visual question answering, optical character\\nrecognition, document/table/chart understanding, and visual grounding. Our\\nmodel series is composed of three variants: DeepSeek-VL2-Tiny,\\nDeepSeek-VL2-Small and DeepSeek-VL2, with 1.0B, 2.8B and 4.5B activated\\nparameters respectively. DeepSeek-VL2 achieves competitive or state-of-the-art\\nperformance with similar or fewer activated parameters compared to existing\\nopen-source dense and MoE-based models. Codes and pre-trained models are\\npublicly accessible at https://github.com/deepseek-ai/DeepSeek-VL2.\\n\\nPublished: 2025-01-30\\nTitle: Token-Hungry, Yet Precise: DeepSeek R1 Highlights the Need for Multi-Step Reasoning Over Speed in MATH\\nAuthors: Evgenii Evstafev\\nSummary: This study investigates the performance of the DeepSeek R1 language model on\\n30 challenging mathematical problems derived from the MATH dataset, problems\\nthat previously proved unsolvable by other models under time constraints.\\nUnlike prior work, this research removes time limitations to explore whether\\nDeepSeek R1's architecture, known for its reliance on token-based reasoning,\\ncan achieve accurate solutions through a multi-step process. The study compares\\nDeepSeek R1 with four other models (gemini-1.5-flash-8b,\\ngpt-4o-mini-2024-07-18, llama3.1:8b, and mistral-8b-latest) across 11\\ntemperature settings. Results demonstrate that DeepSeek R1 achieves superior\\naccuracy on these complex problems but generates significantly more tokens than\\nother models, confirming its token-intensive approach. The findings highlight a\\ntrade-off between accuracy and efficiency in mathematical problem-solving with\\nlarge language models: while DeepSeek R1 excels in accuracy, its reliance on\\nextensive token generation may not be optimal for applications requiring rapid\\nresponses. The study underscores the importance of considering task-specific\\nrequirements when selecting an LLM and emphasizes the role of temperature\\nsettings in optimizing performance.\\n\\nPublished: 2024-06-17\\nTitle: DeepSeek-Coder-V2: Breaking the Barrier of Closed-Source Models in Code Intelligence\\nAuthors: DeepSeek-AI, Qihao Zhu, Daya Guo, Zhihong Shao, Dejian Yang, Peiyi Wang, Runxin Xu, Y. Wu, Yukun Li, Huazuo Gao, Shirong Ma, Wangding Zeng, Xiao Bi, Zihui Gu, Hanwei Xu, Damai Dai, Kai Dong, Liyue Zhang, Yishi Piao, Zhibin Gou, Zhenda Xie, Zhewen Hao, Bingxuan Wang, Junxiao Song, Deli Chen, Xin Xie, Kang Guan, Yuxiang You, Aixin Liu, Qiushi Du, Wenjun Gao, Xuan Lu, Qinyu Chen, Yaohui Wang, Chengqi Deng, Jiashi Li, Chenggang Zhao, Chong Ruan, Fuli Luo, Wenfeng Liang\\nSummary: We present DeepSeek-Coder-V2, an open-source Mixture-of-Experts (MoE) code\\nlanguage model that achieves performance comparable to GPT4-Turbo in\\ncode-specific tasks. Specifically, DeepSeek-Coder-V2 is further pre-trained\\nfrom an intermediate checkpoint of DeepS\""
      ]
     },
     "execution_count": 7,
     "metadata": {},
     "output_type": "execute_result"
    }
   ],
   "source": [
    "# Test\n",
    "academic_tool.run(\"DeepSeek Principle\")"
   ]
  },
  {
   "cell_type": "code",
   "execution_count": 8,
   "metadata": {},
   "outputs": [
    {
     "data": {
      "text/plain": [
       "'Assumption: 123×123^2 \\nAnswer: 1860867'"
      ]
     },
     "execution_count": 8,
     "metadata": {},
     "output_type": "execute_result"
    }
   ],
   "source": [
    "# Test\n",
    "math_tool.run(\"123*123^2\")"
   ]
  },
  {
   "cell_type": "code",
   "execution_count": 9,
   "metadata": {},
   "outputs": [],
   "source": [
    "from langchain_chroma import Chroma\n",
    "from langchain_openai import OpenAIEmbeddings\n",
    "from langchain_text_splitters import RecursiveCharacterTextSplitter\n",
    "from langchain_community.tools import YouTubeSearchTool\n",
    "from langchain_community.document_loaders import YoutubeLoader\n",
    "from langchain_core.documents import Document\n",
    "import ast\n",
    "\n",
    "youtube_search_tool = YouTubeSearchTool()\n",
    "\n",
    "@tool\n",
    "def video_tool(query: str) -> str:\n",
    "    \"\"\"\n",
    "    Retriever tool for the transcript for a YouTube video.\n",
    "    If user want to find some information, this tool is good to gather youtube video information.\n",
    "    query should be given in string format.\n",
    "    \"\"\"\n",
    "    urls = youtube_search_tool.run(query)\n",
    "    urls = ast.literal_eval(urls)\n",
    "    docs = []\n",
    "    for url in urls:\n",
    "        loader = YoutubeLoader.from_youtube_url(\n",
    "            url, add_video_info=True, language=[\"en\", \"ko\"]\n",
    "        )\n",
    "        scripts = loader.load()\n",
    "        script_content = scripts[0].page_content\n",
    "        # title = scripts[0].metadata['title']\n",
    "        # author = scripts[0].metadata['author']\n",
    "        author = \"Unknown\"\n",
    "        title = \"Unknown\"\n",
    "        doc = Document(page_content=script_content, metadata={\"source\": url, \"title\": title, \"author\":author})\n",
    "        docs.append(doc)\n",
    "\n",
    "    text_splitter = RecursiveCharacterTextSplitter(\n",
    "        separators = [\"\\n\\n\", \"\\n\", \".\", \",\", \" \", \"\"],\n",
    "        chunk_size = 1000, chunk_overlap=0\n",
    "    )\n",
    "    texts = text_splitter.split_documents(docs)\n",
    "    embeddings = OpenAIEmbeddings()\n",
    "    db = Chroma.from_documents(texts, embeddings)\n",
    "    retriever = db.as_retriever()\n",
    "    retrieved_docs = retriever.invoke(query)\n",
    "\n",
    "    video_results = []\n",
    "    for doc in retrieved_docs:\n",
    "        title = doc.metadata.get('title', 'No title available')\n",
    "        author = doc.metadata.get('author', 'No author available')\n",
    "        script_content = doc.page_content\n",
    "\n",
    "        video_info = f\"\"\"\n",
    "        Video Information:\n",
    "        ------------------\n",
    "        Title: {title}\n",
    "        Author: {author}\n",
    "        Transcript: {script_content}\n",
    "        ------------------\n",
    "        \"\"\"\n",
    "        video_results.append(video_info)\n",
    "    \n",
    "    return \"\\n\\n\".join(video_results)"
   ]
  },
  {
   "cell_type": "code",
   "execution_count": 10,
   "metadata": {},
   "outputs": [
    {
     "data": {
      "text/plain": [
       "'\\n        Video Information:\\n        ------------------\\n        Title: Unknown\\n        Author: Unknown\\n        Transcript: [음악] 구독과 좋아요 그리고 알림 설정은 제작자에게 매우 큰 힘이 됩니다 가수 아이유의 브랜드 평판 지수가 한 달 사이 19위에서 75위로 급락한 것은 단순한 숫자 변화 이상의 의미를 지닌다 아이유는 한때 국민여동생이라는 칭호로 사랑받았지만 이제는 인민 여동생이라는 비아냥 섞인 별칭을 듣는 지경에 이르렀다 그야말로 아에서 유로 전락한 것이다 이번 브랜드 평판지수의 급락은 그녀가 윤성열 대통령 탄핵 찬성 집회와 관련된 행동을 통해 보수 국민들의 정서를 정면으로 건드린 데서 비롯된 것이 아니겠냐는 분석이 나온다 아이유가 탄핵찬성 집회 주변 가게에 성결을 하며 간접적으로 탄핵 찬성을 지지하고 나아가 내란을 선동하는듯한 모습을 보였다는 것은 많은 국민들에게 실망을 안겨줬다가 아가 14일 윤대 탄핵을 촉구하는는 빵과 국밥 등을 준비했습니다 아의 소속사 이담 엔터테인먼트는 13일 날시에 아이크를 들고 집회 참석해 주변을 환히 밝히는 유아의 손이 조금이라도 따뜻해지길 바라며 먹거리와 핫팩을 준비했다고 공식 팬카페에 공지했습니다 바이유 측이 준비한 먹이는 빵 100개 음료 백잔 국밥과 곰탕 100그릇 따로국밥 100그릇 떡 100개 등입니다 이런 행위가 대한민국의 자유민주주의를 위협하는 세력을 지원하는 것으로 해될 수 있 에서 비판은 당연한 비결이다 그녀의 이런 모습은 대한민국 국민들이 기대했던 건강한 대중문화 아이콘의 모습과 완전히 대치된다 국민 모두에게 사랑받던 이미지가 특정 정치 세력의 편해서 논란을 키우는 행동으로 크게 훼손된 것이다 아유의 행동은 단순히 연예인의 정치적 의견 표출로 볼 문제가 아니다 탄핵 찬성을 지지하는 태도를 보이는 것은 사실상 국민을 분열시키고 대한민국 헌법과 자유민주주의의 기본 가치를 흔드는 행위로 비춰질 수 있다 결과적으로 그녀가 쌓아 올렸던 브랜드 가치와 국민적 사랑은 본인의 정치적 행동으로 인해 큰 타격을 입게 된 것이다 국민 여동생에서 인민 여동생으로 불리며 추락한 아이유의 모습은 공인이 정치적 올바름과 국민적 신뢰 사이에서 어떤\\n        ------------------\\n        \\n\\n\\n        Video Information:\\n        ------------------\\n        Title: Unknown\\n        Author: Unknown\\n        Transcript: 먹고 으 2009년 우유 하인드 뉴스 프리한 지 2년 된 앵커 겸 속 됩니다 먼저 첫 번째 소식입니다 새로운 화폐 인 5만 원 후원이 바랭이 돼서 화제가 되고 있습니다 이거 약간 5 천체를 그녀 가지고 처음 왔을 때 어 아 주 초 호박 미 책이라고 됩니다 고 만원권 의 주인공은 신사임당 으로 한국 여성으로는 최초로 화폐의 인물로 선정됐으며 서버 에서 5만원 권이 발행된 첫날 일부 은행 지점에 현금자동입출금기 앞에 긴 줄이 생기는 진풍경이 연출되기도 했습니다 우어 저 10년 됐어 오 맞아 나온지 a0 독감이 인 신종플루로 이래서 전세계가 공포에 떨고 있습니다 [음악] 기다가 났었어요 이번에 썼어요 무도 되죠 로 학부의 그 손 세정제가 엄청 많아서 가져와서 어제도 마음 아픈 일도 많아 쏘아 3 아깝게 마신 적 물놀이 해서 지금까지 약 만여 명이 숨진 걸로 나타났고 요 세계 보건 기구는 감염이 확산되자 사상 처음으로 6단계의 근염 병 경보를 발령하고 빛의 가서 한 중학교에서는 학생 백 두 명의 신종 블로 에 집단 감염 대 휴교령을 내리는 등 맞아 좌상 유래없는 닿으면 세라 4 국민 들의 털안감 이 높아지고 있습니다 속보입니다 세계 최고의 올드 스타이자 팝의 황제 로 군림하던 마이클 잭슨이 친구 장마비로 돌연 사망했습니다 팬들은 마이클 잭슨의 사망 소식에 충격에 휩싸여 코 전세계적으로 추모 물결이 일고 있습니다 바루 다음날이 런던이 쿠 셔츠 하는데 바로 전날 죽었지 많은 군중들이 모여 서 그의 트레이드마크인 문 어플을 함께 추기도 했습니다 고인의 명복을 빕니다 어 드디어 우리 줘 막내의 진솔 양과 홈 군도에 어제 기억을 되살리며 넌 행하게 나는 내용들이 있을 겁니다 2009년에 제가 알기로는 그 냉면 이란 노래 [박수] 아 아니 내가 뭐 시력 4 냉각 냉각 논할 사람이 아프기 탑니다 엄청 7급 나며 예 시 같습니까 아 야 당시 에요 버스카드 아이유가 아이유 스 인 이어서 아정 하구요 아 씨카 다드 때 소녀시대로 뭐 바빠서 에 자리를 비운 자기의 대타로 이유가 왔어요\\n        ------------------\\n        \\n\\n\\n        Video Information:\\n        ------------------\\n        Title: Unknown\\n        Author: Unknown\\n        Transcript: .2 쪽에서 단도 유명 아티스트가 공유하고 이쪽은 내가 구매하는 내가 고객의 입장에서는 좀 유명한 뭐 새로 시대 제시카 놔 줘야 사람들이 보일 거야 그래 누가 단말 뭐라고 진짜 펴고 왔더라 고 있자 중에 고기능 거야 예 i 5편 생애 상처 야 그들의 1 아무 때 살이 잘 되셨구요 실현하게 봐봐 [음악]\\n        ------------------\\n        \\n\\n\\n        Video Information:\\n        ------------------\\n        Title: Unknown\\n        Author: Unknown\\n        Transcript: 완전 시 여건이 마시면 월매 에 근데 명수 형이 어 신이 옹기 싶을 거야 아 그럼 막 그랬어 묻어 세력 에서도 누구야 아 아 아 아 아님 아예 공부 좀 해 지원하여 마우스 회전 흐리고 20대 때 거지 어 에 머리를 조아리며 말 참 별 얘기는 그 때 그 창수 가지 생각들 맞아 아 2\\n        ------------------\\n        '"
      ]
     },
     "execution_count": 10,
     "metadata": {},
     "output_type": "execute_result"
    }
   ],
   "source": [
    "video_tool.run(\"IU가 누구야?\")"
   ]
  },
  {
   "cell_type": "code",
   "execution_count": 12,
   "metadata": {},
   "outputs": [],
   "source": [
    "# from pytube import YouTube\n",
    "# yt = YouTube(f\"https://www.youtube.com/watch?v=rqAE9OiK4CY\")\n",
    "# yt = YouTube(f\"https://www.youtube.com/watch?v=pDvBiB1waBk\")\n",
    "# print(yt.vid_info)\n",
    "# video_info = {\n",
    "#     \"title\": yt.title or \"Unknown\",\n",
    "#     \"description\": yt.description or \"Unknown\",\n",
    "#     \"view_count\": yt.views or 0,\n",
    "#     \"thumbnail_url\": yt.thumbnail_url or \"Unknown\",\n",
    "#     \"publish_date\": yt.publish_date.strftime(\"%Y-%m-%d %H:%M:%S\")\n",
    "#     if yt.publish_date\n",
    "#     else \"Unknown\",\n",
    "#     \"length\": yt.length or 0,\n",
    "#     \"author\": yt.author or \"Unknown\",\n",
    "# }\n",
    "# print(video_info)"
   ]
  },
  {
   "cell_type": "code",
   "execution_count": 13,
   "metadata": {},
   "outputs": [],
   "source": [
    "tools = {\n",
    "    \"web\": [web_tool],\n",
    "    \"academic\": [academic_tool],\n",
    "    \"video\": [video_tool],\n",
    "    \"math\": [math_tool],\n",
    "}\n",
    "\n",
    "tool_nodes = {focus: ToolNode(tools[focus]) for focus in tools}"
   ]
  },
  {
   "cell_type": "code",
   "execution_count": 14,
   "metadata": {},
   "outputs": [],
   "source": [
    "from langchain_openai import ChatOpenAI\n",
    "\n",
    "llm = ChatOpenAI(model=\"gpt-4o-mini\")\n",
    "\n",
    "def chatbot(state: State):\n",
    "    llm_with_tools = llm.bind_tools(tools[state[\"focus\"]])\n",
    "    result = llm_with_tools.invoke(state[\"messages\"])\n",
    "    return {\"messages\": [result]}"
   ]
  },
  {
   "cell_type": "code",
   "execution_count": 15,
   "metadata": {},
   "outputs": [],
   "source": [
    "from langgraph.graph import StateGraph, END\n",
    "\n",
    "graph_builder = StateGraph(State)\n",
    "\n",
    "graph_builder.add_node(\"chatbot\", chatbot)\n",
    "for focus, tool_node in tool_nodes.items():\n",
    "    graph_builder.add_node(f\"{focus}_tools\", tool_node)\n",
    "\n",
    "def focus_condition(state):\n",
    "    if state[\"messages\"][-1].tool_calls:\n",
    "        return f\"{state['focus']}_tools\"\n",
    "    return END\n",
    "\n",
    "graph_builder.add_conditional_edges(\n",
    "    \"chatbot\",\n",
    "    focus_condition,\n",
    "    {\n",
    "        \"web_tools\": \"web_tools\",\n",
    "        \"academic_tools\": \"academic_tools\",\n",
    "        \"video_tools\": \"video_tools\",\n",
    "        \"math_tools\": \"math_tools\",\n",
    "        END: END,\n",
    "    }\n",
    ")\n",
    "\n",
    "for focus in tools:\n",
    "    graph_builder.add_edge(f\"{focus}_tools\", \"chatbot\")\n",
    "\n",
    "graph_builder.set_entry_point(\"chatbot\")\n",
    "graph = graph_builder.compile()\n"
   ]
  },
  {
   "cell_type": "code",
   "execution_count": 16,
   "metadata": {},
   "outputs": [
    {
     "data": {
      "image/png": "[encoded data removed]",
      "text/plain": [
       "<IPython.core.display.Image object>"
      ]
     },
     "metadata": {},
     "output_type": "display_data"
    }
   ],
   "source": [
    "from util import display_graph\n",
    "\n",
    "display_graph(graph)"
   ]
  },
  {
   "cell_type": "code",
   "execution_count": 17,
   "metadata": {},
   "outputs": [
    {
     "name": "stdout",
     "output_type": "stream",
     "text": [
      "IU의 최신곡은 뭐야?\n",
      "\n",
      "\n",
      "        Video Information:\n",
      "        ------------------\n",
      "        Title: Unknown\n",
      "        Author: Unknown\n",
      "        Transcript: [음악] 구독과 좋아요 그리고 알림 설정은 제작자에게 매우 큰 힘이 됩니다 가수 아이유의 브랜드 평판 지수가 한 달 사이 19위에서 75위로 급락한 것은 단순한 숫자 변화 이상의 의미를 지닌다 아이유는 한때 국민여동생이라는 칭호로 사랑받았지만 이제는 인민 여동생이라는 비아냥 섞인 별칭을 듣는 지경에 이르렀다 그야말로 아에서 유로 전락한 것이다 이번 브랜드 평판지수의 급락은 그녀가 윤성열 대통령 탄핵 찬성 집회와 관련된 행동을 통해 보수 국민들의 정서를 정면으로 건드린 데서 비롯된 것이 아니겠냐는 분석이 나온다 아이유가 탄핵찬성 집회 주변 가게에 성결을 하며 간접적으로 탄핵 찬성을 지지하고 나아가 내란을 선동하는듯한 모습을 보였다는 것은 많은 국민들에게 실망을 안겨줬다가 아가 14일 윤대 탄핵을 촉구하는는 빵과 국밥 등을 준비했습니다 아의 소속사 이담 엔터테인먼트는 13일 날시에 아이크를 들고 집회 참석해 주변을 환히 밝히는 유아의 손이 조금이라도 따뜻해지길 바라며 먹거리와 핫팩을 준비했다고 공식 팬카페에 공지했습니다 바이유 측이 준비한 먹이는 빵 100개 음료 백잔 국밥과 곰탕 100그릇 따로국밥 100그릇 떡 100개 등입니다 이런 행위가 대한민국의 자유민주주의를 위협하는 세력을 지원하는 것으로 해될 수 있 에서 비판은 당연한 비결이다 그녀의 이런 모습은 대한민국 국민들이 기대했던 건강한 대중문화 아이콘의 모습과 완전히 대치된다 국민 모두에게 사랑받던 이미지가 특정 정치 세력의 편해서 논란을 키우는 행동으로 크게 훼손된 것이다 아유의 행동은 단순히 연예인의 정치적 의견 표출로 볼 문제가 아니다 탄핵 찬성을 지지하는 태도를 보이는 것은 사실상 국민을 분열시키고 대한민국 헌법과 자유민주주의의 기본 가치를 흔드는 행위로 비춰질 수 있다 결과적으로 그녀가 쌓아 올렸던 브랜드 가치와 국민적 사랑은 본인의 정치적 행동으로 인해 큰 타격을 입게 된 것이다 국민 여동생에서 인민 여동생으로 불리며 추락한 아이유의 모습은 공인이 정치적 올바름과 국민적 신뢰 사이에서 어떤\n",
      "        ------------------\n",
      "        \n",
      "\n",
      "\n",
      "        Video Information:\n",
      "        ------------------\n",
      "        Title: Unknown\n",
      "        Author: Unknown\n",
      "        Transcript: 먹고 으 2009년 우유 하인드 뉴스 프리한 지 2년 된 앵커 겸 속 됩니다 먼저 첫 번째 소식입니다 새로운 화폐 인 5만 원 후원이 바랭이 돼서 화제가 되고 있습니다 이거 약간 5 천체를 그녀 가지고 처음 왔을 때 어 아 주 초 호박 미 책이라고 됩니다 고 만원권 의 주인공은 신사임당 으로 한국 여성으로는 최초로 화폐의 인물로 선정됐으며 서버 에서 5만원 권이 발행된 첫날 일부 은행 지점에 현금자동입출금기 앞에 긴 줄이 생기는 진풍경이 연출되기도 했습니다 우어 저 10년 됐어 오 맞아 나온지 a0 독감이 인 신종플루로 이래서 전세계가 공포에 떨고 있습니다 [음악] 기다가 났었어요 이번에 썼어요 무도 되죠 로 학부의 그 손 세정제가 엄청 많아서 가져와서 어제도 마음 아픈 일도 많아 쏘아 3 아깝게 마신 적 물놀이 해서 지금까지 약 만여 명이 숨진 걸로 나타났고 요 세계 보건 기구는 감염이 확산되자 사상 처음으로 6단계의 근염 병 경보를 발령하고 빛의 가서 한 중학교에서는 학생 백 두 명의 신종 블로 에 집단 감염 대 휴교령을 내리는 등 맞아 좌상 유래없는 닿으면 세라 4 국민 들의 털안감 이 높아지고 있습니다 속보입니다 세계 최고의 올드 스타이자 팝의 황제 로 군림하던 마이클 잭슨이 친구 장마비로 돌연 사망했습니다 팬들은 마이클 잭슨의 사망 소식에 충격에 휩싸여 코 전세계적으로 추모 물결이 일고 있습니다 바루 다음날이 런던이 쿠 셔츠 하는데 바로 전날 죽었지 많은 군중들이 모여 서 그의 트레이드마크인 문 어플을 함께 추기도 했습니다 고인의 명복을 빕니다 어 드디어 우리 줘 막내의 진솔 양과 홈 군도에 어제 기억을 되살리며 넌 행하게 나는 내용들이 있을 겁니다 2009년에 제가 알기로는 그 냉면 이란 노래 [박수] 아 아니 내가 뭐 시력 4 냉각 냉각 논할 사람이 아프기 탑니다 엄청 7급 나며 예 시 같습니까 아 야 당시 에요 버스카드 아이유가 아이유 스 인 이어서 아정 하구요 아 씨카 다드 때 소녀시대로 뭐 바빠서 에 자리를 비운 자기의 대타로 이유가 왔어요\n",
      "        ------------------\n",
      "        \n",
      "\n",
      "\n",
      "        Video Information:\n",
      "        ------------------\n",
      "        Title: Unknown\n",
      "        Author: Unknown\n",
      "        Transcript: Dearest, Darling, My universe Would you take me along? To a place I can’t dream with my poor imagination Far away in the universe from Earth to Mars Will you please go with me? Wherever it may be, an old loneliness In search of its antonym For what fault Must we be so Together Run away from the world Run on Go to the end with me My lover Will it be a bad ending\n",
      "for us two, gone astray um Crush me in your arms Give me a lovelier kiss Lover Love is all Love is all Love Love Love Love In the end, even though, How is it us For us Run away from the world Run on Go to the end with me My lover Will it be a bad ending\n",
      "for us two, gone astray um I slowly film you with my eyes Please make a serene smile once again As we hovered slowly in the night of that day, will you courageously set with me? Destroy me slowly and chilly, Ruiner I want to get sad with you My lover Run away from necessity Run on Go to the end with me My lover Two of us, side by side,\n",
      "        ------------------\n",
      "        \n",
      "\n",
      "\n",
      "        Video Information:\n",
      "        ------------------\n",
      "        Title: Unknown\n",
      "        Author: Unknown\n",
      "        Transcript: .2 쪽에서 단도 유명 아티스트가 공유하고 이쪽은 내가 구매하는 내가 고객의 입장에서는 좀 유명한 뭐 새로 시대 제시카 놔 줘야 사람들이 보일 거야 그래 누가 단말 뭐라고 진짜 펴고 왔더라 고 있자 중에 고기능 거야 예 i 5편 생애 상처 야 그들의 1 아무 때 살이 잘 되셨구요 실현하게 봐봐 [음악]\n",
      "        ------------------\n",
      "        \n",
      "IU의 최신곡에 대한 구체적인 정보는 확인할 수 없었습니다. 하지만 IU는 최근 정치적 논란과 함께 브랜드 평판 지수가 하락한 상황이며, 그로 인해 팬들 사이에서 다양한 반응이 나타나고 있습니다. 최신 음악 소식이나 발매에 대한 정보는 공식 팬카페나 음악 플랫폼에서 직접 확인하는 것이 좋습니다. 추가적인 정보가 필요하시면 말씀해 주세요!\n"
     ]
    }
   ],
   "source": [
    "from langchain_core.messages import HumanMessage\n",
    "\n",
    "init_state = {\n",
    "    \"messages\": [HumanMessage(content=\"IU의 최신곡은 뭐야?\")],\n",
    "    \"focus\": \"video\"\n",
    "}\n",
    "\n",
    "for chunk in graph.stream(init_state, stream_mode=\"values\",):\n",
    "    print(chunk['messages'][-1].content)"
   ]
  },
  {
   "cell_type": "code",
   "execution_count": null,
   "metadata": {},
   "outputs": [],
   "source": []
  }
 ],
 "metadata": {
  "kernelspec": {
   "display_name": "myenv",
   "language": "python",
   "name": "python3"
  },
  "language_info": {
   "codemirror_mode": {
    "name": "ipython",
    "version": 3
   },
   "file_extension": ".py",
   "mimetype": "text/x-python",
   "name": "python",
   "nbconvert_exporter": "python",
   "pygments_lexer": "ipython3",
   "version": "3.11.8"
  }
 },
 "nbformat": 4,
 "nbformat_minor": 2
}
