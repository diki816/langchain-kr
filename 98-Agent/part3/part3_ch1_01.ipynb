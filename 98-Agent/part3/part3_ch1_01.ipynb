{
 "cells": [
  {
   "cell_type": "code",
   "execution_count": null,
   "metadata": {},
   "outputs": [],
   "source": []
  },
  {
   "cell_type": "code",
   "execution_count": 1,
   "metadata": {},
   "outputs": [],
   "source": [
    "from dotenv import load_dotenv\n",
    "import os\n",
    "\n",
    "load_dotenv()\n",
    "\n",
    "openai_api_key = os.getenv(\"OPENAI_API_KEY\")"
   ]
  },
  {
   "cell_type": "code",
   "execution_count": 2,
   "metadata": {},
   "outputs": [],
   "source": [
    "from typing import List, Annotated, Literal\n",
    "from typing_extensions import TypedDict\n",
    "from langchain_openai import ChatOpenAI\n",
    "from langchain_core.messages import AIMessage, SystemMessage, HumanMessage, ToolMessage\n",
    "from langgraph.checkpoint.memory import MemorySaver\n",
    "from langgraph.graph import StateGraph, START, END\n",
    "from pydantic import BaseModel"
   ]
  },
  {
   "cell_type": "code",
   "execution_count": 4,
   "metadata": {},
   "outputs": [],
   "source": [
    "class State(TypedDict):\n",
    "    counter: int\n",
    "    alphabet: list[str]\n",
    "\n",
    "graph_builder = StateGraph(State)"
   ]
  },
  {
   "cell_type": "code",
   "execution_count": 2,
   "metadata": {},
   "outputs": [],
   "source": [
    "from typing import List, Annotated, Literal\n",
    "from typing_extensions import TypedDict\n",
    "from langgraph.graph import StateGraph, START, END\n",
    "import operator\n",
    "\n",
    "class State(TypedDict):\n",
    "    counter: int\n",
    "    alphabet: list[str]\n",
    "\n",
    "def node_a(state: State):\n",
    "    state['counter'] += 1\n",
    "    state['alphabet'] = [\"Hello\"]\n",
    "    return state\n",
    "\n",
    "graph_builder = StateGraph(State)\n",
    "\n",
    "graph_builder.add_node('chatbot', node_a)\n",
    "graph_builder.add_edge(START, 'chatbot')\n",
    "graph_builder.add_edge('chatbot', END )\n",
    "\n",
    "graph = graph_builder.compile()\n"
   ]
  },
  {
   "cell_type": "code",
   "execution_count": 3,
   "metadata": {},
   "outputs": [
    {
     "data": {
      "image/png": "[encoded data removed]",
      "text/plain": [
       "<IPython.core.display.Image object>"
      ]
     },
     "metadata": {},
     "output_type": "display_data"
    }
   ],
   "source": [
    "from IPython.display import Image, display\n",
    "\n",
    "try:\n",
    "    display(Image(graph.get_graph().draw_mermaid_png()))\n",
    "except Exception:\n",
    "    pass"
   ]
  },
  {
   "cell_type": "code",
   "execution_count": 4,
   "metadata": {},
   "outputs": [
    {
     "name": "stdout",
     "output_type": "stream",
     "text": [
      "{'counter': 1, 'alphabet': ['Hello']}\n",
      "{'counter': 2, 'alphabet': ['Hello']}\n",
      "{'counter': 3, 'alphabet': ['Hello']}\n"
     ]
    }
   ],
   "source": [
    "initial_state = {\n",
    "    \"counter\": 0,\n",
    "    \"alphabet\": []\n",
    "}\n",
    "\n",
    "state = initial_state\n",
    "\n",
    "for _ in range(3):\n",
    "    state = graph.invoke(state)\n",
    "    print(state)"
   ]
  },
  {
   "cell_type": "code",
   "execution_count": 7,
   "metadata": {},
   "outputs": [],
   "source": [
    "class State(TypedDict):\n",
    "    counter: int\n",
    "    alphabet: Annotated[list[str], operator.add]\n",
    "\n",
    "def node_b(state: State):\n",
    "    state['counter'] += 1\n",
    "    state['alphabet'] = ['Hello']\n",
    "    return state\n",
    "\n",
    "graph_builder = StateGraph(State)\n",
    "\n",
    "graph_builder.add_node('chatbot', node_b)\n",
    "graph_builder.add_edge(START, 'chatbot')\n",
    "graph_builder.add_edge('chatbot', END )\n",
    "\n",
    "graph = graph_builder.compile()"
   ]
  },
  {
   "cell_type": "code",
   "execution_count": 8,
   "metadata": {},
   "outputs": [
    {
     "name": "stdout",
     "output_type": "stream",
     "text": [
      "{'counter': 1, 'alphabet': ['Hello']}\n",
      "{'counter': 2, 'alphabet': ['Hello', 'Hello']}\n",
      "{'counter': 3, 'alphabet': ['Hello', 'Hello', 'Hello']}\n"
     ]
    }
   ],
   "source": [
    "initial_state = {\n",
    "    \"counter\": 0,\n",
    "    \"alphabet\": []\n",
    "}\n",
    "\n",
    "state = initial_state\n",
    "\n",
    "for _ in range(3):\n",
    "    state = graph.invoke(state)\n",
    "    print(state)"
   ]
  },
  {
   "cell_type": "code",
   "execution_count": 9,
   "metadata": {},
   "outputs": [],
   "source": [
    "from typing import Annotated\n",
    "from langchain_openai import ChatOpenAI\n",
    "from typing_extensions import TypedDict\n",
    "\n",
    "from langgraph.graph import StateGraph\n",
    "from langgraph.graph.message import add_messages\n",
    "\n",
    "class State(TypedDict):\n",
    "    messages: Annotated[list, add_messages]\n",
    "\n",
    "graph_builder = StateGraph(State)\n",
    "\n",
    "llm = ChatOpenAI(model=\"gpt-4o-mini\")\n",
    "\n",
    "def chatbot(state: State):\n",
    "    return {\"messages\": [llm.invoke(state[\"messages\"])]}\n",
    "\n",
    "graph_builder.add_node(\"chatbot\", chatbot)\n",
    "graph_builder.set_entry_point(\"chatbot\")\n",
    "graph_builder.set_finish_point(\"chatbot\")\n",
    "graph = graph_builder.compile()"
   ]
  },
  {
   "cell_type": "code",
   "execution_count": 10,
   "metadata": {},
   "outputs": [
    {
     "data": {
      "image/png": "[encoded data removed]",
      "text/plain": [
       "<IPython.core.display.Image object>"
      ]
     },
     "metadata": {},
     "output_type": "display_data"
    }
   ],
   "source": [
    "from IPython.display import Image, display\n",
    "\n",
    "try:\n",
    "    display(Image(graph.get_graph().draw_mermaid_png()))\n",
    "except Exception:\n",
    "    pass"
   ]
  },
  {
   "cell_type": "code",
   "execution_count": 11,
   "metadata": {},
   "outputs": [
    {
     "name": "stdout",
     "output_type": "stream",
     "text": [
      "Assistant:  Yes, an AI agent refers to a software system that can perceive its environment, reason about it, and take actions to achieve specific goals. AI agents can operate in various domains, such as virtual environments, robotics, and gaming. They typically utilize techniques from machine learning, natural language processing, and computer vision to interact with the world and improve their performance over time.\n",
      "\n",
      "AI agents can be classified into different types, including:\n",
      "\n",
      "1. **Reactive Agents**: These agents respond to stimuli from the environment without maintaining an internal state. They operate based on predefined rules.\n",
      "\n",
      "2. **Deliberative Agents**: These have a model of their environment and can use this knowledge to make informed decisions. They often involve planning and reasoning.\n",
      "\n",
      "3. **Learning Agents**: These agents can improve their performance over time by learning from experience, often employing techniques such as reinforcement learning.\n",
      "\n",
      "4. **Multi-Agent Systems**: These involve multiple agents that can coexist and interact, potentially collaborating or competing to achieve their respective goals.\n",
      "\n",
      "AI agents can be employed for various applications, including virtual assistants (like Siri or Alexa), autonomous vehicles, chatbots, and more complex systems in fields like healthcare and finance. If you have specific questions about AI agents or their applications, feel free to ask!\n",
      "Assistant:  Constructing a Multi-Agent System (MAS) involves several key steps and considerations. Here's a structured approach to help you get started:\n",
      "\n",
      "### 1. Define the Problem Domain\n",
      "- **Identify Goals**: Clearly define what you want the multi-agent system to achieve. Specify the objectives of each agent and the overall system.\n",
      "- **Scope and Constraints**: Determine the boundaries of your system, including limitations and constraints that will affect how agents interact.\n",
      "\n",
      "### 2. Design the Agents\n",
      "- **Agent Characteristics**: Decide the characteristics of each agent, such as:\n",
      "  - **Autonomy**: The ability to operate independently.\n",
      "  - **Reactive vs. Proactive**: Whether agents respond to environmental changes or can plan and act ahead.\n",
      "  - **Mobility**: Whether agents can move through the environment or are stationary.\n",
      "- **Intelligence Level**: Determine whether your agents will use simple rules, decision trees, machine learning, or more complex reasoning systems.\n",
      "- **Roles and Responsibilities**: Assign specific roles to each agent based on the overall system goals (e.g., sensors, processors, decision-makers).\n",
      "\n",
      "### 3. Choose a Communication Protocol\n",
      "- **Communication Methods**: Decide how agents will communicate with each other. Options include:\n",
      "  - **Message Passing**: Direct communication using messages.\n",
      "  - **Shared Memory**: A common space where agents read and write data.\n",
      "  - **Blackboards**: A central repository where agents can post and retrieve information.\n",
      "- **Agent Languages**: Use formal agent communication languages like FIPA ACL (Agent Communication Language) or KQML (Knowledge Query and Manipulation Language).\n",
      "\n",
      "### 4. Agent Architecture\n",
      "- **Choose an Architecture**: Select an appropriate architecture for your agents:\n",
      "  - **Reactive**: Simple stimulus-response models.\n",
      "  - **Deliberative**: Agents with a model of the world and explicit internal deliberation.\n",
      "  - **Hybrid**: Combining reactive and deliberative components.\n",
      "- **Define Agent Life Cycle**: Outline how agents are created, become active, interact, and eventually terminate.\n",
      "\n",
      "### 5. Develop Coordination and Cooperation Mechanisms\n",
      "- **Coordination**: Implement strategies for agents to work together effectively, such as:\n",
      "  - **Task Allocation**: Distributing tasks among agents according to their capabilities.\n",
      "  - **Negotiation**: Enabling agents to negotiate resources or tasks.\n",
      "  - **Collaboration**: Mechanisms for agents to work together towards a common goal.\n",
      "- **Conflict Resolution**: Define how agents will resolve disagreements or conflicting objectives.\n",
      "\n",
      "### 6. Implement the System\n",
      "- **Select Tools and Platforms**: Choose programming languages and development platforms that support multi-agent systems (e.g., JADE, NetLogo, or any custom environment).\n",
      "- **Programming**: Implement the agents according to your design specifications.\n",
      "\n",
      "### 7. Testing and Evaluation\n",
      "- **Simulations**: Run simulations to test agent interactions and overall system performance.\n",
      "- **Metrics**: Define success metrics to evaluate the efficiency, effectiveness, and robustness of the agents and the system as a whole.\n",
      "\n",
      "### 8. Deployment and Maintenance\n",
      "- **Deployment**: Deploy your multi-agent system in a real-world or simulated environment.\n",
      "- **Monitoring**: Continuously monitor the performance of agents and the system.\n",
      "- **Adaptation**: Be ready to adapt the system based on feedback and changing requirements.\n",
      "\n",
      "### Tools and Technologies\n",
      "- **Frameworks and Libraries**: Consider using existing frameworks such as:\n",
      "  - **JADE (Java Agent Development Framework)**: A popular choice for MAS development.\n",
      "  - **ROS (Robot Operating System)**: If agents are robotic in nature, for managing communication and coordination.\n",
      "  - **MATLAB/Simulink**: For simulating agent behaviors, especially in research contexts.\n",
      "\n",
      "### Final Thoughts\n",
      "Creating a multi-agent system is a complex and iterative process that balances design, implementation, and evaluation. By following these steps methodically, you will be well on your way to building a successful MAS tailored to your specific use case.\n",
      "Goob bye!\n"
     ]
    }
   ],
   "source": [
    "while True:\n",
    "    user_input = input(\"User: \")\n",
    "    if user_input.lower() in [\"quit\", \"exit\", \"q\"]:\n",
    "        print(\"Goob bye!\")\n",
    "        break\n",
    "\n",
    "    for event in graph.stream({\"messages\": (\"user\", user_input)}):\n",
    "        for value in event.values():\n",
    "            print(\"Assistant: \", value[\"messages\"][-1].content)"
   ]
  },
  {
   "cell_type": "code",
   "execution_count": 15,
   "metadata": {},
   "outputs": [],
   "source": [
    "from langchain_openai import ChatOpenAI\n",
    "from langgraph.graph import MessagesState\n",
    "\n",
    "graph_builder = StateGraph(MessagesState)\n",
    "\n",
    "llm = ChatOpenAI(model=\"gpt-4o-mini\")\n",
    "\n",
    "def chatbot(state: State):\n",
    "    return {\"messages\": [llm.invoke(state[\"messages\"])]}\n",
    "\n",
    "graph_builder.add_node(\"chatbot\", chatbot)\n",
    "graph_builder.set_entry_point(\"chatbot\")\n",
    "graph_builder.set_finish_point(\"chatbot\")\n",
    "graph = graph_builder.compile()"
   ]
  },
  {
   "cell_type": "code",
   "execution_count": 16,
   "metadata": {},
   "outputs": [
    {
     "name": "stdout",
     "output_type": "stream",
     "text": [
      "Assistant:  Building a multi-agent system (MAS) involves several key steps and considerations. A multi-agent system is a system composed of multiple interacting agents that can be either homogeneous or heterogeneous, and it's used for various applications, including robotics, artificial intelligence, distributed control, and problem-solving tasks. Here’s a structured approach to building a multi-agent system:\n",
      "\n",
      "### 1. Define Objectives and Requirements\n",
      "- **Identify Purpose**: Clearly define the goals of your multi-agent system (e.g., coordination, competition, cooperation).\n",
      "- **User Requirements**: Gather requirements from stakeholders to understand their needs.\n",
      "\n",
      "### 2. Design the Agent Architecture\n",
      "- **Agent Types**: Decide on the types of agents needed. This could include reactive agents, cognitive agents, mobile agents, or static agents.\n",
      "- **Internal Structure**: Determine how each agent will operate internally. This might include perception, decision-making, and action mechanisms.\n",
      "- **Communication Protocol**: Develop a communication model that specifies how agents will share information (e.g., message passing, shared memory).\n",
      "\n",
      "### 3. Choose Development Tools and Platforms\n",
      "- **Programming Language**: Choose a programming language suitable for your system (e.g., Python, Java, C++).\n",
      "- **Frameworks**: Select appropriate frameworks or platforms, such as JADE (Java Agent DEvelopment Framework), SPADE, or AgentOrange.\n",
      "\n",
      "### 4. Develop Agent Behaviors\n",
      "- **Decision-Making**: Implement decision-making algorithms such as rule-based systems, finite state machines, or learning algorithms (e.g., reinforcement learning).\n",
      "- **Behavior Coordination**: If agents need to work together, implement strategies for cooperation, negotiation, or conflict resolution.\n",
      "\n",
      "### 5. Implement Communication Mechanisms\n",
      "- **Message Passing**: Use standard communication protocols. The FIPA (Foundation for Intelligent Physical Agents) has established protocols that can be useful.\n",
      "- **Data Sharing**: Implement methods for data sharing and synchronization among agents.\n",
      "\n",
      "### 6. Create the Environment\n",
      "- **Simulation vs. Real-World**: Decide if your agents will operate in a simulated environment or the real world. If simulating, use tools like NetLogo or AnyLogic.\n",
      "- **Environment Representation**: Develop a model that represents the environment in which agents will operate.\n",
      "\n",
      "### 7. Testing and Validation\n",
      "- **Testing**: Create test scenarios to evaluate agent behaviors, interactions, and overall system performance.\n",
      "- **Debugging**: Use logging, monitoring, and visualization tools to identify and fix issues.\n",
      "\n",
      "### 8. Evaluate Performance\n",
      "- **Metrics**: Establish performance metrics to evaluate effectiveness, efficiency, and robustness.\n",
      "- **Scenarios**: Test the system against a variety of scenarios to ensure it meets the intended objectives.\n",
      "\n",
      "### 9. Deployment\n",
      "- **Deployment Environment**: Choose where to deploy your system, whether in the cloud, on local servers, or on devices.\n",
      "- **Version Control**: Use version control systems (like Git) to manage code changes and collaboration.\n",
      "\n",
      "### 10. Maintenance and Updates\n",
      "- **Monitor Performance**: Continuously monitor the system for performance and user feedback.\n",
      "- **Update Agents**: Regularly improve agent algorithms and system components based on new insights or technological advancements.\n",
      "\n",
      "### Essential Considerations:\n",
      "- **Scalability**: Ensure the system can handle an increasing number of agents.\n",
      "- **Robustness**: Address potential failures and how agents will recover or adapt.\n",
      "- **Security**: Implement security measures for communication and agent interactions.\n",
      "- **Ethical Considerations**: Be aware of ethical implications and responsibilities regarding autonomous agents and their actions.\n",
      "\n",
      "By following these structured steps and considerations, you can build a robust and efficient multi-agent system that meets your application’s specific needs.\n",
      "Assistant:  Hello! It seems you entered a single letter. How can I assist you today?\n",
      "Goob bye!\n"
     ]
    }
   ],
   "source": [
    "while True:\n",
    "    user_input = input(\"User: \")\n",
    "    if user_input.lower() in [\"quit\", \"exit\", \"q\"]:\n",
    "        print(\"Goob bye!\")\n",
    "        break\n",
    "\n",
    "    for event in graph.stream({\"messages\": (\"user\", user_input)}):\n",
    "        for value in event.values():\n",
    "            print(\"Assistant: \", value[\"messages\"][-1].content)"
   ]
  },
  {
   "cell_type": "code",
   "execution_count": 18,
   "metadata": {},
   "outputs": [],
   "source": [
    "from langchain_openai import ChatOpenAI\n",
    "from langgraph.graph import MessagesState\n",
    "\n",
    "class State(MessagesState):\n",
    "    counter: int\n",
    "\n",
    "graph_builder = StateGraph(State)\n",
    "\n",
    "llm = ChatOpenAI(model=\"gpt-4o-mini\")\n",
    "\n",
    "def chatbot(state: State):\n",
    "    state['counter'] = state.get('counter', 0) + 1\n",
    "    return {\n",
    "        \"messages\": [llm.invoke(state[\"messages\"])],\n",
    "        \"counter\": state['counter']\n",
    "    }\n",
    "\n",
    "graph_builder.add_node(\"chatbot\", chatbot)\n",
    "graph_builder.set_entry_point(\"chatbot\")\n",
    "graph_builder.set_finish_point(\"chatbot\")\n",
    "graph = graph_builder.compile()"
   ]
  },
  {
   "cell_type": "code",
   "execution_count": 19,
   "metadata": {},
   "outputs": [
    {
     "name": "stdout",
     "output_type": "stream",
     "text": [
      "Final state: {'messages': [HumanMessage(content='Hello!', additional_kwargs={}, response_metadata={}, id='fa0f7810-bf76-454b-bad3-2b2ac08b5301'), AIMessage(content='Hello! How can I assist you today?', additional_kwargs={'refusal': None}, response_metadata={'token_usage': {'completion_tokens': 10, 'prompt_tokens': 9, 'total_tokens': 19, 'completion_tokens_details': {'accepted_prediction_tokens': 0, 'audio_tokens': 0, 'reasoning_tokens': 0, 'rejected_prediction_tokens': 0}, 'prompt_tokens_details': {'audio_tokens': 0, 'cached_tokens': 0}}, 'model_name': 'gpt-4o-mini-2024-07-18', 'system_fingerprint': 'fp_72ed7ab54c', 'finish_reason': 'stop', 'logprobs': None}, id='run-5d127c50-3bdf-4e28-993d-067e7a0ef0ca-0', usage_metadata={'input_tokens': 9, 'output_tokens': 10, 'total_tokens': 19, 'input_token_details': {'audio': 0, 'cache_read': 0}, 'output_token_details': {'audio': 0, 'reasoning': 0}})], 'counter': 1}\n"
     ]
    }
   ],
   "source": [
    "from langchain_core.messages import HumanMessage\n",
    "\n",
    "initial_state = {\n",
    "    \"messages\": [HumanMessage(content=\"Hello!\")],\n",
    "    \"counter\": 0\n",
    "}\n",
    "\n",
    "result = graph.invoke(initial_state)\n",
    "\n",
    "print(f\"Final state: {result}\")"
   ]
  },
  {
   "cell_type": "code",
   "execution_count": 20,
   "metadata": {},
   "outputs": [
    {
     "name": "stdout",
     "output_type": "stream",
     "text": [
      "Counter: 1\n",
      "Last message: Hello! How can I assist you today?\n",
      "---\n",
      "Counter: 2\n",
      "Last message: Hello! How can I assist you today?\n",
      "---\n",
      "Counter: 3\n",
      "Last message: Hello! How can I assist you today?\n",
      "---\n"
     ]
    }
   ],
   "source": [
    "state = initial_state\n",
    "for _ in range(3):\n",
    "    state = graph.invoke(state)\n",
    "    print(f\"Counter: {state['counter']}\")\n",
    "    print(f\"Last message: {state['messages'][-1].content}\")\n",
    "    print(\"---\")"
   ]
  },
  {
   "cell_type": "code",
   "execution_count": null,
   "metadata": {},
   "outputs": [],
   "source": []
  },
  {
   "cell_type": "markdown",
   "metadata": {},
   "source": [
    "END"
   ]
  }
 ],
 "metadata": {
  "kernelspec": {
   "display_name": "Python 3",
   "language": "python",
   "name": "python3"
  },
  "language_info": {
   "codemirror_mode": {
    "name": "ipython",
    "version": 3
   },
   "file_extension": ".py",
   "mimetype": "text/x-python",
   "name": "python",
   "nbconvert_exporter": "python",
   "pygments_lexer": "ipython3",
   "version": "3.11.8"
  }
 },
 "nbformat": 4,
 "nbformat_minor": 2
}
