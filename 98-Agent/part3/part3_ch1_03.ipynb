{
 "cells": [
  {
   "cell_type": "code",
   "execution_count": 5,
   "metadata": {},
   "outputs": [],
   "source": [
    "from dotenv import load_dotenv\n",
    "import os\n",
    "\n",
    "load_dotenv()\n",
    "\n",
    "openai_api_key = os.getenv(\"OPENAI_API_KEY\")\n",
    "openai_api_key = os.getenv(\"TAVILY_API_KEY\")"
   ]
  },
  {
   "cell_type": "code",
   "execution_count": 9,
   "metadata": {},
   "outputs": [],
   "source": [
    "from typing import Annotated\n",
    "from typing_extensions import TypedDict\n",
    "from langgraph.graph.message import add_messages\n",
    "\n",
    "class State(TypedDict):\n",
    "    messages: Annotated[list, add_messages]\n"
   ]
  },
  {
   "cell_type": "markdown",
   "metadata": {},
   "source": [
    "ToolNode로 도구 노드 구축"
   ]
  },
  {
   "cell_type": "code",
   "execution_count": null,
   "metadata": {},
   "outputs": [],
   "source": [
    "\n",
    "from langchain_community.tools.tavily_search import TavilySearchResults\n",
    "from langgraph.prebuilt import ToolNode, tools_condition\n",
    "\n",
    "tool = TavilySearchResults(max_results = 2)\n",
    "tools = [tool]\n",
    "tool_node = ToolNode(tools)"
   ]
  },
  {
   "cell_type": "code",
   "execution_count": 10,
   "metadata": {},
   "outputs": [],
   "source": [
    "import json\n",
    "from langchain_core.messages import ToolMessage\n",
    "\n",
    "class BasicToolNode:\n",
    "    \"\"\" A node that runs the tools requested in the last AIMessage. \"\"\"\n",
    "\n",
    "    def __init__(self, tools: list) -> None:\n",
    "        self.tools_by_name = {tool.name: tool for tool in tools}\n",
    "\n",
    "    def __call__(self, inputs: dict):\n",
    "        if messages := inputs.get(\"messages\", []):\n",
    "            message = messages[-1]\n",
    "        else:\n",
    "            raise ValueError(\"No messages found in input\")\n",
    "        outputs = []\n",
    "        for tool_call in message.tool_calls:\n",
    "            tool_result = self.tools_by_name[tool_call[\"name\"]].invoke(\n",
    "                tool_call[\"args\"]\n",
    "            )\n",
    "            outputs.append(ToolMessage(tool_call.id, tool_call.name, tool_result))\n",
    "        return {\"messages\": outputs}"
   ]
  },
  {
   "cell_type": "code",
   "execution_count": 12,
   "metadata": {},
   "outputs": [],
   "source": [
    "from langchain_openai import ChatOpenAI\n",
    "\n",
    "llm = ChatOpenAI(model=\"gpt-4o-mini\")\n",
    "llm_with_tools = llm.bind_tools(tools)\n",
    "\n",
    "def chatbot(state: State):\n",
    "    result = llm_with_tools.invoke(state[\"messages\"])\n",
    "    return {\"messages\": [result]}\n"
   ]
  },
  {
   "cell_type": "code",
   "execution_count": 13,
   "metadata": {},
   "outputs": [],
   "source": [
    "from langgraph.graph import StateGraph\n",
    "\n",
    "graph_builder = StateGraph(State)\n",
    "\n",
    "graph_builder.add_node(\"chatbot\", chatbot)\n",
    "graph_builder.add_node(\"tools\", tool_node)\n",
    "\n",
    "graph_builder.add_edge(\"tools\", \"chatbot\")\n",
    "graph_builder.add_conditional_edges(\"chatbot\", tools_condition)\n",
    "\n",
    "graph_builder.set_entry_point(\"chatbot\")\n",
    "graph = graph_builder.compile()"
   ]
  },
  {
   "cell_type": "markdown",
   "metadata": {},
   "source": [
    "인터넷 검색이 필요한 질문"
   ]
  },
  {
   "cell_type": "code",
   "execution_count": 15,
   "metadata": {},
   "outputs": [
    {
     "data": {
      "text/plain": [
       "{'messages': [HumanMessage(content='지금 한국 대통령은 누구야?', additional_kwargs={}, response_metadata={}, id='a8930f4c-37fb-402d-bd47-ce7976f6ded4'),\n",
       "  AIMessage(content='', additional_kwargs={'tool_calls': [{'id': 'call_IzozYlDiwQ7juPILM20tpB4c', 'function': {'arguments': '{\"query\":\"current president of South Korea\"}', 'name': 'tavily_search_results_json'}, 'type': 'function'}], 'refusal': None}, response_metadata={'token_usage': {'completion_tokens': 23, 'prompt_tokens': 87, 'total_tokens': 110, 'completion_tokens_details': {'accepted_prediction_tokens': 0, 'audio_tokens': 0, 'reasoning_tokens': 0, 'rejected_prediction_tokens': 0}, 'prompt_tokens_details': {'audio_tokens': 0, 'cached_tokens': 0}}, 'model_name': 'gpt-4o-mini-2024-07-18', 'system_fingerprint': 'fp_72ed7ab54c', 'finish_reason': 'tool_calls', 'logprobs': None}, id='run-ff77111d-7947-4a10-8b7f-56b499dad8eb-0', tool_calls=[{'name': 'tavily_search_results_json', 'args': {'query': 'current president of South Korea'}, 'id': 'call_IzozYlDiwQ7juPILM20tpB4c', 'type': 'tool_call'}], usage_metadata={'input_tokens': 87, 'output_tokens': 23, 'total_tokens': 110, 'input_token_details': {'audio': 0, 'cache_read': 0}, 'output_token_details': {'audio': 0, 'reasoning': 0}}),\n",
       "  ToolMessage(content='[{\"url\": \"https://en.wikipedia.org/wiki/Yoon_Suk_Yeol\", \"content\": \"Yoon Suk Yeol (Korean: 윤석열; [b] born 18 December 1960) is a South Korean politician and prosecutor who has been the 13th president of South Korea since 2022. Following his impeachment, his powers are currently suspended. Yoon was born in Seoul and earned two degrees from Seoul National University.\"}, {\"url\": \"https://www.britannica.com/biography/Yoon-Suk-Yeol\", \"content\": \"Yoon Suk-Yeol is a South Korean lawyer and public official who served as prosecutor general (2019-21) and is now president (2022- ) of South Korea.\"}]', name='tavily_search_results_json', id='a28cb26f-2438-4da7-974b-62aadce615aa', tool_call_id='call_IzozYlDiwQ7juPILM20tpB4c', artifact={'query': 'current president of South Korea', 'follow_up_questions': None, 'answer': None, 'images': [], 'results': [{'title': 'Yoon Suk Yeol - Wikipedia', 'url': 'https://en.wikipedia.org/wiki/Yoon_Suk_Yeol', 'content': 'Yoon Suk Yeol (Korean: 윤석열; [b] born 18 December 1960) is a South Korean politician and prosecutor who has been the 13th president of South Korea since 2022. Following his impeachment, his powers are currently suspended. Yoon was born in Seoul and earned two degrees from Seoul National University.', 'score': 0.8665964, 'raw_content': None}, {'title': 'Yoon Suk-Yeol | Facts, History, Family, Impeachment, & Presidency ...', 'url': 'https://www.britannica.com/biography/Yoon-Suk-Yeol', 'content': 'Yoon Suk-Yeol is a South Korean lawyer and public official who served as prosecutor general (2019-21) and is now president (2022- ) of South Korea.', 'score': 0.8058924, 'raw_content': None}], 'response_time': 1.71}),\n",
       "  AIMessage(content='현재 한국의 대통령은 윤석열입니다. 그는 2022년부터 대한민국의 13대 대통령으로 재임 중입니다. 더 자세한 정보는 [위키백과](https://en.wikipedia.org/wiki/Yoon_Suk_Yeol)에서 확인하실 수 있습니다.', additional_kwargs={'refusal': None}, response_metadata={'token_usage': {'completion_tokens': 62, 'prompt_tokens': 283, 'total_tokens': 345, 'completion_tokens_details': {'accepted_prediction_tokens': 0, 'audio_tokens': 0, 'reasoning_tokens': 0, 'rejected_prediction_tokens': 0}, 'prompt_tokens_details': {'audio_tokens': 0, 'cached_tokens': 0}}, 'model_name': 'gpt-4o-mini-2024-07-18', 'system_fingerprint': 'fp_72ed7ab54c', 'finish_reason': 'stop', 'logprobs': None}, id='run-43124afa-24d4-48f8-bbe2-6f66ab5516ae-0', usage_metadata={'input_tokens': 283, 'output_tokens': 62, 'total_tokens': 345, 'input_token_details': {'audio': 0, 'cache_read': 0}, 'output_token_details': {'audio': 0, 'reasoning': 0}})]}"
      ]
     },
     "execution_count": 15,
     "metadata": {},
     "output_type": "execute_result"
    }
   ],
   "source": [
    "graph.invoke({\"messages\": {\"role\": \"user\", \"content\": \"지금 한국 대통령은 누구야?\"}})"
   ]
  },
  {
   "cell_type": "markdown",
   "metadata": {},
   "source": [
    "LLM이 답할 수 있는 질문"
   ]
  },
  {
   "cell_type": "code",
   "execution_count": 16,
   "metadata": {},
   "outputs": [
    {
     "data": {
      "text/plain": [
       "{'messages': [HumanMessage(content='너가 대답하지 못하고 인터넷 검색이 필요한 질문 3개를 예시로 제시해', additional_kwargs={}, response_metadata={}, id='e8714c55-a97d-40a3-99c0-fe129fb03689'),\n",
       "  AIMessage(content='다음은 제가 대답하기 어려운 질문 3가지 예시입니다:\\n\\n1. 현재 날씨 정보: 특정 지역의 현재 날씨가 어떻게 되는지에 대한 질문.\\n2. 최신 뉴스: 최근의 사건이나 뉴스에 대한 정보, 예를 들면 \"오늘 어떤 주요 뉴스가 있나요?\"\\n3. 주식 시장 동향: 현재 주식 시장의 동향이나 특정 기업의 주가에 대한 질문.', additional_kwargs={'refusal': None}, response_metadata={'token_usage': {'completion_tokens': 92, 'prompt_tokens': 101, 'total_tokens': 193, 'completion_tokens_details': {'accepted_prediction_tokens': 0, 'audio_tokens': 0, 'reasoning_tokens': 0, 'rejected_prediction_tokens': 0}, 'prompt_tokens_details': {'audio_tokens': 0, 'cached_tokens': 0}}, 'model_name': 'gpt-4o-mini-2024-07-18', 'system_fingerprint': 'fp_72ed7ab54c', 'finish_reason': 'stop', 'logprobs': None}, id='run-c40a5c73-f873-446f-af3c-9055d55bfb33-0', usage_metadata={'input_tokens': 101, 'output_tokens': 92, 'total_tokens': 193, 'input_token_details': {'audio': 0, 'cache_read': 0}, 'output_token_details': {'audio': 0, 'reasoning': 0}})]}"
      ]
     },
     "execution_count": 16,
     "metadata": {},
     "output_type": "execute_result"
    }
   ],
   "source": [
    "graph.invoke({\"messages\": {\"role\": \"user\", \"content\": \"너가 대답하지 못하고 인터넷 검색이 필요한 질문 3개를 예시로 제시해\"}})"
   ]
  },
  {
   "cell_type": "code",
   "execution_count": null,
   "metadata": {},
   "outputs": [],
   "source": []
  }
 ],
 "metadata": {
  "kernelspec": {
   "display_name": "myenv",
   "language": "python",
   "name": "python3"
  },
  "language_info": {
   "codemirror_mode": {
    "name": "ipython",
    "version": 3
   },
   "file_extension": ".py",
   "mimetype": "text/x-python",
   "name": "python",
   "nbconvert_exporter": "python",
   "pygments_lexer": "ipython3",
   "version": "3.11.8"
  }
 },
 "nbformat": 4,
 "nbformat_minor": 2
}
