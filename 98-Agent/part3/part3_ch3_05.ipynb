{
 "cells": [
  {
   "cell_type": "markdown",
   "metadata": {},
   "source": [
    "Hierarchical 에이전트 시스템-문서기반으로 팟캐스트 시스템 만들기"
   ]
  },
  {
   "cell_type": "code",
   "execution_count": 1,
   "metadata": {},
   "outputs": [
    {
     "data": {
      "text/plain": [
       "True"
      ]
     },
     "execution_count": 1,
     "metadata": {},
     "output_type": "execute_result"
    }
   ],
   "source": [
    "from dotenv import load_dotenv\n",
    "\n",
    "load_dotenv()"
   ]
  },
  {
   "cell_type": "code",
   "execution_count": 2,
   "metadata": {},
   "outputs": [],
   "source": [
    "# pip install pydub"
   ]
  },
  {
   "cell_type": "code",
   "execution_count": 3,
   "metadata": {},
   "outputs": [
    {
     "name": "stderr",
     "output_type": "stream",
     "text": [
      "USER_AGENT environment variable not set, consider setting it to identify your requests.\n"
     ]
    }
   ],
   "source": [
    "from typing import Annotated, List\n",
    "\n",
    "from langchain_community.document_loaders import WebBaseLoader\n",
    "from langchain_community.tools.tavily_search import TavilySearchResults\n",
    "from langchain_core.tools import tool\n",
    "\n",
    "tavily_tool = TavilySearchResults(max_results=5)\n",
    "\n",
    "@tool\n",
    "def scrape_webpages(urls: List[str]) -> str:\n",
    "    \"\"\"Use requests and bs4 to scrape the provided web pages for detailed information. \"\"\"\n",
    "    loader = WebBaseLoader(urls)\n",
    "    docs = loader.load()\n",
    "    return \"\\n\\n\".join(\n",
    "        [\n",
    "            f\"n{doc.page_content}\\n\" for doc in docs\n",
    "        ]\n",
    "    )\n"
   ]
  },
  {
   "cell_type": "code",
   "execution_count": 4,
   "metadata": {},
   "outputs": [],
   "source": [
    "# Using OpenAI TTS API\n",
    "from openai import OpenAI\n",
    "from pathlib import Path\n",
    "\n",
    "@tool\n",
    "def text_to_speech(text:str, voice:str, output_filename: str) -> str:\n",
    "    \"\"\"\n",
    "    Converts text to speech using OpenAI's TTS API, saving the audio file locally with a dynamic filename.\n",
    "\n",
    "    Args:\n",
    "        text (str): The target text to convert to speech\n",
    "        voice (str): The voice model to use for speech synthesis. Options include: -'alloy', 'echo', 'fable', 'onyx', 'nova', 'shimmer'.\n",
    "        output_filename (str): The output audio file which is converted from target text, including file extension. (e.g. 'output.mp3').\n",
    "    \"\"\"\n",
    "    client = OpenAI()\n",
    "    speech_file_path =Path(output_filename)\n",
    "    response = client.audio.speech.create(model=\"tts-1-hd\", voice=voice, input=text)\n",
    "    response.stream_to_file(speech_file_path)\n",
    "    return str(speech_file_path)"
   ]
  },
  {
   "cell_type": "markdown",
   "metadata": {},
   "source": [
    "주이전 여러 Segment 별 오디오 트랙을 하나의 오디오 파일로 만드는 도구"
   ]
  },
  {
   "cell_type": "code",
   "execution_count": 5,
   "metadata": {},
   "outputs": [
    {
     "name": "stderr",
     "output_type": "stream",
     "text": [
      "/home/user/langchain-kr/myenv/lib/python3.11/site-packages/pydub/utils.py:170: RuntimeWarning: Couldn't find ffmpeg or avconv - defaulting to ffmpeg, but may not work\n",
      "  warn(\"Couldn't find ffmpeg or avconv - defaulting to ffmpeg, but may not work\", RuntimeWarning)\n"
     ]
    }
   ],
   "source": [
    "from pydub import AudioSegment\n",
    "\n",
    "@tool\n",
    "def edit_podcast_audio(segments: List[str], pauses_between_sagments: int = 100, output_filename: str = \"final_podcast_episode.mpe\") -> str:\n",
    "    \"\"\"\n",
    "    Create a podcast episode by combinging audio segments with specified pauses between them, ensuring consistent volume.\n",
    "\n",
    "    Args:\n",
    "        segments (List[str]): List of paths of audio segment files:\n",
    "        pauses_between_segments (int): Duration of pause between segments in milliseconds. Default is 1000\n",
    "        output_filename (str): The name for the output podcast file, including file extension (e.g. 'episode.mp3').\n",
    "\n",
    "    Return:\n",
    "        str: The path to the saved podcast episode file.\n",
    "    \"\"\"\n",
    "    podcast_episode = AudioSemgent.silent(duration=0)\n",
    "\n",
    "    for segment_path in segments:\n",
    "        segment = AudioSegment.from_file(segment_path)\n",
    "        podcast_episode += segment + AudioSegment.silent(duration=pauses_between_segments)\n",
    "    \n",
    "    podcast_episode = podcast_episode.normalize() # Normalize volume\n",
    "    podcast_episode.export(output_filename, format=\"mp3\")\n",
    "\n",
    "    return output_filename"
   ]
  },
  {
   "cell_type": "code",
   "execution_count": 6,
   "metadata": {},
   "outputs": [],
   "source": [
    "\n",
    "tools = [\n",
    "    tavily_tool,\n",
    "    scrape_webpages,\n",
    "    text_to_speech,\n",
    "    edit_podcast_audio,\n",
    "]"
   ]
  },
  {
   "cell_type": "code",
   "execution_count": 7,
   "metadata": {},
   "outputs": [],
   "source": [
    "from typing import List, Optional\n",
    "from langchain.output_parsers.openai_functions import JsonOutputFunctionsParser\n",
    "from langchain_core.prompts import ChatPromptTemplate, MessagesPlaceholder\n",
    "from langchain_core.messages import HumanMessage\n",
    "from langchain_openai import ChatOpenAI\n",
    "\n",
    "from langgraph.graph import StateGraph, START, END\n",
    "\n",
    "def agent_node(state, agent, name):\n",
    "    result = agent.invoke(state)\n",
    "    return {\"messages\": [HumanMessage(content=result[\"messages\"][-1].content, name=name)]}\n",
    "\n",
    "def create_team_supervisor(llm: ChatOpenAI, system_prompt, members) -> str:\n",
    "    \"\"\" A LLM-based router. \"\"\"\n",
    "    options = [\"FINISH\"] + members\n",
    "    print(options)\n",
    "    function_def = {\n",
    "        \"name\": \"route\",\n",
    "        \"description\": \"Select the next role.\",\n",
    "        \"parameters\": {\n",
    "            \"title\": \"routeSchema\",\n",
    "            \"type\": \"object\",\n",
    "            \"properties\": {\n",
    "                \"next\": {\n",
    "                    \"title\": \"Next\",\n",
    "                    \"anyOf\": [\n",
    "                        {\"enum\": options},\n",
    "                    ],\n",
    "                },\n",
    "            },\n",
    "            \"required\": [\"next\"],\n",
    "        },\n",
    "    }\n",
    "    prompt = ChatPromptTemplate.from_messages([\n",
    "        (\"system\", system_prompt),\n",
    "        MessagesPlaceholder(variable_name=\"messages\"),\n",
    "        (\n",
    "            \"system\",\n",
    "            \"Given the conversation above, who should act next?\"\n",
    "            \" Or should we FINISH? Select one of: {options}\",\n",
    "        ),\n",
    "    ]).partial(options=str(options), team_members=\", \".join(members))\n",
    "    print(\"Research Team is created !!!!\")\n",
    "    return (\n",
    "        prompt\n",
    "        | llm.bind_functions(functions=[function_def], function_call=\"route\")\n",
    "        | JsonOutputFunctionsParser()\n",
    "    )"
   ]
  },
  {
   "cell_type": "markdown",
   "metadata": {},
   "source": [
    "Researh Team"
   ]
  },
  {
   "cell_type": "code",
   "execution_count": 8,
   "metadata": {},
   "outputs": [
    {
     "name": "stdout",
     "output_type": "stream",
     "text": [
      "['FINISH', 'Search', 'WebScraper']\n",
      "Research Team is created !!!!\n"
     ]
    },
    {
     "name": "stderr",
     "output_type": "stream",
     "text": [
      "/tmp/ipykernel_196/2663850324.py:46: LangChainDeprecationWarning: The method `BaseChatOpenAI.bind_functions` was deprecated in langchain-openai 0.2.1 and will be removed in 1.0.0. Use :meth:`~langchain_openai.chat_models.base.ChatOpenAI.bind_tools` instead.\n",
      "  | llm.bind_functions(functions=[function_def], function_call=\"route\")\n"
     ]
    }
   ],
   "source": [
    "import functools\n",
    "import operator\n",
    "from typing_extensions import TypedDict\n",
    "from typing import Annotated\n",
    "from langchain_core.messages import BaseMessage, HumanMessage\n",
    "from langchain_openai import ChatOpenAI\n",
    "from langgraph.prebuilt import create_react_agent\n",
    "\n",
    "class ResearchTeamState(TypedDict):\n",
    "    # A message is added after each team member finishes\n",
    "    messages: Annotated[List[BaseMessage], operator.add]\n",
    "\n",
    "    # The team members are tracked so they are aware of\n",
    "    # the others' skill-sets\n",
    "    team_members: List[str]\n",
    "    # Used to route work. The supervisor calls a function\n",
    "    # that will update this every time it makes a decision    \n",
    "    next: str\n",
    "\n",
    "llm = ChatOpenAI(model=\"gpt-4o-mini\")\n",
    "\n",
    "search_system = \"\"\"\n",
    "You are a search specialist in a research team. Your role is to use the Tavily search tool to find relevant and up-to-date information\n",
    "on the given topic to generate the podcast. \n",
    "\n",
    "Your tasks:\n",
    "1. Analyze the user's rquest or question.\n",
    "2. Formulate effective search queries based on the request.\n",
    "3. Use the Tavily search tool to find information.\n",
    "4. Summarize the most relevant findings concisely.\n",
    "5. If the search results are insufficient, consider refining your search query and trying again.\n",
    "\n",
    "Always strive for accuracy and relevance in your search results.\n",
    "If you can't find satisfactory information, be honest about the limitations of your search.\n",
    "\"\"\"\n",
    "\n",
    "search_agent = create_react_agent(llm, tools=[tavily_tool], state_modifier=search_system)\n",
    "search_node = functools.partial(agent_node, agent=search_agent, name=\"Search\")\n",
    "\n",
    "webscraper_system = \"\"\"\n",
    "You are a web scraping specialist in a research team.\n",
    "Your role is to extract detailed information from specific web pages using scrape_webpages tool.\n",
    "\n",
    "Your tasks:\n",
    "1. Analyze the URLs or web pages provided, usually as a result of the Search agent's findings.\n",
    "2. Use the scrape_webpages tool to extract relvant content from these pages.\n",
    "3. Process adn summarize the scraped content, focusing on the most pertinent information related to the research topic.\n",
    "4. If the scraped content is not satisfactory, consider requesting different URLs from the Search agent or suggesting refinements to the search query.\n",
    "\n",
    "Ensure that you respect website terms of service and ethical scraping practices. Always summarize the contextualize the information you scrape, don't justify.\n",
    "\"\"\"\n",
    "research_agent = create_react_agent(llm, tools=[scrape_webpages], state_modifier=webscraper_system)\n",
    "research_node = functools.partial(agent_node, agent=research_agent, name=\"WebScraper\")\n",
    "\n",
    "\n",
    "supervisor_agent = create_team_supervisor(\n",
    "    llm,\n",
    "    \"\"\"You are a supervisor tasked with managing a conversation between the following workers:\n",
    "    Search: A search specialist who uses the Tavily search tool to find relevant information.\n",
    "    WebScraper: A web scraping specialist who extracts detailed information from web pages.\n",
    "    Given the following user request, respond with the worker to act next.\n",
    "    Each worker will perform a task and respond with their results and status. When finished, respond with FINISH.\"\"\",\n",
    "    [\"Search\", \"WebScraper\"],\n",
    ")\n"
   ]
  },
  {
   "cell_type": "code",
   "execution_count": 9,
   "metadata": {},
   "outputs": [],
   "source": [
    "\n",
    "research_graph = StateGraph(ResearchTeamState)\n",
    "research_graph.add_node(\"Search\", search_node)\n",
    "research_graph.add_node(\"WebScraper\", research_node)\n",
    "research_graph.add_node(\"supervisor\", supervisor_agent)\n",
    "\n",
    "research_graph.add_edge(\"Search\", \"supervisor\")\n",
    "research_graph.add_edge(\"WebScraper\", \"supervisor\")\n",
    "research_graph.add_conditional_edges(\n",
    "    \"supervisor\",\n",
    "    lambda x: x[\"next\"],\n",
    "    {\"Search\": \"Search\", \"WebScraper\": \"WebScraper\", \"FINISH\": END},\n",
    ")\n",
    "\n",
    "research_graph.add_edge(START, \"supervisor\")\n",
    "chain = research_graph.compile()\n",
    "\n",
    "# 상위 그래프와 하위 그래프의 연결\n",
    "def enter_chain(message: str):\n",
    "    results = {\n",
    "        \"messages\": [HumanMessage(content=message)],\n",
    "    }\n",
    "    return results\n",
    "\n",
    "research_chain = enter_chain | chain"
   ]
  },
  {
   "cell_type": "code",
   "execution_count": 10,
   "metadata": {},
   "outputs": [],
   "source": [
    "# from util import display_graph\n",
    "# display_graph(research_chain)"
   ]
  },
  {
   "cell_type": "code",
   "execution_count": 11,
   "metadata": {},
   "outputs": [
    {
     "name": "stdout",
     "output_type": "stream",
     "text": [
      "{'supervisor': {'next': 'Search'}}\n",
      "-----\n",
      "{'Search': {'messages': [HumanMessage(content='### Summary of Findings on \"DeepSeek\"\\n\\n**In Technology:**\\nDeepSeek is an emerging open-source AI model developed by a Chinese startup, challenging the dominance of established Western tech giants like OpenAI, Microsoft, Meta, and Google. Launched in late 2023, DeepSeek\\'s models offer significant capabilities at a fraction of the cost, with reports stating that it achieved superior results with only $6 million in investment versus the hundreds of millions spent by competitors. This disruption is expected to transform the business models of the tech industry, emphasizing affordability and accessibility in AI technology. Furthermore, DeepSeek\\'s competitive pricing threatens the traditional revenue structure, which relies on proprietary technology and subscription models.\\n\\nKey points include:\\n- DeepSeek\\'s open-source approach increases competitiveness and accessibility in AI development.\\n- It demonstrates capabilities comparable to models from leading companies while significantly reducing costs.\\n- The launch of DeepSeek has shifted market dynamics, such as causing significant drops in stock values of established firms like NVIDIA.\\n\\n**In Economics:**\\nThe introduction of DeepSeek has led to substantial financial repercussions in the markets, estimating a loss of about a trillion dollars in market capitalization for U.S. tech firms as investors recognized the implications of DeepSeek\\'s innovations. This reflects a shift in the economic landscape regarding how AI is developed and utilized, suggesting that innovation might lower costs and increase the availability of AI technologies globally. Some observers describe this moment as \"AI\\'s Sputnik moment,\" drawing parallels with the historical competition during the early space race between the U.S. and the Soviet Union. The emergence of DeepSeek could redefine investment strategies in AI, challenging the belief that such development requires unlimited financial resources.\\n\\nKey points include:\\n- Significant drops in the market capitalization of U.S. tech companies following DeepSeek\\'s developments.\\n- An emerging perception that competition and innovation will lead to cheaper, more useful AI technologies.\\n- Potential shifts in investment strategies in the AI sector due to DeepSeek\\'s approach.\\n\\n### References:\\n- [BuiltIn](https://builtin.com/artificial-intelligence/what-deepseek-means-for-tech)\\n- [TechTarget](https://www.techtarget.com/whatis/feature/DeepSeek-explained-Everything-you-need-to-know)\\n- [The Economist](https://www.economist.com/leaders/2025/01/29/the-real-meaning-of-the-deepseek-drama)\\n- [AP News](https://apnews.com/article/deepseek-ai-china-f4908eaca221d601e31e7e3368778030)\\n- [Investopedia](https://www.investopedia.com/deepseek-ai-investing-8782152)\\n\\nThis concise summary provides an overview of the implications of DeepSeek in both technology and economics. If more details or specific areas of focus are needed, further refinement and searches can be conducted.', additional_kwargs={}, response_metadata={}, name='Search')]}}\n",
      "-----\n",
      "{'supervisor': {'next': 'WebScraper'}}\n",
      "-----\n",
      "{'WebScraper': {'messages': [HumanMessage(content=\"### DeepSeek: Overview in Technology and Economics\\n\\n**In Technology:**\\n\\nDeepSeek, a pioneering AI model developed by a Chinese startup, has emerged as a formidable competitor to established American firms like OpenAI, Microsoft, and Google. Launched in late 2023, it showcases significant advancements in efficiency and cost-effectiveness. Key aspects of DeepSeek's technology include:\\n\\n- **Open-Source Development**: DeepSeek's models are open-source, allowing widespread access and modification, thereby democratizing AI development.\\n- **Cost Efficiency**: DeepSeek has achieved groundbreaking results with a reported investment of just $6 million. In contrast, Western tech giants typically invest hundreds of millions in AI development.\\n- **Efficiency Innovations**: Utilizing novel architectural designs such as Mixture-of-Experts (MoE), DeepSeek operates far more efficiently, activating only a fraction of its total parameters per task, resulting in lower computational costs.\\n- **Impact on Established Firms**: The launch of DeepSeek has significantly affected the market, triggering declines in the stock prices of major tech companies like NVIDIA, which lost nearly $600 billion in market capitalization.\\n\\n**In Economics:**\\n\\nThe implications of DeepSeek extend beyond technical capabilities into economic transformations:\\n\\n- **Market Repercussions**: Investors reacted strongly to DeepSeek's innovations, leading to an estimated loss of about a trillion dollars in market capitalization for U.S. tech firms as the competitive landscape shifted.\\n- **Affordable AI Access**: With DeepSeek's low-cost model, there is a potential for enhanced accessibility to AI technologies, fostering innovation and application across various sectors.\\n- **Geopolitical Dynamics**: DeepSeek's success raises critical questions about the future of global AI supremacy, highlighting the resilience of Chinese tech innovation despite U.S. sanctions and export controls.\\n- **Investment Strategies**: The rise of DeepSeek suggests a reevaluation of investment strategies within the tech sector, encouraging a focus on more efficient methods of AI development rather than solely on high expenditures.\\n\\n### Conclusion\\n\\nDeepSeek represents a paradigm shift in AI development, showcasing how innovation can thrive even under resource constraints. It challenges traditional economic assumptions about technology development, signaling possible changes in both the competitive landscape and investment strategies in AI, with ramifications that could reshape the future of the tech industry and global economic dynamics.\", additional_kwargs={}, response_metadata={}, name='WebScraper')]}}\n",
      "-----\n",
      "{'supervisor': {'next': 'FINISH'}}\n",
      "-----\n"
     ]
    },
    {
     "ename": "GraphRecursionError",
     "evalue": "Recursion limit of 5 reached without hitting a stop condition. You can increase the limit by setting the `recursion_limit` config key.\nFor troubleshooting, visit: https://python.langchain.com/docs/troubleshooting/errors/GRAPH_RECURSION_LIMIT",
     "output_type": "error",
     "traceback": [
      "\u001b[0;31m---------------------------------------------------------------------------\u001b[0m",
      "\u001b[0;31mGraphRecursionError\u001b[0m                       Traceback (most recent call last)",
      "Cell \u001b[0;32mIn[11], line 8\u001b[0m\n\u001b[1;32m      1\u001b[0m \u001b[38;5;66;03m# Test\u001b[39;00m\n\u001b[1;32m      2\u001b[0m initial_state: ResearchTeamState \u001b[38;5;241m=\u001b[39m {  \u001b[38;5;66;03m# Type the initial state\u001b[39;00m\n\u001b[1;32m      3\u001b[0m     \u001b[38;5;124m\"\u001b[39m\u001b[38;5;124mmessages\u001b[39m\u001b[38;5;124m\"\u001b[39m: [HumanMessage(content\u001b[38;5;241m=\u001b[39m\u001b[38;5;124m\"\u001b[39m\u001b[38;5;124mDeepSeek meaning in Technology and Economics.\u001b[39m\u001b[38;5;124m\"\u001b[39m)],\n\u001b[1;32m      4\u001b[0m     \u001b[38;5;124m\"\u001b[39m\u001b[38;5;124mteam_members\u001b[39m\u001b[38;5;124m\"\u001b[39m: [\u001b[38;5;124m\"\u001b[39m\u001b[38;5;124mSearch\u001b[39m\u001b[38;5;124m\"\u001b[39m, \u001b[38;5;124m\"\u001b[39m\u001b[38;5;124mWebScraper\u001b[39m\u001b[38;5;124m\"\u001b[39m],  \u001b[38;5;66;03m# Important: Initialize team members\u001b[39;00m\n\u001b[1;32m      5\u001b[0m     \u001b[38;5;124m\"\u001b[39m\u001b[38;5;124mnext\u001b[39m\u001b[38;5;124m\"\u001b[39m: \u001b[38;5;28;01mNone\u001b[39;00m,  \u001b[38;5;66;03m# Initialize 'next'\u001b[39;00m\n\u001b[1;32m      6\u001b[0m }\n\u001b[0;32m----> 8\u001b[0m \u001b[38;5;28;43;01mfor\u001b[39;49;00m\u001b[43m \u001b[49m\u001b[43ms\u001b[49m\u001b[43m \u001b[49m\u001b[38;5;129;43;01min\u001b[39;49;00m\u001b[43m \u001b[49m\u001b[43mchain\u001b[49m\u001b[38;5;241;43m.\u001b[39;49m\u001b[43mstream\u001b[49m\u001b[43m(\u001b[49m\u001b[43minitial_state\u001b[49m\u001b[43m,\u001b[49m\u001b[43m \u001b[49m\u001b[43m{\u001b[49m\u001b[38;5;124;43m\"\u001b[39;49m\u001b[38;5;124;43mrecursion_limit\u001b[39;49m\u001b[38;5;124;43m\"\u001b[39;49m\u001b[43m:\u001b[49m\u001b[43m \u001b[49m\u001b[38;5;241;43m5\u001b[39;49m\u001b[43m}\u001b[49m\u001b[43m)\u001b[49m\u001b[43m:\u001b[49m\u001b[43m \u001b[49m\u001b[38;5;66;43;03m# Pass the TypedDict\u001b[39;49;00m\n\u001b[1;32m      9\u001b[0m \u001b[43m    \u001b[49m\u001b[38;5;28;43;01mif\u001b[39;49;00m\u001b[43m \u001b[49m\u001b[38;5;124;43m\"\u001b[39;49m\u001b[38;5;124;43m__end__\u001b[39;49m\u001b[38;5;124;43m\"\u001b[39;49m\u001b[43m \u001b[49m\u001b[38;5;129;43;01mnot\u001b[39;49;00m\u001b[43m \u001b[49m\u001b[38;5;129;43;01min\u001b[39;49;00m\u001b[43m \u001b[49m\u001b[43ms\u001b[49m\u001b[43m:\u001b[49m\n\u001b[1;32m     10\u001b[0m \u001b[43m        \u001b[49m\u001b[38;5;28;43mprint\u001b[39;49m\u001b[43m(\u001b[49m\u001b[43ms\u001b[49m\u001b[43m)\u001b[49m\n",
      "File \u001b[0;32m~/langchain-kr/myenv/lib/python3.11/site-packages/langgraph/pregel/__init__.py:1690\u001b[0m, in \u001b[0;36mPregel.stream\u001b[0;34m(self, input, config, stream_mode, output_keys, interrupt_before, interrupt_after, debug, subgraphs)\u001b[0m\n\u001b[1;32m   1681\u001b[0m \u001b[38;5;28;01mif\u001b[39;00m loop\u001b[38;5;241m.\u001b[39mstatus \u001b[38;5;241m==\u001b[39m \u001b[38;5;124m\"\u001b[39m\u001b[38;5;124mout_of_steps\u001b[39m\u001b[38;5;124m\"\u001b[39m:\n\u001b[1;32m   1682\u001b[0m     msg \u001b[38;5;241m=\u001b[39m create_error_message(\n\u001b[1;32m   1683\u001b[0m         message\u001b[38;5;241m=\u001b[39m(\n\u001b[1;32m   1684\u001b[0m             \u001b[38;5;124mf\u001b[39m\u001b[38;5;124m\"\u001b[39m\u001b[38;5;124mRecursion limit of \u001b[39m\u001b[38;5;132;01m{\u001b[39;00mconfig[\u001b[38;5;124m'\u001b[39m\u001b[38;5;124mrecursion_limit\u001b[39m\u001b[38;5;124m'\u001b[39m]\u001b[38;5;132;01m}\u001b[39;00m\u001b[38;5;124m reached \u001b[39m\u001b[38;5;124m\"\u001b[39m\n\u001b[0;32m   (...)\u001b[0m\n\u001b[1;32m   1688\u001b[0m         error_code\u001b[38;5;241m=\u001b[39mErrorCode\u001b[38;5;241m.\u001b[39mGRAPH_RECURSION_LIMIT,\n\u001b[1;32m   1689\u001b[0m     )\n\u001b[0;32m-> 1690\u001b[0m     \u001b[38;5;28;01mraise\u001b[39;00m GraphRecursionError(msg)\n\u001b[1;32m   1691\u001b[0m \u001b[38;5;66;03m# set final channel values as run output\u001b[39;00m\n\u001b[1;32m   1692\u001b[0m run_manager\u001b[38;5;241m.\u001b[39mon_chain_end(loop\u001b[38;5;241m.\u001b[39moutput)\n",
      "\u001b[0;31mGraphRecursionError\u001b[0m: Recursion limit of 5 reached without hitting a stop condition. You can increase the limit by setting the `recursion_limit` config key.\nFor troubleshooting, visit: https://python.langchain.com/docs/troubleshooting/errors/GRAPH_RECURSION_LIMIT"
     ]
    }
   ],
   "source": [
    "# Test\n",
    "# initial_state: ResearchTeamState = {  # Type the initial state\n",
    "#     \"messages\": [HumanMessage(content=\"DeepSeek meaning in Technology and Economics.\")],\n",
    "#     \"team_members\": [\"Search\", \"WebScraper\"],  # Important: Initialize team members\n",
    "#     \"next\": None,  # Initialize 'next'\n",
    "# }\n",
    "\n",
    "# for s in chain.stream(initial_state, {\"recursion_limit\": 5}): # Pass the TypedDict\n",
    "#     if \"__end__\" not in s:\n",
    "#         print(s)\n",
    "#         print('-----')"
   ]
  },
  {
   "cell_type": "markdown",
   "metadata": {},
   "source": [
    "Podcast Team 정의"
   ]
  },
  {
   "cell_type": "code",
   "execution_count": 12,
   "metadata": {},
   "outputs": [
    {
     "name": "stdout",
     "output_type": "stream",
     "text": [
      "['FINISH', 'PodcastPlanner', 'AudioProducer']\n",
      "Research Team is created !!!!\n"
     ]
    }
   ],
   "source": [
    "class PodcastTeamState(TypedDict):\n",
    "    messages: Annotated[List[BaseMessage], operator.add]\n",
    "    team_members: List[str]\n",
    "    next: str\n",
    "    script: List[dict]\n",
    "    audio_segments: List[str]\n",
    "\n",
    "podcast_plan_system=\"\"\"\n",
    "You are tasked with creating a structured script for a podcast episode.\n",
    "The script should consist of series of interactions between the host and the guest based on the provided topic and information from the research.\n",
    "IMPORTANT NOTE: The podcast sholud have 2 or more speakers to have a conversation.\n",
    "\n",
    "For each part of the dialogue, clearly specify whether it's the host speaking or the guest. Also, assign a suitable voice model for text-to-speach conversation.\n",
    "\n",
    "- Host segments: Use the 'alloy' voice model.\n",
    "- Guest segmetns: Use the 'fable' voice model.\n",
    "\n",
    "The output should be a list where each item is a dictionary with keys 'speaker', 'text', and 'voice', indicating the speaker (host or geust)\n",
    "\n",
    "Example output format:\n",
    "[\n",
    "    {\"speaker\"}: \"host\", \"text\": \"Welcome to our podcast, where we explore the lastest in technology.\", \"voice\": \"alloy\"},\n",
    "    {\"speaker\"}: \"guest\", \"text\": \"Thank you for inviting me, it's great to be here to share my experiences.\", \"voice\": \"fable\"},\n",
    "    {\"speaker\"}: \"host\", \"text\": \"Can you tell us about your current project?\", \"voice\": \"alloy\"},\n",
    "    {\"speaker\"}: \"guest\", \"text\": \"Certainly! I've bean working on a new AI platform that...\", \"voice\": \"fable\"},\n",
    "    ...\n",
    "]\n",
    "\n",
    "Your taks is to generate a similar structured script in **KOREAN**, ensuring each dialogue segment between the host and guest is well-defined and allocating balanced.\n",
    "\"\"\"\n",
    "\n",
    "podcast_planner_agent = create_react_agent(\n",
    "    llm, state_modifier=podcast_plan_system, tools=[tavily_tool]\n",
    ")\n",
    "\n",
    "podcast_planner_node = functools.partial(agent_node, agent=podcast_planner_agent, name=\"PodcastPlanner\")\n",
    "\n",
    "audio_producer_system=\"\"\"\n",
    "You are resonsible for producing the final audio for the podcast episode. Take the structured script provided by the Podcast Planner, which contains seqments. \n",
    "For each segment, use the 'text_to_speech' tool to generate audio, specifying the 'text' and 'voice' as provided. \n",
    "Ensure each segment is saved as a seperated audio file. After generating all segments, use the 'edit_podcast_audio' tool to combine there audio files \n",
    "into on one seamless podcast episode. The audio files should be combined in the order they are provided in the script, with appropriate pauses between segments\n",
    "to simulate a natural conversation.\n",
    "\n",
    "Your ouptput sholud be the path to the final combined podcast episode audio file.\n",
    "\"\"\"\n",
    "\n",
    "audio_producer_agent = create_react_agent(\n",
    "    llm, [text_to_speech, edit_podcast_audio], state_modifier=audio_producer_system\n",
    ")\n",
    "audio_producer_node = functools.partial(agent_node, agent=audio_producer_agent, name=\"AudioProducer\")\n",
    "\n",
    "podcast_supervisor = create_team_supervisor(\n",
    "    llm,\n",
    "    \"\"\"You are a supervisor tasked with managing the podcast creation process.\n",
    "    Your team consists of a PodcastPlanner and an AudioProducer.\n",
    "    Given the current state, decide which team member should act next or if the process is complete.\n",
    "    Respond with 'PodcastPlanner', 'AudioProducer', or 'FINISH', \"\"\",\n",
    "    [\"PodcastPlanner\", \"AudioProducer\"]\n",
    ")"
   ]
  },
  {
   "cell_type": "code",
   "execution_count": 13,
   "metadata": {},
   "outputs": [],
   "source": [
    "podcast_graph = StateGraph(PodcastTeamState)\n",
    "podcast_graph.add_node(\"PodcastPlanner\", podcast_planner_node)\n",
    "podcast_graph.add_node(\"AudioProducer\", audio_producer_node)\n",
    "podcast_graph.add_node(\"supervisor\", podcast_supervisor)\n",
    "\n",
    "podcast_graph.add_edge(START, \"supervisor\")\n",
    "podcast_graph.add_edge(\"PodcastPlanner\", \"supervisor\")\n",
    "podcast_graph.add_edge(\"AudioProducer\", \"supervisor\")\n",
    "podcast_graph.add_conditional_edges(\n",
    "    \"supervisor\",\n",
    "    lambda x: x[\"next\"],\n",
    "    {\"PodcastPlanner\": \"PodcastPlanner\", \"AudioProducer\": \"AudioProducer\", \"FINISH\": END},\n",
    ")\n",
    "\n",
    "chain = podcast_graph.compile()\n",
    "\n",
    "# 상위 그래프와 하위 그래프의 연결\n",
    "def enter_chain(message: str):\n",
    "    results = {\n",
    "        \"messages\": [HumanMessage(content=message)],\n",
    "        \"team_members\": [\"PodcastPlanner\", \"AudioProducer\"],\n",
    "        \"next\": \"\",\n",
    "        \"script\": [],\n",
    "        \"audio_segments\": []\n",
    "    }\n",
    "    return results\n",
    "\n",
    "podcast_chain = enter_chain | chain"
   ]
  },
  {
   "cell_type": "code",
   "execution_count": 14,
   "metadata": {},
   "outputs": [
    {
     "ename": "NameError",
     "evalue": "name 'display_graph' is not defined",
     "output_type": "error",
     "traceback": [
      "\u001b[0;31m---------------------------------------------------------------------------\u001b[0m",
      "\u001b[0;31mNameError\u001b[0m                                 Traceback (most recent call last)",
      "Cell \u001b[0;32mIn[14], line 1\u001b[0m\n\u001b[0;32m----> 1\u001b[0m \u001b[43mdisplay_graph\u001b[49m(podcast_chain)\n",
      "\u001b[0;31mNameError\u001b[0m: name 'display_graph' is not defined"
     ]
    }
   ],
   "source": [
    "display_graph(podcast_chain)"
   ]
  },
  {
   "cell_type": "markdown",
   "metadata": {},
   "source": [
    "상위 레이어의 Supervisor 정의하기"
   ]
  },
  {
   "cell_type": "code",
   "execution_count": 15,
   "metadata": {},
   "outputs": [
    {
     "name": "stdout",
     "output_type": "stream",
     "text": [
      "['FINISH', 'ResearchTeam', 'PodcastTeam']\n",
      "Research Team is created !!!!\n"
     ]
    }
   ],
   "source": [
    "supervisor_node = create_team_supervisor(\n",
    "    llm,\n",
    "    \"\"\"\n",
    "    You are a supervisor tasked with managing a conversation between the following teams: {team_members}.\n",
    "    Given the following user request, respond with the worker to act next. \n",
    "    Each worker will perform a task and respond with their results and status. When finished, respond with FINISH.\n",
    "    \"\"\",\n",
    "    [\"ResearchTeam\", \"PodcastTeam\"],\n",
    ")"
   ]
  },
  {
   "cell_type": "code",
   "execution_count": 16,
   "metadata": {},
   "outputs": [],
   "source": [
    "class State(TypedDict):\n",
    "    messages: Annotated[List[BaseMessage], operator.add]\n",
    "    next: str\n",
    "\n",
    "def get_last_message(state: State) -> str:\n",
    "    return state[\"messages\"][-1].content\n",
    "\n",
    "def join_graph(response:dict):\n",
    "    return {\"messages\": [response[\"messages\"][-1]]}\n",
    "\n",
    "super_graph = StateGraph(State)\n",
    "super_graph.add_node(\"ResearchTeam\", get_last_message | research_chain | join_graph)\n",
    "super_graph.add_node(\"PodcastTeam\", get_last_message | podcast_chain | join_graph)\n",
    "super_graph.add_node(\"supervisor\", supervisor_node)\n",
    "\n",
    "super_graph.add_edge(START, \"supervisor\")\n",
    "super_graph.add_edge(\"ResearchTeam\", \"supervisor\")\n",
    "super_graph.add_edge(\"PodcastTeam\", \"supervisor\")\n",
    "super_graph.add_conditional_edges(\n",
    "    \"supervisor\",\n",
    "    lambda x: x[\"next\"],\n",
    "    {\n",
    "        \"PodcastTeam\": \"PodcastTeam\", \"ResearchTeam\": \"ResearchTeam\", \"FINISH\": END\n",
    "    }\n",
    ")\n",
    "super_graph = super_graph.compile()\n"
   ]
  },
  {
   "cell_type": "code",
   "execution_count": null,
   "metadata": {},
   "outputs": [
    {
     "data": {
      "image/png": "[encoded data removed]",
      "text/plain": [
       "<IPython.core.display.Image object>"
      ]
     },
     "metadata": {},
     "output_type": "display_data"
    }
   ],
   "source": [
    "display_graph(super_graph)"
   ]
  },
  {
   "cell_type": "code",
   "execution_count": 17,
   "metadata": {},
   "outputs": [
    {
     "name": "stdout",
     "output_type": "stream",
     "text": [
      "{'supervisor': {'next': 'ResearchTeam'}}\n",
      "-----\n",
      "{'ResearchTeam': {'messages': [HumanMessage(content=\"### Summary of DeepSeek's Impact in Technology and Economy\\n\\n**1. In Technology:**\\n- **Overview**: DeepSeek, a startup established in May 2023 in Hangzhou, China, has quickly emerged as a significant player in AI, especially with its open-source large language models (LLMs). Its first model, R1, launched in January 2025, is touted for its efficiency and cost-effectiveness, reportedly developed at a fraction of the investment seen by major Western firms.\\n  \\n- **Technological Innovations**:\\n  - DeepSeek utilizes advanced architectures such as a **Mixture-of-Experts** and **Multi-Head Latent Attention**, which allow it to activate only the necessary parameters for tasks, enhancing performance while reducing resource consumption.\\n  - The company’s models can outperform competitors' systems like OpenAI's GPT-4 in capabilities while costing significantly less — around **$6 million** compared to hundreds of millions spent by others.\\n\\n- **Geopolitical Context**: The rise of DeepSeek suggests a shift in global tech power dynamics, raising concerns in the U.S. about losing technological leadership amidst China's advancements in AI. Its success, achieved despite U.S. export controls on high-end AI tech, indicates a substantial shift in the geopolitical landscape of AI development.\\n\\n- **Market Reaction**: Following DeepSeek's rise, stock prices of Western tech companies, particularly Nvidia, dropped significantly, reflecting investor concerns over the viability of traditional high-cost AI development strategies.\\n\\n**2. In Economy:**\\n- **Economic Disruption**: DeepSeek's emergence is challenging the conventional economic models of AI development, which heavily rely on capital-intensive processes. Instead, it demonstrates that AI innovation can be achieved through less costly and more efficient methods. This shift could democratize AI, making it accessible for smaller firms and developers without substantial financial backing.\\n\\n- **Market Impact**: The startup's success threatens the existing business models of major tech firms, promoting a reevaluation of the large investments being poured into AI. The potential for cheaper, open-source alternatives could lead to a more competitive and diverse tech market.\\n\\n- **Investments and Future Growth**: Analysts predict that the advancements from DeepSeek could lead to faster economic growth across sectors benefiting from AI, as it reduces both financial and infrastructural barriers.\\n\\n### Key Links for More Information:\\n- [Built In - DeepSeek's Technological Influence](https://builtin.com/artificial-intelligence/what-deepseek-means-for-tech)\\n- [TechTarget - Overview of DeepSeek](https://www.techtarget.com/whatis/feature/DeepSeek-explained-Everything-you-need-to-know)\\n- [Reuters on DeepSeek's Market Disruption](https://www.reuters.com/technology/artificial-intelligence/what-is-deepseek-why-is-it-disrupting-ai-sector-2025-01-27/)\\n- [AP News on Economic Implications](https://apnews.com/article/deepseek-ai-china-f4908eaca221d601e31e7e3368778030)\\n\\nIn conclusion, DeepSeek is not just reshaping AI technology but is also poised to redefine economic relations and competition in the global tech ecosystem, highlighting the increasing significance of efficient, accessible AI solutions.\", additional_kwargs={}, response_metadata={}, name='WebScraper')]}}\n",
      "-----\n",
      "{'supervisor': {'next': 'PodcastTeam'}}\n",
      "-----\n"
     ]
    },
    {
     "name": "stderr",
     "output_type": "stream",
     "text": [
      "/tmp/ipykernel_196/3535289669.py:18: DeprecationWarning: Due to a bug, this method doesn't actually stream the response content, `.with_streaming_response.method()` should be used instead\n",
      "  response.stream_to_file(speech_file_path)\n",
      "/tmp/ipykernel_196/3535289669.py:18: DeprecationWarning: Due to a bug, this method doesn't actually stream the response content, `.with_streaming_response.method()` should be used instead\n",
      "  response.stream_to_file(speech_file_path)\n",
      "/tmp/ipykernel_196/3535289669.py:18: DeprecationWarning: Due to a bug, this method doesn't actually stream the response content, `.with_streaming_response.method()` should be used instead\n",
      "  response.stream_to_file(speech_file_path)\n",
      "/tmp/ipykernel_196/3535289669.py:18: DeprecationWarning: Due to a bug, this method doesn't actually stream the response content, `.with_streaming_response.method()` should be used instead\n",
      "  response.stream_to_file(speech_file_path)\n",
      "/tmp/ipykernel_196/3535289669.py:18: DeprecationWarning: Due to a bug, this method doesn't actually stream the response content, `.with_streaming_response.method()` should be used instead\n",
      "  response.stream_to_file(speech_file_path)\n",
      "/tmp/ipykernel_196/3535289669.py:18: DeprecationWarning: Due to a bug, this method doesn't actually stream the response content, `.with_streaming_response.method()` should be used instead\n",
      "  response.stream_to_file(speech_file_path)\n",
      "/tmp/ipykernel_196/3535289669.py:18: DeprecationWarning: Due to a bug, this method doesn't actually stream the response content, `.with_streaming_response.method()` should be used instead\n",
      "  response.stream_to_file(speech_file_path)\n",
      "/tmp/ipykernel_196/3535289669.py:18: DeprecationWarning: Due to a bug, this method doesn't actually stream the response content, `.with_streaming_response.method()` should be used instead\n",
      "  response.stream_to_file(speech_file_path)\n",
      "/tmp/ipykernel_196/3535289669.py:18: DeprecationWarning: Due to a bug, this method doesn't actually stream the response content, `.with_streaming_response.method()` should be used instead\n",
      "  response.stream_to_file(speech_file_path)\n",
      "/tmp/ipykernel_196/3535289669.py:18: DeprecationWarning: Due to a bug, this method doesn't actually stream the response content, `.with_streaming_response.method()` should be used instead\n",
      "  response.stream_to_file(speech_file_path)\n",
      "/tmp/ipykernel_196/3535289669.py:18: DeprecationWarning: Due to a bug, this method doesn't actually stream the response content, `.with_streaming_response.method()` should be used instead\n",
      "  response.stream_to_file(speech_file_path)\n",
      "/tmp/ipykernel_196/3535289669.py:18: DeprecationWarning: Due to a bug, this method doesn't actually stream the response content, `.with_streaming_response.method()` should be used instead\n",
      "  response.stream_to_file(speech_file_path)\n",
      "/tmp/ipykernel_196/3535289669.py:18: DeprecationWarning: Due to a bug, this method doesn't actually stream the response content, `.with_streaming_response.method()` should be used instead\n",
      "  response.stream_to_file(speech_file_path)\n",
      "/tmp/ipykernel_196/3535289669.py:18: DeprecationWarning: Due to a bug, this method doesn't actually stream the response content, `.with_streaming_response.method()` should be used instead\n",
      "  response.stream_to_file(speech_file_path)\n",
      "/tmp/ipykernel_196/3535289669.py:18: DeprecationWarning: Due to a bug, this method doesn't actually stream the response content, `.with_streaming_response.method()` should be used instead\n",
      "  response.stream_to_file(speech_file_path)\n",
      "/tmp/ipykernel_196/3535289669.py:18: DeprecationWarning: Due to a bug, this method doesn't actually stream the response content, `.with_streaming_response.method()` should be used instead\n",
      "  response.stream_to_file(speech_file_path)\n",
      "/tmp/ipykernel_196/3535289669.py:18: DeprecationWarning: Due to a bug, this method doesn't actually stream the response content, `.with_streaming_response.method()` should be used instead\n",
      "  response.stream_to_file(speech_file_path)\n",
      "/tmp/ipykernel_196/3535289669.py:18: DeprecationWarning: Due to a bug, this method doesn't actually stream the response content, `.with_streaming_response.method()` should be used instead\n",
      "  response.stream_to_file(speech_file_path)\n",
      "/tmp/ipykernel_196/3535289669.py:18: DeprecationWarning: Due to a bug, this method doesn't actually stream the response content, `.with_streaming_response.method()` should be used instead\n",
      "  response.stream_to_file(speech_file_path)\n",
      "/tmp/ipykernel_196/3535289669.py:18: DeprecationWarning: Due to a bug, this method doesn't actually stream the response content, `.with_streaming_response.method()` should be used instead\n",
      "  response.stream_to_file(speech_file_path)\n",
      "/tmp/ipykernel_196/3535289669.py:18: DeprecationWarning: Due to a bug, this method doesn't actually stream the response content, `.with_streaming_response.method()` should be used instead\n",
      "  response.stream_to_file(speech_file_path)\n",
      "/tmp/ipykernel_196/3535289669.py:18: DeprecationWarning: Due to a bug, this method doesn't actually stream the response content, `.with_streaming_response.method()` should be used instead\n",
      "  response.stream_to_file(speech_file_path)\n",
      "/tmp/ipykernel_196/3535289669.py:18: DeprecationWarning: Due to a bug, this method doesn't actually stream the response content, `.with_streaming_response.method()` should be used instead\n",
      "  response.stream_to_file(speech_file_path)\n",
      "/tmp/ipykernel_196/3535289669.py:18: DeprecationWarning: Due to a bug, this method doesn't actually stream the response content, `.with_streaming_response.method()` should be used instead\n",
      "  response.stream_to_file(speech_file_path)\n",
      "/tmp/ipykernel_196/3535289669.py:18: DeprecationWarning: Due to a bug, this method doesn't actually stream the response content, `.with_streaming_response.method()` should be used instead\n",
      "  response.stream_to_file(speech_file_path)\n",
      "/tmp/ipykernel_196/3535289669.py:18: DeprecationWarning: Due to a bug, this method doesn't actually stream the response content, `.with_streaming_response.method()` should be used instead\n",
      "  response.stream_to_file(speech_file_path)\n"
     ]
    },
    {
     "name": "stdout",
     "output_type": "stream",
     "text": [
      "{'PodcastTeam': {'messages': [HumanMessage(content=\"I apologize for the ongoing issues with the podcast editing process. Unfortunately, I'm unable to resolve the audio editing errors at this moment. \\n\\nHowever, you do have all the individual audio segments generated. You might consider combining them using audio editing software like Audacity or GarageBand, where you can import the individual files and add the necessary pauses manually.\\n\\nOnce again, I'm sorry for the inconvenience caused, and if there's anything else you need, please feel free to ask!\", additional_kwargs={}, response_metadata={}, name='AudioProducer')]}}\n",
      "-----\n",
      "{'supervisor': {'next': 'PodcastTeam'}}\n",
      "-----\n"
     ]
    },
    {
     "name": "stderr",
     "output_type": "stream",
     "text": [
      "/tmp/ipykernel_196/3535289669.py:18: DeprecationWarning: Due to a bug, this method doesn't actually stream the response content, `.with_streaming_response.method()` should be used instead\n",
      "  response.stream_to_file(speech_file_path)\n",
      "/tmp/ipykernel_196/3535289669.py:18: DeprecationWarning: Due to a bug, this method doesn't actually stream the response content, `.with_streaming_response.method()` should be used instead\n",
      "  response.stream_to_file(speech_file_path)\n",
      "/tmp/ipykernel_196/3535289669.py:18: DeprecationWarning: Due to a bug, this method doesn't actually stream the response content, `.with_streaming_response.method()` should be used instead\n",
      "  response.stream_to_file(speech_file_path)\n",
      "/tmp/ipykernel_196/3535289669.py:18: DeprecationWarning: Due to a bug, this method doesn't actually stream the response content, `.with_streaming_response.method()` should be used instead\n",
      "  response.stream_to_file(speech_file_path)\n",
      "/tmp/ipykernel_196/3535289669.py:18: DeprecationWarning: Due to a bug, this method doesn't actually stream the response content, `.with_streaming_response.method()` should be used instead\n",
      "  response.stream_to_file(speech_file_path)\n",
      "/tmp/ipykernel_196/3535289669.py:18: DeprecationWarning: Due to a bug, this method doesn't actually stream the response content, `.with_streaming_response.method()` should be used instead\n",
      "  response.stream_to_file(speech_file_path)\n",
      "/tmp/ipykernel_196/3535289669.py:18: DeprecationWarning: Due to a bug, this method doesn't actually stream the response content, `.with_streaming_response.method()` should be used instead\n",
      "  response.stream_to_file(speech_file_path)\n",
      "/tmp/ipykernel_196/3535289669.py:18: DeprecationWarning: Due to a bug, this method doesn't actually stream the response content, `.with_streaming_response.method()` should be used instead\n",
      "  response.stream_to_file(speech_file_path)\n",
      "/tmp/ipykernel_196/3535289669.py:18: DeprecationWarning: Due to a bug, this method doesn't actually stream the response content, `.with_streaming_response.method()` should be used instead\n",
      "  response.stream_to_file(speech_file_path)\n",
      "/tmp/ipykernel_196/3535289669.py:18: DeprecationWarning: Due to a bug, this method doesn't actually stream the response content, `.with_streaming_response.method()` should be used instead\n",
      "  response.stream_to_file(speech_file_path)\n"
     ]
    },
    {
     "name": "stdout",
     "output_type": "stream",
     "text": [
      "{'PodcastTeam': {'messages': [HumanMessage(content='It seems that there\\'s a persistent issue with combining the audio segments into a single podcast episode file. Since you mentioned considering using audio editing software, it might be best to proceed with that option.\\n\\nI recommend downloading the generated segments \"segment1.mp3\", \"segment2.mp3\", and \"segment3.mp3\". You can import these into Audacity, GarageBand, or any audio editing software of your choice to combine them with the desired pauses manually.\\n\\nIf you need any further assistance or additional audio segments, please let me know!', additional_kwargs={}, response_metadata={}, name='AudioProducer')]}}\n",
      "-----\n",
      "{'supervisor': {'next': 'FINISH'}}\n",
      "-----\n"
     ]
    }
   ],
   "source": [
    "for s in super_graph.stream(\n",
    "    {\n",
    "        \"messages\": [\n",
    "            HumanMessage(\n",
    "                content=\"DeepSeek meaning in Technology and Economic\"\n",
    "            )\n",
    "        ]\n",
    "    },\n",
    "    {\"recursion_limit\": 150}\n",
    "):\n",
    "    if \"__end__\" not in s:\n",
    "        print(s)\n",
    "        print('-----')"
   ]
  },
  {
   "cell_type": "code",
   "execution_count": null,
   "metadata": {},
   "outputs": [],
   "source": []
  }
 ],
 "metadata": {
  "kernelspec": {
   "display_name": "myenv",
   "language": "python",
   "name": "python3"
  },
  "language_info": {
   "codemirror_mode": {
    "name": "ipython",
    "version": 3
   },
   "file_extension": ".py",
   "mimetype": "text/x-python",
   "name": "python",
   "nbconvert_exporter": "python",
   "pygments_lexer": "ipython3",
   "version": "3.11.8"
  }
 },
 "nbformat": 4,
 "nbformat_minor": 2
}
