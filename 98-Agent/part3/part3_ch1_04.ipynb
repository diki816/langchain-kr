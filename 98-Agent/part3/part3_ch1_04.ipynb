{
 "cells": [
  {
   "cell_type": "code",
   "execution_count": 1,
   "metadata": {},
   "outputs": [],
   "source": [
    "from dotenv import load_dotenv\n",
    "import os\n",
    "\n",
    "load_dotenv()\n",
    "\n",
    "openai_api_key = os.getenv(\"OPENAI_API_KEY\")\n",
    "openai_api_key = os.getenv(\"TAVILY_API_KEY\")"
   ]
  },
  {
   "cell_type": "code",
   "execution_count": 6,
   "metadata": {},
   "outputs": [],
   "source": [
    "from typing import Annotated\n",
    "from typing_extensions import TypedDict\n",
    "from langgraph.graph.message import add_messages\n",
    "from langchain_community.tools.tavily_search import TavilySearchResults\n",
    "from langgraph.prebuilt import ToolNode, tools_condition\n",
    "from langchain_openai import ChatOpenAI\n",
    "from langgraph.graph import StateGraph\n",
    "\n",
    "from langgraph.checkpoint.memory import MemorySaver\n",
    "\n",
    "memory = MemorySaver()\n",
    "\n",
    "class State(TypedDict):\n",
    "    messages: Annotated[list, add_messages]\n",
    "\n",
    "tool = TavilySearchResults(max_result=2)\n",
    "tools = [tool]\n",
    "tool_node = ToolNode(tools)\n",
    "\n",
    "llm = ChatOpenAI(model=\"gpt-4o-mini\")\n",
    "llm_with_tools = llm.bind_tools(tools)\n",
    "\n",
    "def chatbot(state: State):\n",
    "    result = llm_with_tools.invoke(state[\"messages\"])\n",
    "    return {\"messages\" : [result]}\n",
    "\n",
    "\n",
    "graph_builder = StateGraph(State)\n",
    "\n",
    "graph_builder.add_node(\"chatbot\", chatbot)\n",
    "graph_builder.add_node(\"tools\", tool_node)\n",
    "\n",
    "graph_builder.add_edge(\"tools\", \"chatbot\")\n",
    "graph_builder.add_conditional_edges(\"chatbot\", tools_condition)\n",
    "\n",
    "graph_builder.set_entry_point(\"chatbot\")\n",
    "graph = graph_builder.compile(checkpointer=memory)\n"
   ]
  },
  {
   "cell_type": "code",
   "execution_count": 8,
   "metadata": {},
   "outputs": [
    {
     "name": "stdout",
     "output_type": "stream",
     "text": [
      "Assistant:  \n",
      "Assistant:  [{\"url\": \"https://www.taskade.com/blog/top-autonomous-agents/\", \"content\": \"🐑🤖\\nCategorized in:\\nShare Article:\\nRelated Articles\\nTable of ContentsToggle Table of ContentToggle\\nLike what you read?\\nSubscribe to our email newsletter to get the latest posts delivered right to your email. Visit the repo page to learn more: https://github.com/microsoft/autogen\\nMetaGPT\\nMetaGPT is another framework for open-source AI agents that attempts to imitate the structure of a traditional software company. A (relatively ) hands-free AI experience.\\n💡 AI Agent Trivia: The concept of autonomous AI agents came to life with a paper titled “Task-Driven Autonomous Agent” published in early 2023 by Yohei Nakajima, general partner at Untapped Capital.\\n Visit the repo page to learn more: https://github.com/microsoft/JARVIS\\nOpenAGI\\nOpenAGI is an open-source AGI (artificial general intelligence) research platform combining small, expert models — models tailored for tasks like sentiment analysis or image deblurring — and Reinforcement Learning from Task Feedback (RLTF) for improving their output.\\n The Python script is only 140 words of code and, according to the official GitHub repo, “uses OpenAI and vector databases such as Chroma or Weaviate to create, prioritize, and execute tasks.”\\n\"}, {\"url\": \"https://www.projectpro.io/article/ai-agent-frameworks/1068\", \"content\": \"With its ability to integrate document retrieval, decision-making workflows, and customized language processing pipelines, LangChain is excellent for developers looking to create dynamic, context-aware AI agents for various industries, from customer service to data analytics. The framework easily integrates with other tools and databases, allowing developers to build AI agents that can interact with various systems, from cloud services to custom data repositories, to provide comprehensive solutions. LangGraph is a specialized AI agent framework that combines language models with knowledge graphs to create intelligent, data-driven agents capable of understanding and interacting with complex information networks. Semantic Kernel is an open-source AI framework developed by Microsoft to help build intelligent agents that leverage large language models (LLMs) and external tools to automate and orchestrate complex workflows.\"}, {\"url\": \"https://www.helicone.ai/blog/ai-agent-builders\", \"content\": \"6 Awesome Platforms & Frameworks for Building AI Agents (Open-Source & More) 6 Awesome Platforms & Frameworks for Building AI Agents (Open-Source & More) Today, we are covering our favorite open-source frameworks & platforms for building AI agents, how they compare, and our recommendations for different use cases — whether you need complex multi-agent systems or a simple no-code solution, these will help you get started. Dify AI is an open-source large language model (LLM) application development platform for building AI agents and complex workflows. AutoGen is Microsoft’s open-source framework providing developers with tools to build multi-agent systems, supporting diverse conversation patterns and customizable agents. • Steeper learning curve: Powerful, but can be complex compared to some other frameworks to beginners to AI agent building.\"}, {\"url\": \"https://stable-learn.com/en/global-open-source-ai-agents-introduction-and-selection/\", \"content\": \"In-Depth Comparison and Selection Guide for Global Open-Source AI Agent Frameworks (langgraph, AutoGen, MetaGPT, ChatDev, Swarm, uagents) • Tech Explorer 🚀 In-Depth Comparison and Selection Guide for Global Open-Source AI Agent Frameworks (langgraph, AutoGen, MetaGPT, ChatDev, Swarm, uagents) Ant Design X - React Component Library for Building AI Chat Applications CES 2024 Review：Revisiting the Tech Highlights of 2024 VLC Automatic Subtitles and Translation (Based on Local Offline Open-Source AI Models) | CES 2025 ClearerVoice-Studio: A One-Stop Solution for Speech Enhancement, Speech Denoising, Speech Separation and Speaker Extraction CogAgent-9B Released: A GUI Interaction Model Jointly Developed by Zhipu AI and Tsinghua How to Install and Use ComfyUI on Windows - Complete Guide DeepSeek-V3 Model In-Depth Analysis: A Brilliant Star in the New AI Era\"}, {\"url\": \"https://www.devopsschool.com/blog/list-of-top-10-multi-agent-orchestrator-frameworks-for-deploying-ai-agents/\", \"content\": \"List of Top 10 Multi-Agent Orchestrator Frameworks for Deploying AI Agents - DevOpsSchool.com Swarm by OpenAI is an experimental multi-agent orchestrator framework tailored for generative AI tasks. The Bee Agent Framework by IBM is a modular and enterprise-focused orchestration platform for managing large-scale multi-agent systems. Microsoft’s Magentic-One Framework is a cloud-native orchestration platform that seamlessly integrates multi-agent systems with Azure services. These top 10 multi-agent orchestrator frameworks represent the cutting edge of AI systems, catering to diverse needs from creative generative AI to robust enterprise solutions. List of Top 10 Multi-Agent Orchestrator Frameworks for Deploying AI Agents - November 24, 2024 Multi-Agent Orchestrator Framework for AI Agents - November 24, 2024\"}]\n",
      "Assistant:  Here's a summary of several AI agent development frameworks and their usage rates based on recent search results:\n",
      "\n",
      "1. **LangChain** - A versatile framework that is highly regarded for its ability to create dynamic, context-aware AI agents. It integrates well with various tools and databases.\n",
      "\n",
      "2. **AutoGen** - Developed by Microsoft, this framework specializes in multi-agent systems and supports various conversation patterns, but may have a steeper learning curve.\n",
      "\n",
      "3. **LangGraph** - Combines language models with knowledge graphs to create data-driven agents, suitable for complex information interaction.\n",
      "\n",
      "4. **MetaGPT** - An open-source framework that imitates traditional company structures for creating AI agents.\n",
      "\n",
      "5. **OpenAGI** - Focuses on artificial general intelligence by integrating expert models and Reinforcement Learning.\n",
      "\n",
      "6. **Semantic Kernel** - Another Microsoft open-source framework that leverages large language models and external tools for intelligent agent development.\n",
      "\n",
      "7. **Swarm** - An experimental framework by OpenAI designed for generative AI tasks, focusing on multi-agent orchestration.\n",
      "\n",
      "8. **Dify AI** - A large language model application development platform aimed at building AI agents and workflows.\n",
      "\n",
      "It's important to note that specific usage data or rankings may not be readily available in a structured format, and this list includes frameworks recognized for their capabilities in the AI agent development space rather than strict usage rates.\n",
      "Good bye\n"
     ]
    }
   ],
   "source": [
    "config = { \"configurable\": {\"thread_id\": \"1\"}}\n",
    "while True:\n",
    "    user_input = input(\"User: \")\n",
    "    if user_input.lower() in [\"quit\", \"q\", \"exit\"]:\n",
    "        print(\"Good bye\")\n",
    "        break\n",
    "    for event in graph.stream({\"messages\": (\"user\", user_input)}, config):\n",
    "        for value in event.values():\n",
    "            print(\"Assistant: \", value[\"messages\"][-1].content)"
   ]
  },
  {
   "cell_type": "code",
   "execution_count": 9,
   "metadata": {},
   "outputs": [
    {
     "data": {
      "text/plain": [
       "StateSnapshot(values={'messages': [HumanMessage(content='There are serveral AI-agent development frameworks, for example langgrah. Show the ranking of these frameworks by usages rate.', additional_kwargs={}, response_metadata={}, id='f0305a65-a80c-4971-ab10-ecdf01fe7ce0'), AIMessage(content='', additional_kwargs={'tool_calls': [{'id': 'call_uBGVEPj8skbmgMlBZA5kx3ll', 'function': {'arguments': '{\"query\":\"AI agent development frameworks rankings by usage rate 2023\"}', 'name': 'tavily_search_results_json'}, 'type': 'function'}], 'refusal': None}, response_metadata={'token_usage': {'completion_tokens': 29, 'prompt_tokens': 104, 'total_tokens': 133, 'completion_tokens_details': {'accepted_prediction_tokens': 0, 'audio_tokens': 0, 'reasoning_tokens': 0, 'rejected_prediction_tokens': 0}, 'prompt_tokens_details': {'audio_tokens': 0, 'cached_tokens': 0}}, 'model_name': 'gpt-4o-mini-2024-07-18', 'system_fingerprint': 'fp_72ed7ab54c', 'finish_reason': 'tool_calls', 'logprobs': None}, id='run-c01906d2-7ff3-41b4-a84d-a321360bd369-0', tool_calls=[{'name': 'tavily_search_results_json', 'args': {'query': 'AI agent development frameworks rankings by usage rate 2023'}, 'id': 'call_uBGVEPj8skbmgMlBZA5kx3ll', 'type': 'tool_call'}], usage_metadata={'input_tokens': 104, 'output_tokens': 29, 'total_tokens': 133, 'input_token_details': {'audio': 0, 'cache_read': 0}, 'output_token_details': {'audio': 0, 'reasoning': 0}}), ToolMessage(content='[{\"url\": \"https://www.taskade.com/blog/top-autonomous-agents/\", \"content\": \"🐑🤖\\\\nCategorized in:\\\\nShare Article:\\\\nRelated Articles\\\\nTable of ContentsToggle Table of ContentToggle\\\\nLike what you read?\\\\nSubscribe to our email newsletter to get the latest posts delivered right to your email. Visit the repo page to learn more: https://github.com/microsoft/autogen\\\\nMetaGPT\\\\nMetaGPT is another framework for open-source AI agents that attempts to imitate the structure of a traditional software company. A (relatively ) hands-free AI experience.\\\\n💡 AI Agent Trivia: The concept of autonomous AI agents came to life with a paper titled “Task-Driven Autonomous Agent” published in early 2023 by Yohei Nakajima, general partner at Untapped Capital.\\\\n Visit the repo page to learn more: https://github.com/microsoft/JARVIS\\\\nOpenAGI\\\\nOpenAGI is an open-source AGI (artificial general intelligence) research platform combining small, expert models — models tailored for tasks like sentiment analysis or image deblurring — and Reinforcement Learning from Task Feedback (RLTF) for improving their output.\\\\n The Python script is only 140 words of code and, according to the official GitHub repo, “uses OpenAI and vector databases such as Chroma or Weaviate to create, prioritize, and execute tasks.”\\\\n\"}, {\"url\": \"https://www.projectpro.io/article/ai-agent-frameworks/1068\", \"content\": \"With its ability to integrate document retrieval, decision-making workflows, and customized language processing pipelines, LangChain is excellent for developers looking to create dynamic, context-aware AI agents for various industries, from customer service to data analytics. The framework easily integrates with other tools and databases, allowing developers to build AI agents that can interact with various systems, from cloud services to custom data repositories, to provide comprehensive solutions. LangGraph is a specialized AI agent framework that combines language models with knowledge graphs to create intelligent, data-driven agents capable of understanding and interacting with complex information networks. Semantic Kernel is an open-source AI framework developed by Microsoft to help build intelligent agents that leverage large language models (LLMs) and external tools to automate and orchestrate complex workflows.\"}, {\"url\": \"https://www.helicone.ai/blog/ai-agent-builders\", \"content\": \"6 Awesome Platforms & Frameworks for Building AI Agents (Open-Source & More) 6 Awesome Platforms & Frameworks for Building AI Agents (Open-Source & More) Today, we are covering our favorite open-source frameworks & platforms for building AI agents, how they compare, and our recommendations for different use cases — whether you need complex multi-agent systems or a simple no-code solution, these will help you get started. Dify AI is an open-source large language model (LLM) application development platform for building AI agents and complex workflows. AutoGen is Microsoft’s open-source framework providing developers with tools to build multi-agent systems, supporting diverse conversation patterns and customizable agents. •\\xa0Steeper learning curve: Powerful, but can be complex compared to some other frameworks to beginners to AI agent building.\"}, {\"url\": \"https://stable-learn.com/en/global-open-source-ai-agents-introduction-and-selection/\", \"content\": \"In-Depth Comparison and Selection Guide for Global Open-Source AI Agent Frameworks (langgraph, AutoGen, MetaGPT, ChatDev, Swarm, uagents) • Tech Explorer 🚀 In-Depth Comparison and Selection Guide for Global Open-Source AI Agent Frameworks (langgraph, AutoGen, MetaGPT, ChatDev, Swarm, uagents) Ant Design X - React Component Library for Building AI Chat Applications CES 2024 Review：Revisiting the Tech Highlights of 2024 VLC Automatic Subtitles and Translation (Based on Local Offline Open-Source AI Models) | CES 2025 ClearerVoice-Studio: A One-Stop Solution for Speech Enhancement, Speech Denoising, Speech Separation and Speaker Extraction CogAgent-9B Released: A GUI Interaction Model Jointly Developed by Zhipu AI and Tsinghua How to Install and Use ComfyUI on Windows - Complete Guide DeepSeek-V3 Model In-Depth Analysis: A Brilliant Star in the New AI Era\"}, {\"url\": \"https://www.devopsschool.com/blog/list-of-top-10-multi-agent-orchestrator-frameworks-for-deploying-ai-agents/\", \"content\": \"List of Top 10 Multi-Agent Orchestrator Frameworks for Deploying AI Agents - DevOpsSchool.com Swarm by OpenAI is an experimental multi-agent orchestrator framework tailored for generative AI tasks. The Bee Agent Framework by IBM is a modular and enterprise-focused orchestration platform for managing large-scale multi-agent systems. Microsoft’s Magentic-One Framework is a cloud-native orchestration platform that seamlessly integrates multi-agent systems with Azure services. These top 10 multi-agent orchestrator frameworks represent the cutting edge of AI systems, catering to diverse needs from creative generative AI to robust enterprise solutions. List of Top 10 Multi-Agent Orchestrator Frameworks for Deploying AI Agents - November 24, 2024 Multi-Agent Orchestrator Framework for AI Agents - November 24, 2024\"}]', name='tavily_search_results_json', id='e1545b26-d472-49a3-b8b7-15a4eefd6e06', tool_call_id='call_uBGVEPj8skbmgMlBZA5kx3ll', artifact={'query': 'AI agent development frameworks rankings by usage rate 2023', 'follow_up_questions': None, 'answer': None, 'images': [], 'results': [{'title': 'Top 12 Open-Source Autonomous Agents & Agent Frameworks: The Future of ...', 'url': 'https://www.taskade.com/blog/top-autonomous-agents/', 'content': '🐑🤖\\nCategorized in:\\nShare Article:\\nRelated Articles\\nTable of ContentsToggle Table of ContentToggle\\nLike what you read?\\nSubscribe to our email newsletter to get the latest posts delivered right to your email. Visit the repo page to learn more: https://github.com/microsoft/autogen\\nMetaGPT\\nMetaGPT is another framework for open-source AI agents that attempts to imitate the structure of a traditional software company. A (relatively ) hands-free AI experience.\\n💡 AI Agent Trivia: The concept of autonomous AI agents came to life with a paper titled “Task-Driven Autonomous Agent” published in early 2023 by Yohei Nakajima, general partner at Untapped Capital.\\n Visit the repo page to learn more: https://github.com/microsoft/JARVIS\\nOpenAGI\\nOpenAGI is an open-source AGI (artificial general intelligence) research platform combining small, expert models — models tailored for tasks like sentiment analysis or image deblurring — and Reinforcement Learning from Task Feedback (RLTF) for improving their output.\\n The Python script is only 140 words of code and, according to the official GitHub repo, “uses OpenAI and vector databases such as Chroma or Weaviate to create, prioritize, and execute tasks.”\\n', 'score': 0.69049704, 'raw_content': None}, {'title': 'Top 7 AI Agent Frameworks for Building AI Agents - ProjectPro', 'url': 'https://www.projectpro.io/article/ai-agent-frameworks/1068', 'content': 'With its ability to integrate document retrieval, decision-making workflows, and customized language processing pipelines, LangChain is excellent for developers looking to create dynamic, context-aware AI agents for various industries, from customer service to data analytics. The framework easily integrates with other tools and databases, allowing developers to build AI agents that can interact with various systems, from cloud services to custom data repositories, to provide comprehensive solutions. LangGraph is a specialized AI agent framework that combines language models with knowledge graphs to create intelligent, data-driven agents capable of understanding and interacting with complex information networks. Semantic Kernel is an open-source AI framework developed by Microsoft to help build intelligent agents that leverage large language models (LLMs) and external tools to automate and orchestrate complex workflows.', 'score': 0.6205532, 'raw_content': None}, {'title': '7 Awesome Platforms & Frameworks for Building AI Agents (Open-Source ...', 'url': 'https://www.helicone.ai/blog/ai-agent-builders', 'content': '6 Awesome Platforms & Frameworks for Building AI Agents (Open-Source & More) 6 Awesome Platforms & Frameworks for Building AI Agents (Open-Source & More) Today, we are covering our favorite open-source frameworks & platforms for building AI agents, how they compare, and our recommendations for different use cases — whether you need complex multi-agent systems or a simple no-code solution, these will help you get started. Dify AI is an open-source large language model (LLM) application development platform for building AI agents and complex workflows. AutoGen is Microsoft’s open-source framework providing developers with tools to build multi-agent systems, supporting diverse conversation patterns and customizable agents. •\\xa0Steeper learning curve: Powerful, but can be complex compared to some other frameworks to beginners to AI agent building.', 'score': 0.564027, 'raw_content': None}, {'title': 'In-Depth Comparison and Selection Guide for Global Open-Source AI Agent ...', 'url': 'https://stable-learn.com/en/global-open-source-ai-agents-introduction-and-selection/', 'content': 'In-Depth Comparison and Selection Guide for Global Open-Source AI Agent Frameworks (langgraph, AutoGen, MetaGPT, ChatDev, Swarm, uagents) • Tech Explorer 🚀 In-Depth Comparison and Selection Guide for Global Open-Source AI Agent Frameworks (langgraph, AutoGen, MetaGPT, ChatDev, Swarm, uagents) Ant Design X - React Component Library for Building AI Chat Applications CES 2024 Review：Revisiting the Tech Highlights of 2024 VLC Automatic Subtitles and Translation (Based on Local Offline Open-Source AI Models) | CES 2025 ClearerVoice-Studio: A One-Stop Solution for Speech Enhancement, Speech Denoising, Speech Separation and Speaker Extraction CogAgent-9B Released: A GUI Interaction Model Jointly Developed by Zhipu AI and Tsinghua How to Install and Use ComfyUI on Windows - Complete Guide DeepSeek-V3 Model In-Depth Analysis: A Brilliant Star in the New AI Era', 'score': 0.52173984, 'raw_content': None}, {'title': 'List of Top 10 Multi-Agent Orchestrator Frameworks for Deploying AI ...', 'url': 'https://www.devopsschool.com/blog/list-of-top-10-multi-agent-orchestrator-frameworks-for-deploying-ai-agents/', 'content': 'List of Top 10 Multi-Agent Orchestrator Frameworks for Deploying AI Agents - DevOpsSchool.com Swarm by OpenAI is an experimental multi-agent orchestrator framework tailored for generative AI tasks. The Bee Agent Framework by IBM is a modular and enterprise-focused orchestration platform for managing large-scale multi-agent systems. Microsoft’s Magentic-One Framework is a cloud-native orchestration platform that seamlessly integrates multi-agent systems with Azure services. These top 10 multi-agent orchestrator frameworks represent the cutting edge of AI systems, catering to diverse needs from creative generative AI to robust enterprise solutions. List of Top 10 Multi-Agent Orchestrator Frameworks for Deploying AI Agents - November 24, 2024 Multi-Agent Orchestrator Framework for AI Agents - November 24, 2024', 'score': 0.48440504, 'raw_content': None}], 'response_time': 1.92}), AIMessage(content=\"Here's a summary of several AI agent development frameworks and their usage rates based on recent search results:\\n\\n1. **LangChain** - A versatile framework that is highly regarded for its ability to create dynamic, context-aware AI agents. It integrates well with various tools and databases.\\n\\n2. **AutoGen** - Developed by Microsoft, this framework specializes in multi-agent systems and supports various conversation patterns, but may have a steeper learning curve.\\n\\n3. **LangGraph** - Combines language models with knowledge graphs to create data-driven agents, suitable for complex information interaction.\\n\\n4. **MetaGPT** - An open-source framework that imitates traditional company structures for creating AI agents.\\n\\n5. **OpenAGI** - Focuses on artificial general intelligence by integrating expert models and Reinforcement Learning.\\n\\n6. **Semantic Kernel** - Another Microsoft open-source framework that leverages large language models and external tools for intelligent agent development.\\n\\n7. **Swarm** - An experimental framework by OpenAI designed for generative AI tasks, focusing on multi-agent orchestration.\\n\\n8. **Dify AI** - A large language model application development platform aimed at building AI agents and workflows.\\n\\nIt's important to note that specific usage data or rankings may not be readily available in a structured format, and this list includes frameworks recognized for their capabilities in the AI agent development space rather than strict usage rates.\", additional_kwargs={'refusal': None}, response_metadata={'token_usage': {'completion_tokens': 277, 'prompt_tokens': 1226, 'total_tokens': 1503, 'completion_tokens_details': {'accepted_prediction_tokens': 0, 'audio_tokens': 0, 'reasoning_tokens': 0, 'rejected_prediction_tokens': 0}, 'prompt_tokens_details': {'audio_tokens': 0, 'cached_tokens': 0}}, 'model_name': 'gpt-4o-mini-2024-07-18', 'system_fingerprint': 'fp_72ed7ab54c', 'finish_reason': 'stop', 'logprobs': None}, id='run-633b27fe-ad13-4e4c-9ceb-f94bcd22583d-0', usage_metadata={'input_tokens': 1226, 'output_tokens': 277, 'total_tokens': 1503, 'input_token_details': {'audio': 0, 'cache_read': 0}, 'output_token_details': {'audio': 0, 'reasoning': 0}})]}, next=(), config={'configurable': {'thread_id': '1', 'checkpoint_ns': '', 'checkpoint_id': '1efdc5cb-de80-697a-8003-e183b49a3e7a'}}, metadata={'source': 'loop', 'writes': {'chatbot': {'messages': [AIMessage(content=\"Here's a summary of several AI agent development frameworks and their usage rates based on recent search results:\\n\\n1. **LangChain** - A versatile framework that is highly regarded for its ability to create dynamic, context-aware AI agents. It integrates well with various tools and databases.\\n\\n2. **AutoGen** - Developed by Microsoft, this framework specializes in multi-agent systems and supports various conversation patterns, but may have a steeper learning curve.\\n\\n3. **LangGraph** - Combines language models with knowledge graphs to create data-driven agents, suitable for complex information interaction.\\n\\n4. **MetaGPT** - An open-source framework that imitates traditional company structures for creating AI agents.\\n\\n5. **OpenAGI** - Focuses on artificial general intelligence by integrating expert models and Reinforcement Learning.\\n\\n6. **Semantic Kernel** - Another Microsoft open-source framework that leverages large language models and external tools for intelligent agent development.\\n\\n7. **Swarm** - An experimental framework by OpenAI designed for generative AI tasks, focusing on multi-agent orchestration.\\n\\n8. **Dify AI** - A large language model application development platform aimed at building AI agents and workflows.\\n\\nIt's important to note that specific usage data or rankings may not be readily available in a structured format, and this list includes frameworks recognized for their capabilities in the AI agent development space rather than strict usage rates.\", additional_kwargs={'refusal': None}, response_metadata={'token_usage': {'completion_tokens': 277, 'prompt_tokens': 1226, 'total_tokens': 1503, 'completion_tokens_details': {'accepted_prediction_tokens': 0, 'audio_tokens': 0, 'reasoning_tokens': 0, 'rejected_prediction_tokens': 0}, 'prompt_tokens_details': {'audio_tokens': 0, 'cached_tokens': 0}}, 'model_name': 'gpt-4o-mini-2024-07-18', 'system_fingerprint': 'fp_72ed7ab54c', 'finish_reason': 'stop', 'logprobs': None}, id='run-633b27fe-ad13-4e4c-9ceb-f94bcd22583d-0', usage_metadata={'input_tokens': 1226, 'output_tokens': 277, 'total_tokens': 1503, 'input_token_details': {'audio': 0, 'cache_read': 0}, 'output_token_details': {'audio': 0, 'reasoning': 0}})]}}, 'thread_id': '1', 'step': 3, 'parents': {}}, created_at='2025-01-27T03:13:55.297674+00:00', parent_config={'configurable': {'thread_id': '1', 'checkpoint_ns': '', 'checkpoint_id': '1efdc5cb-bb70-6c9e-8002-fb7559d38230'}}, tasks=())"
      ]
     },
     "execution_count": 9,
     "metadata": {},
     "output_type": "execute_result"
    }
   ],
   "source": [
    "snapshot = graph.get_state(config)\n",
    "snapshot"
   ]
  },
  {
   "cell_type": "code",
   "execution_count": 11,
   "metadata": {},
   "outputs": [
    {
     "data": {
      "text/plain": [
       "{'messages': [HumanMessage(content='There are serveral AI-agent development frameworks, for example langgrah. Show the ranking of these frameworks by usages rate.', additional_kwargs={}, response_metadata={}, id='f0305a65-a80c-4971-ab10-ecdf01fe7ce0'),\n",
       "  AIMessage(content='', additional_kwargs={'tool_calls': [{'id': 'call_uBGVEPj8skbmgMlBZA5kx3ll', 'function': {'arguments': '{\"query\":\"AI agent development frameworks rankings by usage rate 2023\"}', 'name': 'tavily_search_results_json'}, 'type': 'function'}], 'refusal': None}, response_metadata={'token_usage': {'completion_tokens': 29, 'prompt_tokens': 104, 'total_tokens': 133, 'completion_tokens_details': {'accepted_prediction_tokens': 0, 'audio_tokens': 0, 'reasoning_tokens': 0, 'rejected_prediction_tokens': 0}, 'prompt_tokens_details': {'audio_tokens': 0, 'cached_tokens': 0}}, 'model_name': 'gpt-4o-mini-2024-07-18', 'system_fingerprint': 'fp_72ed7ab54c', 'finish_reason': 'tool_calls', 'logprobs': None}, id='run-c01906d2-7ff3-41b4-a84d-a321360bd369-0', tool_calls=[{'name': 'tavily_search_results_json', 'args': {'query': 'AI agent development frameworks rankings by usage rate 2023'}, 'id': 'call_uBGVEPj8skbmgMlBZA5kx3ll', 'type': 'tool_call'}], usage_metadata={'input_tokens': 104, 'output_tokens': 29, 'total_tokens': 133, 'input_token_details': {'audio': 0, 'cache_read': 0}, 'output_token_details': {'audio': 0, 'reasoning': 0}}),\n",
       "  ToolMessage(content='[{\"url\": \"https://www.taskade.com/blog/top-autonomous-agents/\", \"content\": \"🐑🤖\\\\nCategorized in:\\\\nShare Article:\\\\nRelated Articles\\\\nTable of ContentsToggle Table of ContentToggle\\\\nLike what you read?\\\\nSubscribe to our email newsletter to get the latest posts delivered right to your email. Visit the repo page to learn more: https://github.com/microsoft/autogen\\\\nMetaGPT\\\\nMetaGPT is another framework for open-source AI agents that attempts to imitate the structure of a traditional software company. A (relatively ) hands-free AI experience.\\\\n💡 AI Agent Trivia: The concept of autonomous AI agents came to life with a paper titled “Task-Driven Autonomous Agent” published in early 2023 by Yohei Nakajima, general partner at Untapped Capital.\\\\n Visit the repo page to learn more: https://github.com/microsoft/JARVIS\\\\nOpenAGI\\\\nOpenAGI is an open-source AGI (artificial general intelligence) research platform combining small, expert models — models tailored for tasks like sentiment analysis or image deblurring — and Reinforcement Learning from Task Feedback (RLTF) for improving their output.\\\\n The Python script is only 140 words of code and, according to the official GitHub repo, “uses OpenAI and vector databases such as Chroma or Weaviate to create, prioritize, and execute tasks.”\\\\n\"}, {\"url\": \"https://www.projectpro.io/article/ai-agent-frameworks/1068\", \"content\": \"With its ability to integrate document retrieval, decision-making workflows, and customized language processing pipelines, LangChain is excellent for developers looking to create dynamic, context-aware AI agents for various industries, from customer service to data analytics. The framework easily integrates with other tools and databases, allowing developers to build AI agents that can interact with various systems, from cloud services to custom data repositories, to provide comprehensive solutions. LangGraph is a specialized AI agent framework that combines language models with knowledge graphs to create intelligent, data-driven agents capable of understanding and interacting with complex information networks. Semantic Kernel is an open-source AI framework developed by Microsoft to help build intelligent agents that leverage large language models (LLMs) and external tools to automate and orchestrate complex workflows.\"}, {\"url\": \"https://www.helicone.ai/blog/ai-agent-builders\", \"content\": \"6 Awesome Platforms & Frameworks for Building AI Agents (Open-Source & More) 6 Awesome Platforms & Frameworks for Building AI Agents (Open-Source & More) Today, we are covering our favorite open-source frameworks & platforms for building AI agents, how they compare, and our recommendations for different use cases — whether you need complex multi-agent systems or a simple no-code solution, these will help you get started. Dify AI is an open-source large language model (LLM) application development platform for building AI agents and complex workflows. AutoGen is Microsoft’s open-source framework providing developers with tools to build multi-agent systems, supporting diverse conversation patterns and customizable agents. •\\xa0Steeper learning curve: Powerful, but can be complex compared to some other frameworks to beginners to AI agent building.\"}, {\"url\": \"https://stable-learn.com/en/global-open-source-ai-agents-introduction-and-selection/\", \"content\": \"In-Depth Comparison and Selection Guide for Global Open-Source AI Agent Frameworks (langgraph, AutoGen, MetaGPT, ChatDev, Swarm, uagents) • Tech Explorer 🚀 In-Depth Comparison and Selection Guide for Global Open-Source AI Agent Frameworks (langgraph, AutoGen, MetaGPT, ChatDev, Swarm, uagents) Ant Design X - React Component Library for Building AI Chat Applications CES 2024 Review：Revisiting the Tech Highlights of 2024 VLC Automatic Subtitles and Translation (Based on Local Offline Open-Source AI Models) | CES 2025 ClearerVoice-Studio: A One-Stop Solution for Speech Enhancement, Speech Denoising, Speech Separation and Speaker Extraction CogAgent-9B Released: A GUI Interaction Model Jointly Developed by Zhipu AI and Tsinghua How to Install and Use ComfyUI on Windows - Complete Guide DeepSeek-V3 Model In-Depth Analysis: A Brilliant Star in the New AI Era\"}, {\"url\": \"https://www.devopsschool.com/blog/list-of-top-10-multi-agent-orchestrator-frameworks-for-deploying-ai-agents/\", \"content\": \"List of Top 10 Multi-Agent Orchestrator Frameworks for Deploying AI Agents - DevOpsSchool.com Swarm by OpenAI is an experimental multi-agent orchestrator framework tailored for generative AI tasks. The Bee Agent Framework by IBM is a modular and enterprise-focused orchestration platform for managing large-scale multi-agent systems. Microsoft’s Magentic-One Framework is a cloud-native orchestration platform that seamlessly integrates multi-agent systems with Azure services. These top 10 multi-agent orchestrator frameworks represent the cutting edge of AI systems, catering to diverse needs from creative generative AI to robust enterprise solutions. List of Top 10 Multi-Agent Orchestrator Frameworks for Deploying AI Agents - November 24, 2024 Multi-Agent Orchestrator Framework for AI Agents - November 24, 2024\"}]', name='tavily_search_results_json', id='e1545b26-d472-49a3-b8b7-15a4eefd6e06', tool_call_id='call_uBGVEPj8skbmgMlBZA5kx3ll', artifact={'query': 'AI agent development frameworks rankings by usage rate 2023', 'follow_up_questions': None, 'answer': None, 'images': [], 'results': [{'title': 'Top 12 Open-Source Autonomous Agents & Agent Frameworks: The Future of ...', 'url': 'https://www.taskade.com/blog/top-autonomous-agents/', 'content': '🐑🤖\\nCategorized in:\\nShare Article:\\nRelated Articles\\nTable of ContentsToggle Table of ContentToggle\\nLike what you read?\\nSubscribe to our email newsletter to get the latest posts delivered right to your email. Visit the repo page to learn more: https://github.com/microsoft/autogen\\nMetaGPT\\nMetaGPT is another framework for open-source AI agents that attempts to imitate the structure of a traditional software company. A (relatively ) hands-free AI experience.\\n💡 AI Agent Trivia: The concept of autonomous AI agents came to life with a paper titled “Task-Driven Autonomous Agent” published in early 2023 by Yohei Nakajima, general partner at Untapped Capital.\\n Visit the repo page to learn more: https://github.com/microsoft/JARVIS\\nOpenAGI\\nOpenAGI is an open-source AGI (artificial general intelligence) research platform combining small, expert models — models tailored for tasks like sentiment analysis or image deblurring — and Reinforcement Learning from Task Feedback (RLTF) for improving their output.\\n The Python script is only 140 words of code and, according to the official GitHub repo, “uses OpenAI and vector databases such as Chroma or Weaviate to create, prioritize, and execute tasks.”\\n', 'score': 0.69049704, 'raw_content': None}, {'title': 'Top 7 AI Agent Frameworks for Building AI Agents - ProjectPro', 'url': 'https://www.projectpro.io/article/ai-agent-frameworks/1068', 'content': 'With its ability to integrate document retrieval, decision-making workflows, and customized language processing pipelines, LangChain is excellent for developers looking to create dynamic, context-aware AI agents for various industries, from customer service to data analytics. The framework easily integrates with other tools and databases, allowing developers to build AI agents that can interact with various systems, from cloud services to custom data repositories, to provide comprehensive solutions. LangGraph is a specialized AI agent framework that combines language models with knowledge graphs to create intelligent, data-driven agents capable of understanding and interacting with complex information networks. Semantic Kernel is an open-source AI framework developed by Microsoft to help build intelligent agents that leverage large language models (LLMs) and external tools to automate and orchestrate complex workflows.', 'score': 0.6205532, 'raw_content': None}, {'title': '7 Awesome Platforms & Frameworks for Building AI Agents (Open-Source ...', 'url': 'https://www.helicone.ai/blog/ai-agent-builders', 'content': '6 Awesome Platforms & Frameworks for Building AI Agents (Open-Source & More) 6 Awesome Platforms & Frameworks for Building AI Agents (Open-Source & More) Today, we are covering our favorite open-source frameworks & platforms for building AI agents, how they compare, and our recommendations for different use cases — whether you need complex multi-agent systems or a simple no-code solution, these will help you get started. Dify AI is an open-source large language model (LLM) application development platform for building AI agents and complex workflows. AutoGen is Microsoft’s open-source framework providing developers with tools to build multi-agent systems, supporting diverse conversation patterns and customizable agents. •\\xa0Steeper learning curve: Powerful, but can be complex compared to some other frameworks to beginners to AI agent building.', 'score': 0.564027, 'raw_content': None}, {'title': 'In-Depth Comparison and Selection Guide for Global Open-Source AI Agent ...', 'url': 'https://stable-learn.com/en/global-open-source-ai-agents-introduction-and-selection/', 'content': 'In-Depth Comparison and Selection Guide for Global Open-Source AI Agent Frameworks (langgraph, AutoGen, MetaGPT, ChatDev, Swarm, uagents) • Tech Explorer 🚀 In-Depth Comparison and Selection Guide for Global Open-Source AI Agent Frameworks (langgraph, AutoGen, MetaGPT, ChatDev, Swarm, uagents) Ant Design X - React Component Library for Building AI Chat Applications CES 2024 Review：Revisiting the Tech Highlights of 2024 VLC Automatic Subtitles and Translation (Based on Local Offline Open-Source AI Models) | CES 2025 ClearerVoice-Studio: A One-Stop Solution for Speech Enhancement, Speech Denoising, Speech Separation and Speaker Extraction CogAgent-9B Released: A GUI Interaction Model Jointly Developed by Zhipu AI and Tsinghua How to Install and Use ComfyUI on Windows - Complete Guide DeepSeek-V3 Model In-Depth Analysis: A Brilliant Star in the New AI Era', 'score': 0.52173984, 'raw_content': None}, {'title': 'List of Top 10 Multi-Agent Orchestrator Frameworks for Deploying AI ...', 'url': 'https://www.devopsschool.com/blog/list-of-top-10-multi-agent-orchestrator-frameworks-for-deploying-ai-agents/', 'content': 'List of Top 10 Multi-Agent Orchestrator Frameworks for Deploying AI Agents - DevOpsSchool.com Swarm by OpenAI is an experimental multi-agent orchestrator framework tailored for generative AI tasks. The Bee Agent Framework by IBM is a modular and enterprise-focused orchestration platform for managing large-scale multi-agent systems. Microsoft’s Magentic-One Framework is a cloud-native orchestration platform that seamlessly integrates multi-agent systems with Azure services. These top 10 multi-agent orchestrator frameworks represent the cutting edge of AI systems, catering to diverse needs from creative generative AI to robust enterprise solutions. List of Top 10 Multi-Agent Orchestrator Frameworks for Deploying AI Agents - November 24, 2024 Multi-Agent Orchestrator Framework for AI Agents - November 24, 2024', 'score': 0.48440504, 'raw_content': None}], 'response_time': 1.92}),\n",
       "  AIMessage(content=\"Here's a summary of several AI agent development frameworks and their usage rates based on recent search results:\\n\\n1. **LangChain** - A versatile framework that is highly regarded for its ability to create dynamic, context-aware AI agents. It integrates well with various tools and databases.\\n\\n2. **AutoGen** - Developed by Microsoft, this framework specializes in multi-agent systems and supports various conversation patterns, but may have a steeper learning curve.\\n\\n3. **LangGraph** - Combines language models with knowledge graphs to create data-driven agents, suitable for complex information interaction.\\n\\n4. **MetaGPT** - An open-source framework that imitates traditional company structures for creating AI agents.\\n\\n5. **OpenAGI** - Focuses on artificial general intelligence by integrating expert models and Reinforcement Learning.\\n\\n6. **Semantic Kernel** - Another Microsoft open-source framework that leverages large language models and external tools for intelligent agent development.\\n\\n7. **Swarm** - An experimental framework by OpenAI designed for generative AI tasks, focusing on multi-agent orchestration.\\n\\n8. **Dify AI** - A large language model application development platform aimed at building AI agents and workflows.\\n\\nIt's important to note that specific usage data or rankings may not be readily available in a structured format, and this list includes frameworks recognized for their capabilities in the AI agent development space rather than strict usage rates.\", additional_kwargs={'refusal': None}, response_metadata={'token_usage': {'completion_tokens': 277, 'prompt_tokens': 1226, 'total_tokens': 1503, 'completion_tokens_details': {'accepted_prediction_tokens': 0, 'audio_tokens': 0, 'reasoning_tokens': 0, 'rejected_prediction_tokens': 0}, 'prompt_tokens_details': {'audio_tokens': 0, 'cached_tokens': 0}}, 'model_name': 'gpt-4o-mini-2024-07-18', 'system_fingerprint': 'fp_72ed7ab54c', 'finish_reason': 'stop', 'logprobs': None}, id='run-633b27fe-ad13-4e4c-9ceb-f94bcd22583d-0', usage_metadata={'input_tokens': 1226, 'output_tokens': 277, 'total_tokens': 1503, 'input_token_details': {'audio': 0, 'cache_read': 0}, 'output_token_details': {'audio': 0, 'reasoning': 0}}),\n",
       "  HumanMessage(content='내가 한 첫 질문이 뭐였어', additional_kwargs={}, response_metadata={}, id='5bc8cffb-1857-4188-a027-d457e75311c5'),\n",
       "  AIMessage(content='당신의 첫 질문은 \"There are several AI-agent development frameworks, for example langgrah. Show the ranking of these frameworks by usages rate.\"였습니다.', additional_kwargs={'refusal': None}, response_metadata={'token_usage': {'completion_tokens': 35, 'prompt_tokens': 1518, 'total_tokens': 1553, 'completion_tokens_details': {'accepted_prediction_tokens': 0, 'audio_tokens': 0, 'reasoning_tokens': 0, 'rejected_prediction_tokens': 0}, 'prompt_tokens_details': {'audio_tokens': 0, 'cached_tokens': 1408}}, 'model_name': 'gpt-4o-mini-2024-07-18', 'system_fingerprint': 'fp_72ed7ab54c', 'finish_reason': 'stop', 'logprobs': None}, id='run-fbfc326c-636d-4841-ac58-26427e09c8e6-0', usage_metadata={'input_tokens': 1518, 'output_tokens': 35, 'total_tokens': 1553, 'input_token_details': {'audio': 0, 'cache_read': 1408}, 'output_token_details': {'audio': 0, 'reasoning': 0}})]}"
      ]
     },
     "execution_count": 11,
     "metadata": {},
     "output_type": "execute_result"
    }
   ],
   "source": [
    "graph.invoke({\"messages\": [{\"role\": \"user\", \"content\": \"내가 한 첫 질문이 뭐였어\"}]}, config)"
   ]
  },
  {
   "cell_type": "code",
   "execution_count": 14,
   "metadata": {},
   "outputs": [
    {
     "data": {
      "text/plain": [
       "{'messages': [HumanMessage(content='내가 한 첫 질문이 뭐였어', additional_kwargs={}, response_metadata={}, id='7696e6d4-6364-42b3-938c-63d70207328e'),\n",
       "  AIMessage(content='죄송하지만, 이전 대화 내용이나 질문을 기억할 수는 없습니다. 하지만 새로 질문해 주시면 최선을 다해 도와드리겠습니다!', additional_kwargs={'refusal': None}, response_metadata={'token_usage': {'completion_tokens': 36, 'prompt_tokens': 88, 'total_tokens': 124, 'completion_tokens_details': {'accepted_prediction_tokens': 0, 'audio_tokens': 0, 'reasoning_tokens': 0, 'rejected_prediction_tokens': 0}, 'prompt_tokens_details': {'audio_tokens': 0, 'cached_tokens': 0}}, 'model_name': 'gpt-4o-mini-2024-07-18', 'system_fingerprint': 'fp_72ed7ab54c', 'finish_reason': 'stop', 'logprobs': None}, id='run-6e90aa97-bf18-41b3-b069-72755d8445f7-0', usage_metadata={'input_tokens': 88, 'output_tokens': 36, 'total_tokens': 124, 'input_token_details': {'audio': 0, 'cache_read': 0}, 'output_token_details': {'audio': 0, 'reasoning': 0}})]}"
      ]
     },
     "execution_count": 14,
     "metadata": {},
     "output_type": "execute_result"
    }
   ],
   "source": [
    "config2 = {\"configurable\": {\"thread_id\": \"2\"}}\n",
    "graph.invoke({\"messages\": [{\"role\": \"user\", \"content\": \"내가 한 첫 질문이 뭐였어\"}]}, config2)"
   ]
  },
  {
   "cell_type": "markdown",
   "metadata": {},
   "source": [
    "기억할 메시지 개수 제한하기"
   ]
  },
  {
   "cell_type": "code",
   "execution_count": 15,
   "metadata": {},
   "outputs": [],
   "source": [
    "def filter_messages(messages: list):\n",
    "    return messages[-2:]\n",
    "\n",
    "def chatbot(state: State):\n",
    "    messages = filter_messages(state[\"messages\"])\n",
    "    result = llm_with_tools.invoke(messages)\n",
    "    return {\"messages\" : [result]}\n",
    "\n",
    "graph_builder = StateGraph(State)\n",
    "\n",
    "graph_builder.add_node(\"chatbot\", chatbot)\n",
    "graph_builder.add_node(\"tools\", tool_node)\n",
    "\n",
    "graph_builder.add_edge(\"tools\", \"chatbot\")\n",
    "graph_builder.add_conditional_edges(\"chatbot\", tools_condition)\n",
    "\n",
    "graph_builder.set_entry_point(\"chatbot\")\n",
    "graph = graph_builder.compile(checkpointer=memory)"
   ]
  },
  {
   "cell_type": "code",
   "execution_count": 16,
   "metadata": {},
   "outputs": [
    {
     "name": "stdout",
     "output_type": "stream",
     "text": [
      "================================\u001b[1m Human Message \u001b[0m=================================\n",
      "\n",
      "hi! I'm bob and I like soccer\n",
      "==================================\u001b[1m Ai Message \u001b[0m==================================\n",
      "\n",
      "Hi Bob! It's great to meet a fellow soccer fan! Do you have a favorite team or player?\n",
      "================================\u001b[1m Human Message \u001b[0m=================================\n",
      "\n",
      "what's my name\n",
      "==================================\u001b[1m Ai Message \u001b[0m==================================\n",
      "\n",
      "You mentioned your name is Bob. How can I assist you today?\n",
      "================================\u001b[1m Human Message \u001b[0m=================================\n",
      "\n",
      "what's my name\n",
      "==================================\u001b[1m Ai Message \u001b[0m==================================\n",
      "\n",
      "Your name is Bob. How can I assist you today?\n",
      "================================\u001b[1m Human Message \u001b[0m=================================\n",
      "\n",
      "what's my favorite?\n",
      "==================================\u001b[1m Ai Message \u001b[0m==================================\n",
      "\n",
      "I don't have information about your preferences or favorites. However, if you share more about your interests, I can provide recommendations or information!\n"
     ]
    }
   ],
   "source": [
    "from langchain_core.messages import HumanMessage\n",
    "\n",
    "config = { \"configurable\": {\"thread_id\": \"20\"}}\n",
    "input_message = HumanMessage(content=\"hi! I'm bob and I like soccer\")\n",
    "\n",
    "for event in graph.stream({\"messages\": [input_message]}, config, stream_mode=\"values\"):\n",
    "    event[\"messages\"][-1].pretty_print()\n",
    "\n",
    "input_message = HumanMessage(content=\"what's my name\")\n",
    "for event in graph.stream({\"messages\": [input_message]}, config, stream_mode=\"values\"):\n",
    "    event[\"messages\"][-1].pretty_print()\n",
    "input_message = HumanMessage(content=\"what's my name\")\n",
    "for event in graph.stream({\"messages\": [input_message]}, config, stream_mode=\"values\"):\n",
    "    event[\"messages\"][-1].pretty_print()\n",
    "input_message = HumanMessage(content=\"what's my favorite?\")\n",
    "for event in graph.stream({\"messages\": [input_message]}, config, stream_mode=\"values\"):\n",
    "    event[\"messages\"][-1].pretty_print() \n"
   ]
  },
  {
   "cell_type": "code",
   "execution_count": 17,
   "metadata": {},
   "outputs": [],
   "source": [
    "# user interrupt before run tools\n",
    "graph = graph_builder.compile(checkpointer=memory, interrupt_before=[\"tools\"])"
   ]
  },
  {
   "cell_type": "code",
   "execution_count": 18,
   "metadata": {},
   "outputs": [
    {
     "name": "stdout",
     "output_type": "stream",
     "text": [
      "================================\u001b[1m Human Message \u001b[0m=================================\n",
      "\n",
      "what's the langgraph\n",
      "==================================\u001b[1m Ai Message \u001b[0m==================================\n",
      "Tool Calls:\n",
      "  tavily_search_results_json (call_odJDfyhG8rQM6OAwDwOm5x0e)\n",
      " Call ID: call_odJDfyhG8rQM6OAwDwOm5x0e\n",
      "  Args:\n",
      "    query: langgraph\n"
     ]
    }
   ],
   "source": [
    "config = { \"configurable\": {\"thread_id\": \"30\"}}\n",
    "input_message = HumanMessage(content=\"what's the langgraph\")\n",
    "\n",
    "for event in graph.stream({\"messages\": [input_message]}, config, stream_mode=\"values\"):\n",
    "    event[\"messages\"][-1].pretty_print()\n"
   ]
  },
  {
   "cell_type": "code",
   "execution_count": null,
   "metadata": {},
   "outputs": [],
   "source": []
  }
 ],
 "metadata": {
  "kernelspec": {
   "display_name": "myenv",
   "language": "python",
   "name": "python3"
  },
  "language_info": {
   "codemirror_mode": {
    "name": "ipython",
    "version": 3
   },
   "file_extension": ".py",
   "mimetype": "text/x-python",
   "name": "python",
   "nbconvert_exporter": "python",
   "pygments_lexer": "ipython3",
   "version": "3.11.8"
  }
 },
 "nbformat": 4,
 "nbformat_minor": 2
}
