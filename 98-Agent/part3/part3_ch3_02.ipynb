{
 "cells": [
  {
   "cell_type": "code",
   "execution_count": 2,
   "metadata": {},
   "outputs": [
    {
     "data": {
      "text/plain": [
       "True"
      ]
     },
     "execution_count": 2,
     "metadata": {},
     "output_type": "execute_result"
    }
   ],
   "source": [
    "from dotenv import load_dotenv\n",
    "\n",
    "load_dotenv()"
   ]
  },
  {
   "cell_type": "code",
   "execution_count": 5,
   "metadata": {},
   "outputs": [],
   "source": [
    "from typing import Annotated\n",
    "from typing_extensions import TypedDict\n",
    "from langgraph.graph.message import add_messages\n",
    "from langchain_core.messages import SystemMessage, HumanMessage\n",
    "\n",
    "class State(TypedDict):\n",
    "    messages: Annotated[list, add_messages]\n",
    "\n",
    "from langchain_community.tools.tavily_search import TavilySearchResults\n",
    "from langchain_experimental.utilities import PythonREPL\n",
    "from langchain_core.tools import tool\n",
    "from langgraph.prebuilt import ToolNode, tools_condition\n",
    "\n",
    "web_search = TavilySearchResults(max_results=2)\n",
    "repl = PythonREPL()\n",
    "\n",
    "@tool\n",
    "def python_repl(\n",
    "    code: Annotated[str, \"The python code to execute to generate your chart\"] ):\n",
    "    \"\"\"Use this to execute python code. If you want to see the output of a value, \n",
    "    you should print it out with 'print(...)'. chart labels should be written in English.\n",
    "    This is visible to user.\"\"\"\n",
    "\n",
    "    try:\n",
    "        result = repl.run(code)\n",
    "    except BaseException as e:\n",
    "        return f\"Fail to execute. Error{repr(e)}\"\n",
    "    result_str = f\"Successfully executed:\\n'''python\\n{code}\\n'''\\nStdout: {result}\"\n",
    "    return (result_str + \"\\n\\nIf you hav completed all tasks, respond with FINAL ANSWER.\")\n",
    "tools = [web_search, python_repl]\n",
    "tool_node = ToolNode(tools)"
   ]
  },
  {
   "cell_type": "code",
   "execution_count": 6,
   "metadata": {},
   "outputs": [],
   "source": [
    "from langchain_openai import ChatOpenAI\n",
    "\n",
    "llm = ChatOpenAI(model=\"gpt-4o-mini\")\n",
    "llm_with_tools = llm.bind_tools(tools)\n",
    "\n",
    "def agent(state: State):\n",
    "    result = llm_with_tools.invoke(state[\"messages\"])\n",
    "    return {\"messages\": [result]}"
   ]
  },
  {
   "cell_type": "code",
   "execution_count": 7,
   "metadata": {},
   "outputs": [],
   "source": [
    "def should_continue(state):\n",
    "    messages = state[\"messages\"]\n",
    "    last_message = messages[-1]\n",
    "    if not last_message.tool_calls:\n",
    "        return \"end\"\n",
    "    else:\n",
    "        return \"continue\""
   ]
  },
  {
   "cell_type": "code",
   "execution_count": 11,
   "metadata": {},
   "outputs": [],
   "source": [
    "from langgraph.graph import StateGraph, START, END\n",
    "from langgraph.prebuilt import tools_condition\n",
    "from langgraph.checkpoint.memory import MemorySaver\n",
    "\n",
    "workflow = StateGraph(State)\n",
    "workflow.add_node(\"agent\", agent)\n",
    "workflow.add_node(\"tool\", tool_node)\n",
    "workflow.add_edge(START, \"agent\")\n",
    "workflow.add_conditional_edges(\n",
    "    \"agent\",\n",
    "    should_continue,\n",
    "    {\n",
    "        \"continue\":\"tool\",\n",
    "        \"end\":END\n",
    "    },\n",
    ")\n",
    "workflow.add_edge(\"tool\", \"agent\")\n",
    "\n",
    "memory = MemorySaver()\n",
    "\n",
    "app = workflow.compile(checkpointer=memory, interrupt_before=[\"tool\"])"
   ]
  },
  {
   "cell_type": "code",
   "execution_count": 12,
   "metadata": {},
   "outputs": [
    {
     "data": {
      "image/png": "[encoded data removed]",
      "text/plain": [
       "<IPython.core.display.Image object>"
      ]
     },
     "metadata": {},
     "output_type": "display_data"
    }
   ],
   "source": [
    "from util import display_graph\n",
    "display_graph(app)"
   ]
  },
  {
   "cell_type": "code",
   "execution_count": 19,
   "metadata": {},
   "outputs": [
    {
     "name": "stdout",
     "output_type": "stream",
     "text": [
      "Receiving update from node: 'agent'\n",
      "{'messages': [AIMessage(content='', additional_kwargs={'tool_calls': [{'id': 'call_1AyKXTXvdm1r6y1R1HwehFCE', 'function': {'arguments': '{\"query\":\"US GDP data for the past 5 years 2019-2023\"}', 'name': 'tavily_search_results_json'}, 'type': 'function'}], 'refusal': None}, response_metadata={'token_usage': {'completion_tokens': 33, 'prompt_tokens': 167, 'total_tokens': 200, 'completion_tokens_details': {'accepted_prediction_tokens': 0, 'audio_tokens': 0, 'reasoning_tokens': 0, 'rejected_prediction_tokens': 0}, 'prompt_tokens_details': {'audio_tokens': 0, 'cached_tokens': 0}}, 'model_name': 'gpt-4o-mini-2024-07-18', 'system_fingerprint': 'fp_72ed7ab54c', 'finish_reason': 'tool_calls', 'logprobs': None}, id='run-fa380eec-2ac3-46fe-be25-79b6641ca64a-0', tool_calls=[{'name': 'tavily_search_results_json', 'args': {'query': 'US GDP data for the past 5 years 2019-2023'}, 'id': 'call_1AyKXTXvdm1r6y1R1HwehFCE', 'type': 'tool_call'}], usage_metadata={'input_tokens': 167, 'output_tokens': 33, 'total_tokens': 200, 'input_token_details': {'audio': 0, 'cache_read': 0}, 'output_token_details': {'audio': 0, 'reasoning': 0}})]}\n",
      "\n",
      "\n",
      "\n",
      "Receiving update from node: '__interrupt__'\n",
      "()\n",
      "\n",
      "\n",
      "\n"
     ]
    }
   ],
   "source": [
    "initial_input = {\"messages\": [HumanMessage(content=\"미국의 최근 5개년(~2023) GDP 차트를 그려줄래?\")]}\n",
    "thread = {\"configurable\": {\"thread_id\": \"11\"}}\n",
    "async for chunk in app.astream(initial_input, thread, stream_mode=\"updates\"):\n",
    "    for node, values in chunk.items():\n",
    "        print(f\"Receiving update from node: '{node}'\")\n",
    "        print(values)\n",
    "        print(\"\\n\\n\")\n"
   ]
  },
  {
   "cell_type": "code",
   "execution_count": 20,
   "metadata": {},
   "outputs": [
    {
     "name": "stdout",
     "output_type": "stream",
     "text": [
      "Receiving update from node: 'tool'\n",
      "{'messages': [ToolMessage(content='[{\"url\": \"https://www.macrotrends.net/global-metrics/countries/USA/united-states/gdp-growth-rate\", \"content\": \"U.S. GDP Growth Rate 1961-2024 | MacroTrends U.S. GDP Growth Rate 1961-2024 GDP Growth Rate Annual percentage growth rate of GDP at market prices based on constant local currency. U.S. gdp growth rate for 2023 was 2.54%, a 0.61% increase from 2022. U.S. gdp growth rate for 2022 was 1.94%, a 3.86% decline from 2021. U.S. gdp growth rate for 2021 was 5.80%, a 8.01% increase from 2020. U.S. gdp growth rate for 2020 was -2.21%, a 4.68% decline from 2019. | Country Name | GDP Growth (%) | | U.S. GDP Growth Rate - Historical Data | | U.S. GDP Growth Rate 1961-2024 |  | | U.S. GDP Growth Rate 1961-2024 |  |\"}, {\"url\": \"https://www.macrotrends.net/global-metrics/countries/USA/united-states/gdp-gross-domestic-product\", \"content\": \"| 2023 | $27,360.94B | $81,695 | 2.54% | | 2022 | $25,744.11B | $77,247 | 1.94% | | 2021 | $23,594.03B | $71,056 | 5.80% | | 2020 | $21,322.95B | $64,317 | -2.21% | | 2019 | $21,521.40B | $65,548 | 2.47% | | 2018 | $20,656.52B | $63,201 | 2.97% | | 2017 | $19,612.10B | $60,322 | 2.46% | | 2016 | $18,804.91B | $58,207 | 1.82% | | 2015 | $18,295.02B | $57,040 | 2.95% | | 2014 | $17,608.14B | $55,304 | 2.52% | | 2013 | $16,880.68B | $53,410 | 2.12% | | 2012 | $16,253.97B | $51,784 | 2.29% | | 2011 | $15,599.73B | $50,066 | 1.56% |\"}]', name='tavily_search_results_json', id='ca4fb398-dea6-45d0-b669-19556541ebd5', tool_call_id='call_1AyKXTXvdm1r6y1R1HwehFCE', artifact={'query': 'US GDP data for the past 5 years 2019-2023', 'follow_up_questions': None, 'answer': None, 'images': [], 'results': [{'title': 'U.S. GDP Growth Rate 1961-2025 - Macrotrends', 'url': 'https://www.macrotrends.net/global-metrics/countries/USA/united-states/gdp-growth-rate', 'content': 'U.S. GDP Growth Rate 1961-2024 | MacroTrends U.S. GDP Growth Rate 1961-2024 GDP Growth Rate Annual percentage growth rate of GDP at market prices based on constant local currency. U.S. gdp growth rate for 2023 was 2.54%, a 0.61% increase from 2022. U.S. gdp growth rate for 2022 was 1.94%, a 3.86% decline from 2021. U.S. gdp growth rate for 2021 was 5.80%, a 8.01% increase from 2020. U.S. gdp growth rate for 2020 was -2.21%, a 4.68% decline from 2019. | Country Name | GDP Growth (%) | | U.S. GDP Growth Rate - Historical Data | | U.S. GDP Growth Rate 1961-2024 |  | | U.S. GDP Growth Rate 1961-2024 |  |', 'score': 0.81097376, 'raw_content': None}, {'title': 'U.S. GDP 1960-2025 - Macrotrends', 'url': 'https://www.macrotrends.net/global-metrics/countries/USA/united-states/gdp-gross-domestic-product', 'content': '| 2023 | $27,360.94B | $81,695 | 2.54% | | 2022 | $25,744.11B | $77,247 | 1.94% | | 2021 | $23,594.03B | $71,056 | 5.80% | | 2020 | $21,322.95B | $64,317 | -2.21% | | 2019 | $21,521.40B | $65,548 | 2.47% | | 2018 | $20,656.52B | $63,201 | 2.97% | | 2017 | $19,612.10B | $60,322 | 2.46% | | 2016 | $18,804.91B | $58,207 | 1.82% | | 2015 | $18,295.02B | $57,040 | 2.95% | | 2014 | $17,608.14B | $55,304 | 2.52% | | 2013 | $16,880.68B | $53,410 | 2.12% | | 2012 | $16,253.97B | $51,784 | 2.29% | | 2011 | $15,599.73B | $50,066 | 1.56% |', 'score': 0.6867278, 'raw_content': None}], 'response_time': 2.42})]}\n",
      "\n",
      "\n",
      "\n",
      "Receiving update from node: 'agent'\n",
      "{'messages': [AIMessage(content='', additional_kwargs={'tool_calls': [{'id': 'call_BVSteJIkPMnjtNbGAH7j0j0q', 'function': {'arguments': '{\"code\":\"import matplotlib.pyplot as plt\\\\n\\\\n# US GDP data from 2019 to 2023\\\\nyears = [2019, 2020, 2021, 2022, 2023]\\\\ngdp_values = [21521.40, 21322.95, 23594.03, 25744.11, 27360.94]  # in billion USD\\\\n\\\\nplt.figure(figsize=(10, 5))\\\\nplt.plot(years, gdp_values, marker=\\'o\\')\\\\nplt.title(\\'US GDP from 2019 to 2023\\')\\\\nplt.xlabel(\\'Year\\')\\\\nplt.ylabel(\\'GDP (in Billion USD)\\')\\\\nplt.xticks(years)\\\\nplt.grid()\\\\nplt.show()\"}', 'name': 'python_repl'}, 'type': 'function'}], 'refusal': None}, response_metadata={'token_usage': {'completion_tokens': 173, 'prompt_tokens': 806, 'total_tokens': 979, 'completion_tokens_details': {'accepted_prediction_tokens': 0, 'audio_tokens': 0, 'reasoning_tokens': 0, 'rejected_prediction_tokens': 0}, 'prompt_tokens_details': {'audio_tokens': 0, 'cached_tokens': 0}}, 'model_name': 'gpt-4o-mini-2024-07-18', 'system_fingerprint': 'fp_72ed7ab54c', 'finish_reason': 'tool_calls', 'logprobs': None}, id='run-c7ee0e64-34fb-4466-8264-4e958d1abe97-0', tool_calls=[{'name': 'python_repl', 'args': {'code': \"import matplotlib.pyplot as plt\\n\\n# US GDP data from 2019 to 2023\\nyears = [2019, 2020, 2021, 2022, 2023]\\ngdp_values = [21521.40, 21322.95, 23594.03, 25744.11, 27360.94]  # in billion USD\\n\\nplt.figure(figsize=(10, 5))\\nplt.plot(years, gdp_values, marker='o')\\nplt.title('US GDP from 2019 to 2023')\\nplt.xlabel('Year')\\nplt.ylabel('GDP (in Billion USD)')\\nplt.xticks(years)\\nplt.grid()\\nplt.show()\"}, 'id': 'call_BVSteJIkPMnjtNbGAH7j0j0q', 'type': 'tool_call'}], usage_metadata={'input_tokens': 806, 'output_tokens': 173, 'total_tokens': 979, 'input_token_details': {'audio': 0, 'cache_read': 0}, 'output_token_details': {'audio': 0, 'reasoning': 0}})]}\n",
      "\n",
      "\n",
      "\n",
      "Receiving update from node: '__interrupt__'\n",
      "()\n",
      "\n",
      "\n",
      "\n"
     ]
    }
   ],
   "source": [
    "# intterupt 되서 멈춘 thread를 이어 실행 (None)\n",
    "async for chunk in app.astream(None, thread, stream_mode=\"updates\"):\n",
    "    for node, values in chunk.items():\n",
    "        print(f\"Receiving update from node: '{node}'\")\n",
    "        print(values)\n",
    "        print(\"\\n\\n\")\n"
   ]
  },
  {
   "cell_type": "code",
   "execution_count": 21,
   "metadata": {},
   "outputs": [
    {
     "name": "stderr",
     "output_type": "stream",
     "text": [
      "Python REPL can execute arbitrary code. Use with caution.\n"
     ]
    },
    {
     "name": "stdout",
     "output_type": "stream",
     "text": [
      "Receiving update from node: 'tool'\n",
      "{'messages': [ToolMessage(content='Successfully executed:\\n\\'\\'\\'python\\nimport matplotlib.pyplot as plt\\n\\n# US GDP data from 2019 to 2023\\nyears = [2019, 2020, 2021, 2022, 2023]\\ngdp_values = [21521.40, 21322.95, 23594.03, 25744.11, 27360.94]  # in billion USD\\n\\nplt.figure(figsize=(10, 5))\\nplt.plot(years, gdp_values, marker=\\'o\\')\\nplt.title(\\'US GDP from 2019 to 2023\\')\\nplt.xlabel(\\'Year\\')\\nplt.ylabel(\\'GDP (in Billion USD)\\')\\nplt.xticks(years)\\nplt.grid()\\nplt.show()\\n\\'\\'\\'\\nStdout: ModuleNotFoundError(\"No module named \\'matplotlib\\'\")\\n\\nIf you hav completed all tasks, respond with FINAL ANSWER.', name='python_repl', id='7f5bce13-36a9-47f6-8598-2cbbea2130dc', tool_call_id='call_BVSteJIkPMnjtNbGAH7j0j0q')]}\n",
      "\n",
      "\n",
      "\n",
      "Receiving update from node: 'agent'\n",
      "{'messages': [AIMessage(content='', additional_kwargs={'tool_calls': [{'id': 'call_CuoYjnNKrzvHYCP2OQkYsnE0', 'function': {'arguments': '{\"code\":\"import matplotlib.pyplot as plt\\\\n\\\\n# US GDP data from 2019 to 2023\\\\nyears = [2019, 2020, 2021, 2022, 2023]\\\\ngdp_values = [21521.40, 21322.95, 23594.03, 25744.11, 27360.94]  # in billion USD\\\\n\\\\nplt.figure(figsize=(10, 5))\\\\nplt.plot(years, gdp_values, marker=\\'o\\')\\\\nplt.title(\\'US GDP from 2019 to 2023\\')\\\\nplt.xlabel(\\'Year\\')\\\\nplt.ylabel(\\'GDP (in Billion USD)\\')\\\\nplt.xticks(years)\\\\nplt.grid()\\\\nplt.show()\"}', 'name': 'python_repl'}, 'type': 'function'}], 'refusal': None}, response_metadata={'token_usage': {'completion_tokens': 174, 'prompt_tokens': 1167, 'total_tokens': 1341, 'completion_tokens_details': {'accepted_prediction_tokens': 0, 'audio_tokens': 0, 'reasoning_tokens': 0, 'rejected_prediction_tokens': 0}, 'prompt_tokens_details': {'audio_tokens': 0, 'cached_tokens': 0}}, 'model_name': 'gpt-4o-mini-2024-07-18', 'system_fingerprint': 'fp_72ed7ab54c', 'finish_reason': 'tool_calls', 'logprobs': None}, id='run-f9b0c5a0-61fa-465d-8ca2-e356d337797f-0', tool_calls=[{'name': 'python_repl', 'args': {'code': \"import matplotlib.pyplot as plt\\n\\n# US GDP data from 2019 to 2023\\nyears = [2019, 2020, 2021, 2022, 2023]\\ngdp_values = [21521.40, 21322.95, 23594.03, 25744.11, 27360.94]  # in billion USD\\n\\nplt.figure(figsize=(10, 5))\\nplt.plot(years, gdp_values, marker='o')\\nplt.title('US GDP from 2019 to 2023')\\nplt.xlabel('Year')\\nplt.ylabel('GDP (in Billion USD)')\\nplt.xticks(years)\\nplt.grid()\\nplt.show()\"}, 'id': 'call_CuoYjnNKrzvHYCP2OQkYsnE0', 'type': 'tool_call'}], usage_metadata={'input_tokens': 1167, 'output_tokens': 174, 'total_tokens': 1341, 'input_token_details': {'audio': 0, 'cache_read': 0}, 'output_token_details': {'audio': 0, 'reasoning': 0}})]}\n",
      "\n",
      "\n",
      "\n",
      "Receiving update from node: '__interrupt__'\n",
      "()\n",
      "\n",
      "\n",
      "\n"
     ]
    }
   ],
   "source": [
    "# intterupt 되서 멈춘 thread를 이어 실행 (None)\n",
    "async for chunk in app.astream(None, thread, stream_mode=\"updates\"):\n",
    "    for node, values in chunk.items():\n",
    "        print(f\"Receiving update from node: '{node}'\")\n",
    "        print(values)\n",
    "        print(\"\\n\\n\")\n"
   ]
  },
  {
   "cell_type": "code",
   "execution_count": 22,
   "metadata": {},
   "outputs": [
    {
     "name": "stdout",
     "output_type": "stream",
     "text": [
      "Receiving update from node: 'tool'\n",
      "{'messages': [ToolMessage(content='Successfully executed:\\n\\'\\'\\'python\\nimport matplotlib.pyplot as plt\\n\\n# US GDP data from 2019 to 2023\\nyears = [2019, 2020, 2021, 2022, 2023]\\ngdp_values = [21521.40, 21322.95, 23594.03, 25744.11, 27360.94]  # in billion USD\\n\\nplt.figure(figsize=(10, 5))\\nplt.plot(years, gdp_values, marker=\\'o\\')\\nplt.title(\\'US GDP from 2019 to 2023\\')\\nplt.xlabel(\\'Year\\')\\nplt.ylabel(\\'GDP (in Billion USD)\\')\\nplt.xticks(years)\\nplt.grid()\\nplt.show()\\n\\'\\'\\'\\nStdout: ModuleNotFoundError(\"No module named \\'matplotlib\\'\")\\n\\nIf you hav completed all tasks, respond with FINAL ANSWER.', name='python_repl', id='9d7a2c2c-9fc8-4608-957b-62da8220c6ae', tool_call_id='call_CuoYjnNKrzvHYCP2OQkYsnE0')]}\n",
      "\n",
      "\n",
      "\n",
      "Receiving update from node: 'agent'\n",
      "{'messages': [AIMessage(content='최근 5개년(2019-2023) 미국의 GDP 데이터를 기반으로 한 차트를 생성할 수 없는 상황입니다. 그러나 아래의 GDP 수치를 제공해 드릴 수 있습니다.\\n\\n- **2019년:** 21,521.40억 달러\\n- **2020년:** 21,322.95억 달러\\n- **2021년:** 23,594.03억 달러\\n- **2022년:** 25,744.11억 달러\\n- **2023년:** 27,360.94억 달러\\n\\n이 데이터를 사용하여 차트를 직접 생성하시거나 다른 시각화 도구를 사용하여 시각화하실 수 있습니다. 추가적인 도움이 필요하시면 말씀해 주세요!', additional_kwargs={'refusal': None}, response_metadata={'token_usage': {'completion_tokens': 160, 'prompt_tokens': 1528, 'total_tokens': 1688, 'completion_tokens_details': {'accepted_prediction_tokens': 0, 'audio_tokens': 0, 'reasoning_tokens': 0, 'rejected_prediction_tokens': 0}, 'prompt_tokens_details': {'audio_tokens': 0, 'cached_tokens': 1280}}, 'model_name': 'gpt-4o-mini-2024-07-18', 'system_fingerprint': 'fp_72ed7ab54c', 'finish_reason': 'stop', 'logprobs': None}, id='run-155bb053-cee0-4594-ab15-5c5e6a7b80e1-0', usage_metadata={'input_tokens': 1528, 'output_tokens': 160, 'total_tokens': 1688, 'input_token_details': {'audio': 0, 'cache_read': 1280}, 'output_token_details': {'audio': 0, 'reasoning': 0}})]}\n",
      "\n",
      "\n",
      "\n"
     ]
    }
   ],
   "source": [
    "# intterupt 되서 멈춘 thread를 이어 실행 (None)\n",
    "async for chunk in app.astream(None, thread, stream_mode=\"updates\"):\n",
    "    for node, values in chunk.items():\n",
    "        print(f\"Receiving update from node: '{node}'\")\n",
    "        print(values)\n",
    "        print(\"\\n\\n\")\n"
   ]
  },
  {
   "cell_type": "code",
   "execution_count": null,
   "metadata": {},
   "outputs": [],
   "source": []
  }
 ],
 "metadata": {
  "kernelspec": {
   "display_name": "myenv",
   "language": "python",
   "name": "python3"
  },
  "language_info": {
   "codemirror_mode": {
    "name": "ipython",
    "version": 3
   },
   "file_extension": ".py",
   "mimetype": "text/x-python",
   "name": "python",
   "nbconvert_exporter": "python",
   "pygments_lexer": "ipython3",
   "version": "3.11.8"
  }
 },
 "nbformat": 4,
 "nbformat_minor": 2
}
