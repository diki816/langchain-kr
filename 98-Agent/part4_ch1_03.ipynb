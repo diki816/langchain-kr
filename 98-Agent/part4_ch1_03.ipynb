{
 "cells": [
  {
   "cell_type": "markdown",
   "metadata": {},
   "source": [
    "Perplexity 에이전트 시스템"
   ]
  },
  {
   "cell_type": "code",
   "execution_count": 10,
   "metadata": {},
   "outputs": [],
   "source": [
    "# !pip install langchain_chroma pytube youtube-search youtbue-transcript-api next_asyncio wolframalpha arxiv"
   ]
  },
  {
   "cell_type": "code",
   "execution_count": 11,
   "metadata": {},
   "outputs": [
    {
     "data": {
      "text/plain": [
       "True"
      ]
     },
     "execution_count": 11,
     "metadata": {},
     "output_type": "execute_result"
    }
   ],
   "source": [
    "from dotenv import load_dotenv\n",
    "load_dotenv()"
   ]
  },
  {
   "cell_type": "markdown",
   "metadata": {},
   "source": [
    "WolframAlpha API 활용을 위한 비동기 설정\n",
    "- async 호출만 가능하므로 nest_asyncio이용"
   ]
  },
  {
   "cell_type": "code",
   "execution_count": 12,
   "metadata": {},
   "outputs": [],
   "source": [
    "import asyncio\n",
    "asyncio.set_event_loop_policy(asyncio.DefaultEventLoopPolicy())\n",
    "\n",
    "import nest_asyncio\n",
    "nest_asyncio.apply()"
   ]
  },
  {
   "cell_type": "code",
   "execution_count": 13,
   "metadata": {},
   "outputs": [],
   "source": [
    "from langchain_community.utilities.wolfram_alpha import WolframAlphaAPIWrapper\n",
    "wolfram = WolframAlphaAPIWrapper()"
   ]
  },
  {
   "cell_type": "code",
   "execution_count": 14,
   "metadata": {},
   "outputs": [],
   "source": [
    "from typing import Annotated, Literal\n",
    "from typing_extensions import TypedDict\n",
    "from langgraph.graph.message import add_messages\n",
    "\n",
    "class State(TypedDict):\n",
    "    messages: Annotated[list, add_messages]\n",
    "    focus: Literal[\"web\", \"academic\", \"video\", \"math\"]"
   ]
  },
  {
   "cell_type": "markdown",
   "metadata": {},
   "source": [
    "웹 검색, 눈문 검색, 수학 계산 도구 정의"
   ]
  },
  {
   "cell_type": "code",
   "execution_count": 15,
   "metadata": {},
   "outputs": [],
   "source": [
    "from langchain_community.tools.tavily_search import TavilySearchResults\n",
    "from langchain_community.utilities import ArxivAPIWrapper\n",
    "from langchain_community.tools import YouTubeSearchTool\n",
    "from langchain_community.utilities.wolfram_alpha import WolframAlphaAPIWrapper\n",
    "from langchain_core.tools import tool\n",
    "from langgraph.prebuilt import ToolNode\n",
    "import re\n",
    "\n",
    "web_tool = TavilySearchResults(max_results=3)\n",
    "\n",
    "@tool\n",
    "def academic_tool(query:str):\n",
    "    \"\"\"\n",
    "    academic paper search tool\n",
    "    \"\"\"\n",
    "    arxiv = ArxivAPIWrapper()\n",
    "    docs = arxiv.run(query)\n",
    "    return docs\n",
    "\n",
    "@tool\n",
    "def math_tool(query:str):\n",
    "    \"\"\"\n",
    "    math tool\n",
    "    \"\"\"\n",
    "    wolfram = WolframAlphaAPIWrapper()\n",
    "    result = wolfram.run(query)\n",
    "    return result"
   ]
  },
  {
   "cell_type": "code",
   "execution_count": 16,
   "metadata": {},
   "outputs": [
    {
     "data": {
      "text/plain": [
       "\"Published: 2024-12-13\\nTitle: DeepSeek-VL2: Mixture-of-Experts Vision-Language Models for Advanced Multimodal Understanding\\nAuthors: Zhiyu Wu, Xiaokang Chen, Zizheng Pan, Xingchao Liu, Wen Liu, Damai Dai, Huazuo Gao, Yiyang Ma, Chengyue Wu, Bingxuan Wang, Zhenda Xie, Yu Wu, Kai Hu, Jiawei Wang, Yaofeng Sun, Yukun Li, Yishi Piao, Kang Guan, Aixin Liu, Xin Xie, Yuxiang You, Kai Dong, Xingkai Yu, Haowei Zhang, Liang Zhao, Yisong Wang, Chong Ruan\\nSummary: We present DeepSeek-VL2, an advanced series of large Mixture-of-Experts (MoE)\\nVision-Language Models that significantly improves upon its predecessor,\\nDeepSeek-VL, through two key major upgrades. For the vision component, we\\nincorporate a dynamic tiling vision encoding strategy designed for processing\\nhigh-resolution images with different aspect ratios. For the language\\ncomponent, we leverage DeepSeekMoE models with the Multi-head Latent Attention\\nmechanism, which compresses Key-Value cache into latent vectors, to enable\\nefficient inference and high throughput. Trained on an improved vision-language\\ndataset, DeepSeek-VL2 demonstrates superior capabilities across various tasks,\\nincluding but not limited to visual question answering, optical character\\nrecognition, document/table/chart understanding, and visual grounding. Our\\nmodel series is composed of three variants: DeepSeek-VL2-Tiny,\\nDeepSeek-VL2-Small and DeepSeek-VL2, with 1.0B, 2.8B and 4.5B activated\\nparameters respectively. DeepSeek-VL2 achieves competitive or state-of-the-art\\nperformance with similar or fewer activated parameters compared to existing\\nopen-source dense and MoE-based models. Codes and pre-trained models are\\npublicly accessible at https://github.com/deepseek-ai/DeepSeek-VL2.\\n\\nPublished: 2025-01-30\\nTitle: Token-Hungry, Yet Precise: DeepSeek R1 Highlights the Need for Multi-Step Reasoning Over Speed in MATH\\nAuthors: Evgenii Evstafev\\nSummary: This study investigates the performance of the DeepSeek R1 language model on\\n30 challenging mathematical problems derived from the MATH dataset, problems\\nthat previously proved unsolvable by other models under time constraints.\\nUnlike prior work, this research removes time limitations to explore whether\\nDeepSeek R1's architecture, known for its reliance on token-based reasoning,\\ncan achieve accurate solutions through a multi-step process. The study compares\\nDeepSeek R1 with four other models (gemini-1.5-flash-8b,\\ngpt-4o-mini-2024-07-18, llama3.1:8b, and mistral-8b-latest) across 11\\ntemperature settings. Results demonstrate that DeepSeek R1 achieves superior\\naccuracy on these complex problems but generates significantly more tokens than\\nother models, confirming its token-intensive approach. The findings highlight a\\ntrade-off between accuracy and efficiency in mathematical problem-solving with\\nlarge language models: while DeepSeek R1 excels in accuracy, its reliance on\\nextensive token generation may not be optimal for applications requiring rapid\\nresponses. The study underscores the importance of considering task-specific\\nrequirements when selecting an LLM and emphasizes the role of temperature\\nsettings in optimizing performance.\\n\\nPublished: 2024-06-17\\nTitle: DeepSeek-Coder-V2: Breaking the Barrier of Closed-Source Models in Code Intelligence\\nAuthors: DeepSeek-AI, Qihao Zhu, Daya Guo, Zhihong Shao, Dejian Yang, Peiyi Wang, Runxin Xu, Y. Wu, Yukun Li, Huazuo Gao, Shirong Ma, Wangding Zeng, Xiao Bi, Zihui Gu, Hanwei Xu, Damai Dai, Kai Dong, Liyue Zhang, Yishi Piao, Zhibin Gou, Zhenda Xie, Zhewen Hao, Bingxuan Wang, Junxiao Song, Deli Chen, Xin Xie, Kang Guan, Yuxiang You, Aixin Liu, Qiushi Du, Wenjun Gao, Xuan Lu, Qinyu Chen, Yaohui Wang, Chengqi Deng, Jiashi Li, Chenggang Zhao, Chong Ruan, Fuli Luo, Wenfeng Liang\\nSummary: We present DeepSeek-Coder-V2, an open-source Mixture-of-Experts (MoE) code\\nlanguage model that achieves performance comparable to GPT4-Turbo in\\ncode-specific tasks. Specifically, DeepSeek-Coder-V2 is further pre-trained\\nfrom an intermediate checkpoint of DeepS\""
      ]
     },
     "execution_count": 16,
     "metadata": {},
     "output_type": "execute_result"
    }
   ],
   "source": [
    "# Test\n",
    "academic_tool.run(\"DeepSeek Principle\")"
   ]
  },
  {
   "cell_type": "code",
   "execution_count": 17,
   "metadata": {},
   "outputs": [
    {
     "data": {
      "text/plain": [
       "'Assumption: 123×123^2 \\nAnswer: 1860867'"
      ]
     },
     "execution_count": 17,
     "metadata": {},
     "output_type": "execute_result"
    }
   ],
   "source": [
    "# Test\n",
    "math_tool.run(\"123*123^2\")"
   ]
  },
  {
   "cell_type": "code",
   "execution_count": 23,
   "metadata": {},
   "outputs": [],
   "source": [
    "from langchain_chroma import Chroma\n",
    "from langchain_openai import OpenAIEmbeddings\n",
    "from langchain_text_splitters import RecursiveCharacterTextSplitter\n",
    "from langchain_community.tools import YouTubeSearchTool\n",
    "from langchain_community.document_loaders import YoutubeLoader\n",
    "from langchain_core.documents import Document\n",
    "import ast\n",
    "\n",
    "youtube_search_tool = YouTubeSearchTool()\n",
    "\n",
    "@tool\n",
    "def video_tool(query: str) -> str:\n",
    "    \"\"\"\n",
    "    Retriever tool for the transcript for a YouTube video.\n",
    "    If user want to find some information, this tool is good to gather youtube video information.\n",
    "    query should be given in string format.\n",
    "    \"\"\"\n",
    "    urls = youtube_search_tool.run(query)\n",
    "    urls = ast.literal_eval(urls)\n",
    "    docs = []\n",
    "    for url in urls:\n",
    "        loader = YoutubeLoader.from_youtube_url(\n",
    "            url, add_video_info=True, language=[\"en\", \"ko\"]\n",
    "        )\n",
    "        scripts = loader.load()\n",
    "        script_content = scripts[0].page_content\n",
    "        # title = scripts[0].metadata['title']\n",
    "        # author = scripts[0].metadata['author']\n",
    "        author = \"Unknown\"\n",
    "        title = \"Unknown\"\n",
    "        doc = Document(page_content=script_content, metadata={\"source\": url, \"title\": title, \"author\":author})\n",
    "        docs.append(doc)\n",
    "\n",
    "    text_splitter = RecursiveCharacterTextSplitter(\n",
    "        separators = [\"\\n\\n\", \"\\n\", \".\", \",\", \" \", \"\"],\n",
    "        chunk_size = 1000, chunk_overlap=0\n",
    "    )\n",
    "    texts = text_splitter.split_documents(docs)\n",
    "    embeddings = OpenAIEmbeddings()\n",
    "    db = Chroma.from_documents(texts, embeddings)\n",
    "    retriever = db.as_retriever()\n",
    "    retrieved_docs = retriever.invoke(query)\n",
    "\n",
    "    video_results = []\n",
    "    for doc in retrieved_docs:\n",
    "        title = doc.metadata.get('title', 'No title available')\n",
    "        author = doc.metadata.get('author', 'No author available')\n",
    "        script_content = doc.page_content\n",
    "\n",
    "        video_info = f\"\"\"\n",
    "        Video Information:\n",
    "        ------------------\n",
    "        Title: {title}\n",
    "        Author: {author}\n",
    "        Transcript: {script_content}\n",
    "        ------------------\n",
    "        \"\"\"\n",
    "        video_results.append(video_info)\n",
    "    \n",
    "    return \"\\n\\n\".join(video_results)"
   ]
  },
  {
   "cell_type": "code",
   "execution_count": 26,
   "metadata": {},
   "outputs": [
    {
     "ename": "PytubeError",
     "evalue": "Exception while accessing title of https://youtube.com/watch?v=rqAE9OiK4CY. Please file a bug report at https://github.com/pytube/pytube",
     "output_type": "error",
     "traceback": [
      "\u001b[1;31m---------------------------------------------------------------------------\u001b[0m",
      "\u001b[1;31mKeyError\u001b[0m                                  Traceback (most recent call last)",
      "File \u001b[1;32md:\\Python\\Python311\\Lib\\site-packages\\pytube\\__main__.py:341\u001b[0m, in \u001b[0;36mYouTube.title\u001b[1;34m(self)\u001b[0m\n\u001b[0;32m    340\u001b[0m \u001b[38;5;28;01mtry\u001b[39;00m:\n\u001b[1;32m--> 341\u001b[0m     \u001b[38;5;28mself\u001b[39m\u001b[38;5;241m.\u001b[39m_title \u001b[38;5;241m=\u001b[39m \u001b[38;5;28;43mself\u001b[39;49m\u001b[38;5;241;43m.\u001b[39;49m\u001b[43mvid_info\u001b[49m\u001b[43m[\u001b[49m\u001b[38;5;124;43m'\u001b[39;49m\u001b[38;5;124;43mvideoDetails\u001b[39;49m\u001b[38;5;124;43m'\u001b[39;49m\u001b[43m]\u001b[49m[\u001b[38;5;124m'\u001b[39m\u001b[38;5;124mtitle\u001b[39m\u001b[38;5;124m'\u001b[39m]\n\u001b[0;32m    342\u001b[0m \u001b[38;5;28;01mexcept\u001b[39;00m \u001b[38;5;167;01mKeyError\u001b[39;00m:\n\u001b[0;32m    343\u001b[0m     \u001b[38;5;66;03m# Check_availability will raise the correct exception in most cases\u001b[39;00m\n\u001b[0;32m    344\u001b[0m     \u001b[38;5;66;03m#  if it doesn't, ask for a report.\u001b[39;00m\n",
      "\u001b[1;31mKeyError\u001b[0m: 'videoDetails'",
      "\nDuring handling of the above exception, another exception occurred:\n",
      "\u001b[1;31mPytubeError\u001b[0m                               Traceback (most recent call last)",
      "Cell \u001b[1;32mIn[26], line 1\u001b[0m\n\u001b[1;32m----> 1\u001b[0m \u001b[43mvideo_tool\u001b[49m\u001b[38;5;241;43m.\u001b[39;49m\u001b[43mrun\u001b[49m\u001b[43m(\u001b[49m\u001b[38;5;124;43m\"\u001b[39;49m\u001b[38;5;124;43mIU가 누구야?\u001b[39;49m\u001b[38;5;124;43m\"\u001b[39;49m\u001b[43m)\u001b[49m\n",
      "File \u001b[1;32md:\\Python\\Python311\\Lib\\site-packages\\langchain_core\\tools\\base.py:725\u001b[0m, in \u001b[0;36mBaseTool.run\u001b[1;34m(self, tool_input, verbose, start_color, color, callbacks, tags, metadata, run_name, run_id, config, tool_call_id, **kwargs)\u001b[0m\n\u001b[0;32m    723\u001b[0m \u001b[38;5;28;01mif\u001b[39;00m error_to_raise:\n\u001b[0;32m    724\u001b[0m     run_manager\u001b[38;5;241m.\u001b[39mon_tool_error(error_to_raise)\n\u001b[1;32m--> 725\u001b[0m     \u001b[38;5;28;01mraise\u001b[39;00m error_to_raise\n\u001b[0;32m    726\u001b[0m output \u001b[38;5;241m=\u001b[39m _format_output(content, artifact, tool_call_id, \u001b[38;5;28mself\u001b[39m\u001b[38;5;241m.\u001b[39mname, status)\n\u001b[0;32m    727\u001b[0m run_manager\u001b[38;5;241m.\u001b[39mon_tool_end(output, color\u001b[38;5;241m=\u001b[39mcolor, name\u001b[38;5;241m=\u001b[39m\u001b[38;5;28mself\u001b[39m\u001b[38;5;241m.\u001b[39mname, \u001b[38;5;241m*\u001b[39m\u001b[38;5;241m*\u001b[39mkwargs)\n",
      "File \u001b[1;32md:\\Python\\Python311\\Lib\\site-packages\\langchain_core\\tools\\base.py:694\u001b[0m, in \u001b[0;36mBaseTool.run\u001b[1;34m(self, tool_input, verbose, start_color, color, callbacks, tags, metadata, run_name, run_id, config, tool_call_id, **kwargs)\u001b[0m\n\u001b[0;32m    692\u001b[0m \u001b[38;5;28;01mif\u001b[39;00m config_param \u001b[38;5;241m:=\u001b[39m _get_runnable_config_param(\u001b[38;5;28mself\u001b[39m\u001b[38;5;241m.\u001b[39m_run):\n\u001b[0;32m    693\u001b[0m     tool_kwargs \u001b[38;5;241m=\u001b[39m tool_kwargs \u001b[38;5;241m|\u001b[39m {config_param: config}\n\u001b[1;32m--> 694\u001b[0m response \u001b[38;5;241m=\u001b[39m \u001b[43mcontext\u001b[49m\u001b[38;5;241;43m.\u001b[39;49m\u001b[43mrun\u001b[49m\u001b[43m(\u001b[49m\u001b[38;5;28;43mself\u001b[39;49m\u001b[38;5;241;43m.\u001b[39;49m\u001b[43m_run\u001b[49m\u001b[43m,\u001b[49m\u001b[43m \u001b[49m\u001b[38;5;241;43m*\u001b[39;49m\u001b[43mtool_args\u001b[49m\u001b[43m,\u001b[49m\u001b[43m \u001b[49m\u001b[38;5;241;43m*\u001b[39;49m\u001b[38;5;241;43m*\u001b[39;49m\u001b[43mtool_kwargs\u001b[49m\u001b[43m)\u001b[49m\n\u001b[0;32m    695\u001b[0m \u001b[38;5;28;01mif\u001b[39;00m \u001b[38;5;28mself\u001b[39m\u001b[38;5;241m.\u001b[39mresponse_format \u001b[38;5;241m==\u001b[39m \u001b[38;5;124m\"\u001b[39m\u001b[38;5;124mcontent_and_artifact\u001b[39m\u001b[38;5;124m\"\u001b[39m:\n\u001b[0;32m    696\u001b[0m     \u001b[38;5;28;01mif\u001b[39;00m \u001b[38;5;129;01mnot\u001b[39;00m \u001b[38;5;28misinstance\u001b[39m(response, \u001b[38;5;28mtuple\u001b[39m) \u001b[38;5;129;01mor\u001b[39;00m \u001b[38;5;28mlen\u001b[39m(response) \u001b[38;5;241m!=\u001b[39m \u001b[38;5;241m2\u001b[39m:\n",
      "File \u001b[1;32md:\\Python\\Python311\\Lib\\site-packages\\langchain_core\\tools\\structured.py:80\u001b[0m, in \u001b[0;36mStructuredTool._run\u001b[1;34m(self, config, run_manager, *args, **kwargs)\u001b[0m\n\u001b[0;32m     78\u001b[0m     \u001b[38;5;28;01mif\u001b[39;00m config_param \u001b[38;5;241m:=\u001b[39m _get_runnable_config_param(\u001b[38;5;28mself\u001b[39m\u001b[38;5;241m.\u001b[39mfunc):\n\u001b[0;32m     79\u001b[0m         kwargs[config_param] \u001b[38;5;241m=\u001b[39m config\n\u001b[1;32m---> 80\u001b[0m     \u001b[38;5;28;01mreturn\u001b[39;00m \u001b[38;5;28;43mself\u001b[39;49m\u001b[38;5;241;43m.\u001b[39;49m\u001b[43mfunc\u001b[49m\u001b[43m(\u001b[49m\u001b[38;5;241;43m*\u001b[39;49m\u001b[43margs\u001b[49m\u001b[43m,\u001b[49m\u001b[43m \u001b[49m\u001b[38;5;241;43m*\u001b[39;49m\u001b[38;5;241;43m*\u001b[39;49m\u001b[43mkwargs\u001b[49m\u001b[43m)\u001b[49m\n\u001b[0;32m     81\u001b[0m msg \u001b[38;5;241m=\u001b[39m \u001b[38;5;124m\"\u001b[39m\u001b[38;5;124mStructuredTool does not support sync invocation.\u001b[39m\u001b[38;5;124m\"\u001b[39m\n\u001b[0;32m     82\u001b[0m \u001b[38;5;28;01mraise\u001b[39;00m \u001b[38;5;167;01mNotImplementedError\u001b[39;00m(msg)\n",
      "Cell \u001b[1;32mIn[23], line 25\u001b[0m, in \u001b[0;36mvideo_tool\u001b[1;34m(query)\u001b[0m\n\u001b[0;32m     21\u001b[0m \u001b[38;5;28;01mfor\u001b[39;00m url \u001b[38;5;129;01min\u001b[39;00m urls:\n\u001b[0;32m     22\u001b[0m     loader \u001b[38;5;241m=\u001b[39m YoutubeLoader\u001b[38;5;241m.\u001b[39mfrom_youtube_url(\n\u001b[0;32m     23\u001b[0m         url, add_video_info\u001b[38;5;241m=\u001b[39m\u001b[38;5;28;01mTrue\u001b[39;00m, language\u001b[38;5;241m=\u001b[39m[\u001b[38;5;124m\"\u001b[39m\u001b[38;5;124men\u001b[39m\u001b[38;5;124m\"\u001b[39m, \u001b[38;5;124m\"\u001b[39m\u001b[38;5;124mko\u001b[39m\u001b[38;5;124m\"\u001b[39m]\n\u001b[0;32m     24\u001b[0m     )\n\u001b[1;32m---> 25\u001b[0m     scripts \u001b[38;5;241m=\u001b[39m \u001b[43mloader\u001b[49m\u001b[38;5;241;43m.\u001b[39;49m\u001b[43mload\u001b[49m\u001b[43m(\u001b[49m\u001b[43m)\u001b[49m\n\u001b[0;32m     26\u001b[0m     script_content \u001b[38;5;241m=\u001b[39m scripts[\u001b[38;5;241m0\u001b[39m]\u001b[38;5;241m.\u001b[39mpage_content\n\u001b[0;32m     27\u001b[0m     \u001b[38;5;66;03m# title = scripts[0].metadata['title']\u001b[39;00m\n\u001b[0;32m     28\u001b[0m     \u001b[38;5;66;03m# author = scripts[0].metadata['author']\u001b[39;00m\n",
      "File \u001b[1;32md:\\Python\\Python311\\Lib\\site-packages\\langchain_community\\document_loaders\\youtube.py:257\u001b[0m, in \u001b[0;36mYoutubeLoader.load\u001b[1;34m(self)\u001b[0m\n\u001b[0;32m    249\u001b[0m     \u001b[38;5;28;01mraise\u001b[39;00m \u001b[38;5;167;01mImportError\u001b[39;00m(\n\u001b[0;32m    250\u001b[0m         \u001b[38;5;124m'\u001b[39m\u001b[38;5;124mCould not import \u001b[39m\u001b[38;5;124m\"\u001b[39m\u001b[38;5;124myoutube_transcript_api\u001b[39m\u001b[38;5;124m\"\u001b[39m\u001b[38;5;124m Python package. \u001b[39m\u001b[38;5;124m'\u001b[39m\n\u001b[0;32m    251\u001b[0m         \u001b[38;5;124m\"\u001b[39m\u001b[38;5;124mPlease install it with `pip install youtube-transcript-api`.\u001b[39m\u001b[38;5;124m\"\u001b[39m\n\u001b[0;32m    252\u001b[0m     )\n\u001b[0;32m    254\u001b[0m \u001b[38;5;28;01mif\u001b[39;00m \u001b[38;5;28mself\u001b[39m\u001b[38;5;241m.\u001b[39madd_video_info:\n\u001b[0;32m    255\u001b[0m     \u001b[38;5;66;03m# Get more video meta info\u001b[39;00m\n\u001b[0;32m    256\u001b[0m     \u001b[38;5;66;03m# Such as title, description, thumbnail url, publish_date\u001b[39;00m\n\u001b[1;32m--> 257\u001b[0m     video_info \u001b[38;5;241m=\u001b[39m \u001b[38;5;28;43mself\u001b[39;49m\u001b[38;5;241;43m.\u001b[39;49m\u001b[43m_get_video_info\u001b[49m\u001b[43m(\u001b[49m\u001b[43m)\u001b[49m\n\u001b[0;32m    258\u001b[0m     \u001b[38;5;28mself\u001b[39m\u001b[38;5;241m.\u001b[39m_metadata\u001b[38;5;241m.\u001b[39mupdate(video_info)\n\u001b[0;32m    260\u001b[0m \u001b[38;5;28;01mtry\u001b[39;00m:\n",
      "File \u001b[1;32md:\\Python\\Python311\\Lib\\site-packages\\langchain_community\\document_loaders\\youtube.py:324\u001b[0m, in \u001b[0;36mYoutubeLoader._get_video_info\u001b[1;34m(self)\u001b[0m\n\u001b[0;32m    318\u001b[0m     \u001b[38;5;28;01mraise\u001b[39;00m \u001b[38;5;167;01mImportError\u001b[39;00m(\n\u001b[0;32m    319\u001b[0m         \u001b[38;5;124m'\u001b[39m\u001b[38;5;124mCould not import \u001b[39m\u001b[38;5;124m\"\u001b[39m\u001b[38;5;124mpytube\u001b[39m\u001b[38;5;124m\"\u001b[39m\u001b[38;5;124m Python package. \u001b[39m\u001b[38;5;124m'\u001b[39m\n\u001b[0;32m    320\u001b[0m         \u001b[38;5;124m\"\u001b[39m\u001b[38;5;124mPlease install it with `pip install pytube`.\u001b[39m\u001b[38;5;124m\"\u001b[39m\n\u001b[0;32m    321\u001b[0m     )\n\u001b[0;32m    322\u001b[0m yt \u001b[38;5;241m=\u001b[39m YouTube(\u001b[38;5;124mf\u001b[39m\u001b[38;5;124m\"\u001b[39m\u001b[38;5;124mhttps://www.youtube.com/watch?v=\u001b[39m\u001b[38;5;132;01m{\u001b[39;00m\u001b[38;5;28mself\u001b[39m\u001b[38;5;241m.\u001b[39mvideo_id\u001b[38;5;132;01m}\u001b[39;00m\u001b[38;5;124m\"\u001b[39m)\n\u001b[0;32m    323\u001b[0m video_info \u001b[38;5;241m=\u001b[39m {\n\u001b[1;32m--> 324\u001b[0m     \u001b[38;5;124m\"\u001b[39m\u001b[38;5;124mtitle\u001b[39m\u001b[38;5;124m\"\u001b[39m: \u001b[43myt\u001b[49m\u001b[38;5;241;43m.\u001b[39;49m\u001b[43mtitle\u001b[49m \u001b[38;5;129;01mor\u001b[39;00m \u001b[38;5;124m\"\u001b[39m\u001b[38;5;124mUnknown\u001b[39m\u001b[38;5;124m\"\u001b[39m,\n\u001b[0;32m    325\u001b[0m     \u001b[38;5;124m\"\u001b[39m\u001b[38;5;124mdescription\u001b[39m\u001b[38;5;124m\"\u001b[39m: yt\u001b[38;5;241m.\u001b[39mdescription \u001b[38;5;129;01mor\u001b[39;00m \u001b[38;5;124m\"\u001b[39m\u001b[38;5;124mUnknown\u001b[39m\u001b[38;5;124m\"\u001b[39m,\n\u001b[0;32m    326\u001b[0m     \u001b[38;5;124m\"\u001b[39m\u001b[38;5;124mview_count\u001b[39m\u001b[38;5;124m\"\u001b[39m: yt\u001b[38;5;241m.\u001b[39mviews \u001b[38;5;129;01mor\u001b[39;00m \u001b[38;5;241m0\u001b[39m,\n\u001b[0;32m    327\u001b[0m     \u001b[38;5;124m\"\u001b[39m\u001b[38;5;124mthumbnail_url\u001b[39m\u001b[38;5;124m\"\u001b[39m: yt\u001b[38;5;241m.\u001b[39mthumbnail_url \u001b[38;5;129;01mor\u001b[39;00m \u001b[38;5;124m\"\u001b[39m\u001b[38;5;124mUnknown\u001b[39m\u001b[38;5;124m\"\u001b[39m,\n\u001b[0;32m    328\u001b[0m     \u001b[38;5;124m\"\u001b[39m\u001b[38;5;124mpublish_date\u001b[39m\u001b[38;5;124m\"\u001b[39m: yt\u001b[38;5;241m.\u001b[39mpublish_date\u001b[38;5;241m.\u001b[39mstrftime(\u001b[38;5;124m\"\u001b[39m\u001b[38;5;124m%\u001b[39m\u001b[38;5;124mY-\u001b[39m\u001b[38;5;124m%\u001b[39m\u001b[38;5;124mm-\u001b[39m\u001b[38;5;132;01m%d\u001b[39;00m\u001b[38;5;124m \u001b[39m\u001b[38;5;124m%\u001b[39m\u001b[38;5;124mH:\u001b[39m\u001b[38;5;124m%\u001b[39m\u001b[38;5;124mM:\u001b[39m\u001b[38;5;124m%\u001b[39m\u001b[38;5;124mS\u001b[39m\u001b[38;5;124m\"\u001b[39m)\n\u001b[0;32m    329\u001b[0m     \u001b[38;5;28;01mif\u001b[39;00m yt\u001b[38;5;241m.\u001b[39mpublish_date\n\u001b[0;32m    330\u001b[0m     \u001b[38;5;28;01melse\u001b[39;00m \u001b[38;5;124m\"\u001b[39m\u001b[38;5;124mUnknown\u001b[39m\u001b[38;5;124m\"\u001b[39m,\n\u001b[0;32m    331\u001b[0m     \u001b[38;5;124m\"\u001b[39m\u001b[38;5;124mlength\u001b[39m\u001b[38;5;124m\"\u001b[39m: yt\u001b[38;5;241m.\u001b[39mlength \u001b[38;5;129;01mor\u001b[39;00m \u001b[38;5;241m0\u001b[39m,\n\u001b[0;32m    332\u001b[0m     \u001b[38;5;124m\"\u001b[39m\u001b[38;5;124mauthor\u001b[39m\u001b[38;5;124m\"\u001b[39m: yt\u001b[38;5;241m.\u001b[39mauthor \u001b[38;5;129;01mor\u001b[39;00m \u001b[38;5;124m\"\u001b[39m\u001b[38;5;124mUnknown\u001b[39m\u001b[38;5;124m\"\u001b[39m,\n\u001b[0;32m    333\u001b[0m }\n\u001b[0;32m    334\u001b[0m \u001b[38;5;28;01mreturn\u001b[39;00m video_info\n",
      "File \u001b[1;32md:\\Python\\Python311\\Lib\\site-packages\\pytube\\__main__.py:346\u001b[0m, in \u001b[0;36mYouTube.title\u001b[1;34m(self)\u001b[0m\n\u001b[0;32m    342\u001b[0m \u001b[38;5;28;01mexcept\u001b[39;00m \u001b[38;5;167;01mKeyError\u001b[39;00m:\n\u001b[0;32m    343\u001b[0m     \u001b[38;5;66;03m# Check_availability will raise the correct exception in most cases\u001b[39;00m\n\u001b[0;32m    344\u001b[0m     \u001b[38;5;66;03m#  if it doesn't, ask for a report.\u001b[39;00m\n\u001b[0;32m    345\u001b[0m     \u001b[38;5;28mself\u001b[39m\u001b[38;5;241m.\u001b[39mcheck_availability()\n\u001b[1;32m--> 346\u001b[0m     \u001b[38;5;28;01mraise\u001b[39;00m exceptions\u001b[38;5;241m.\u001b[39mPytubeError(\n\u001b[0;32m    347\u001b[0m         (\n\u001b[0;32m    348\u001b[0m             \u001b[38;5;124mf\u001b[39m\u001b[38;5;124m'\u001b[39m\u001b[38;5;124mException while accessing title of \u001b[39m\u001b[38;5;132;01m{\u001b[39;00m\u001b[38;5;28mself\u001b[39m\u001b[38;5;241m.\u001b[39mwatch_url\u001b[38;5;132;01m}\u001b[39;00m\u001b[38;5;124m. \u001b[39m\u001b[38;5;124m'\u001b[39m\n\u001b[0;32m    349\u001b[0m             \u001b[38;5;124m'\u001b[39m\u001b[38;5;124mPlease file a bug report at https://github.com/pytube/pytube\u001b[39m\u001b[38;5;124m'\u001b[39m\n\u001b[0;32m    350\u001b[0m         )\n\u001b[0;32m    351\u001b[0m     )\n\u001b[0;32m    353\u001b[0m \u001b[38;5;28;01mreturn\u001b[39;00m \u001b[38;5;28mself\u001b[39m\u001b[38;5;241m.\u001b[39m_title\n",
      "\u001b[1;31mPytubeError\u001b[0m: Exception while accessing title of https://youtube.com/watch?v=rqAE9OiK4CY. Please file a bug report at https://github.com/pytube/pytube"
     ]
    }
   ],
   "source": [
    "video_tool.run(\"IU가 누구야?\")"
   ]
  },
  {
   "cell_type": "code",
   "execution_count": null,
   "metadata": {},
   "outputs": [
    {
     "name": "stdout",
     "output_type": "stream",
     "text": [
      "{'responseContext': {'visitorData': 'CgttTzBkOWdpODJ0TSjd6qK9BjIKCgJLUhIEGgAgTA%3D%3D', 'serviceTrackingParams': [{'service': 'GFEEDBACK', 'params': [{'key': 'ipcc', 'value': '0'}, {'key': 'is_viewed_live', 'value': 'False'}, {'key': 'is_alc_surface', 'value': 'false'}, {'key': 'logged_in', 'value': '0'}, {'key': 'e', 'value': '9406121,24004644,24077241,24078649,24173287,24181174,24241378,24290153,24548629,24552800,24556101,39328397,51020570,51025415,51037346,51037349,51043774,51050361,51053689,51065188,51089007,51111738,51115184,51124104,51152050,51157411,51176511,51178316,51178327,51178348,51178351,51183909,51217504,51220164,51225393,51227037,51228850,51237842,51242448,51248734,51255676,51256074,51256084,51274583,51276557,51276565,51281227,51285717,51287196,51292055,51296439,51298020,51299710,51299724,51303667,51303669,51303789,51304155,51305494,51305839,51310742,51311031,51311034,51313109,51313767,51313802,51318845,51322669,51326932,51327146,51327165,51327186,51330475,51331481,51331500,51331520,51331533,51331542,51331547,51331552,51331559,51333543,51335392,51335644,51341226,51341975,51342753,51342857,51344672,51346770,51346799,51346812,51346825,51346844,51346859,51346866,51346883,51346904,51349880,51349913,51351446,51353231,51353393,51353996,51354114,51354569,51355259,51355266,51355277,51355291,51355305,51355312,51355333,51355342,51355679,51357477,51357886,51358966,51360106,51360123,51360136,51361828,51362038,51362071,51362455,51362643,51362857,51363738,51363747,51363752,51363765,51363774,51364291,51365459,51365462,51366423,51366864,51367489,51367993,51370094,51371003,51371006,51371294,51371521,51372971,51374438,51375168,51375206,51375719,51376330,51376601,51378379,51379274,51380372,51380387,51380394,51380755,51380768,51380785,51380790,51380807,51380812,51380827,51380894,51381276,51381857,51382376,51382885,51383450,51384306,51384422,51384609,51384888,51385023,51386140,51386361,51386500,51386566,51387927,51388643,51388999,51389172,51389290,51389313,51389867,51390511,51391268,51391338,51392685,51393357,51394776,51394779,51395384,51395558,51397087,51397104,51397222,51398683,51399240,51400811,51401648,51402010,51404168'}, {'key': 'visitor_data', 'value': 'CgttTzBkOWdpODJ0TSjd6qK9BjIKCgJLUhIEGgAgTA%3D%3D'}]}, {'service': 'CSI', 'params': [{'key': 'c', 'value': 'ANDROID_MUSIC'}, {'key': 'cver', 'value': '5.16.51'}, {'key': 'yt_li', 'value': '0'}, {'key': 'GetPlayer_rid', 'value': '0x3e898361429ad61f'}]}, {'service': 'ECATCHER', 'params': [{'key': 'client.version', 'value': '5.16'}, {'key': 'client.name', 'value': 'ANDROID_MUSIC'}]}, {'service': 'LISTNR', 'params': [{'key': 'e', 'value': '51375168,51386500,51391338,51256084,51318845,51237842,51362857,51387927,51296439,51400811,51384422,51382885,51388643,51386566,51362455,51357477,51303789,51287196,51349913,51043774,51371294,51353285,51355679,51371521,51372971,51375206,51379274,51342857,24556101,24220751,51299710,51304155,51255676,51378379,51384609,51305839,51365462,51375719,51303667,51384888,24181174,51242448,51152050,51111738,51274583,51276565,51381857,51225393,51389313,51217504,51256074,51389867,39328397,51376601,51395558,51370094,51303669,51393357,51050361,51276557,51298020,51313767,51330475,51322669,51366423,51383450,24290153,51248734,51367993,51351446,51353393,51292055,51391268,51385023,24548629,51395384,51228850,51299724,51374438,24181216,24286257,51342753,51335392,51025415,51124104,51020570,51285717,51341975,51381276,51354114,51388999,51398683,51389290,51399240,51202133,24274141,51189308,51313802,51053689,24195012,51176511,51157411,51353996,51362643,51386140,51386361,51313109,51326932,51366864,51376301,51404168,51353231'}]}], 'maxAgeSeconds': 0}, 'playabilityStatus': {'status': 'LOGIN_REQUIRED', 'reason': 'Please sign in', 'skip': {'playabilityErrorSkipConfig': {'skipOnPlayabilityError': False}}, 'contextParams': 'Q0FFU0FnZ0I='}, 'trackingParams': 'CAAQu2kiEwiswpLL4LaLAxWFl1YBHc7kDcE=', 'adBreakHeartbeatParams': 'Q0FBJTNE'}\n"
     ]
    }
   ],
   "source": [
    "from pytube import YouTube\n",
    "yt = YouTube(f\"https://www.youtube.com/watch?v=rqAE9OiK4CY\")\n",
    "# yt = YouTube(f\"https://www.youtube.com/watch?v=pDvBiB1waBk\")\n",
    "print(yt.vid_info)\n",
    "# video_info = {\n",
    "#     \"title\": yt.title or \"Unknown\",\n",
    "#     \"description\": yt.description or \"Unknown\",\n",
    "#     \"view_count\": yt.views or 0,\n",
    "#     \"thumbnail_url\": yt.thumbnail_url or \"Unknown\",\n",
    "#     \"publish_date\": yt.publish_date.strftime(\"%Y-%m-%d %H:%M:%S\")\n",
    "#     if yt.publish_date\n",
    "#     else \"Unknown\",\n",
    "#     \"length\": yt.length or 0,\n",
    "#     \"author\": yt.author or \"Unknown\",\n",
    "# }\n",
    "# print(video_info)"
   ]
  },
  {
   "cell_type": "code",
   "execution_count": null,
   "metadata": {},
   "outputs": [],
   "source": [
    "\n",
    "@tool\n",
    "def youtube_tool(query:str):\n",
    "    \"\"\"\n",
    "    youtube tool\n",
    "    \"\"\"\n",
    "    yt = YouTubeSearchTool()\n",
    "    result = yt.run(query)\n",
    "    return result"
   ]
  }
 ],
 "metadata": {
  "kernelspec": {
   "display_name": "Python 3",
   "language": "python",
   "name": "python3"
  },
  "language_info": {
   "codemirror_mode": {
    "name": "ipython",
    "version": 3
   },
   "file_extension": ".py",
   "mimetype": "text/x-python",
   "name": "python",
   "nbconvert_exporter": "python",
   "pygments_lexer": "ipython3",
   "version": "3.11.9"
  }
 },
 "nbformat": 4,
 "nbformat_minor": 2
}
